{
 "cells": [
  {
   "cell_type": "markdown",
   "metadata": {},
   "source": [
    "Olá, \n",
    "\n",
    "Meu nome é Ramon. Fico feliz em revisar seu projeto. Ao ao longo do texto farei algumas observações sobre melhorias no código e também farei comentários sobre suas percepções sobre o assunto. Estarei aberto a feedbacks e discussões sobre o tema.\n",
    "\n",
    "**Peço que mantenha e não altere os comentários que eu fizer por aqui para que possamos nos localizar posteriormente, ok?**\n",
    "\n",
    "Mais uma coisa, vamos utilizar um código de cores para você entender os meus feedbacks no seu notebook. Funciona assim:\n",
    "\n",
    "<div class=\"alert alert-block alert-success\">\n",
    "<b> Comentário do revisor: </b> <a class=\"tocSkip\"></a>\n",
    "\n",
    "Sucesso. Tudo foi feito corretamente.\n",
    "</div>\n",
    "\n",
    "<div class=\"alert alert-block alert-warning\">\n",
    "<b>Comentário do revisor: </b> <a class=\"tocSkip\"></a>\n",
    "\n",
    "Alerta não crítco, mas que pode ser corrigido para melhoria geral no seu código/análise\n",
    "</div>\n",
    "\n",
    "<div class=\"alert alert-block alert-danger\">\n",
    "\n",
    "<b>Comentário do revisor: </b> <a class=\"tocSkip\"></a>\n",
    "    \n",
    "Erro que precisa ser consertado, caso contrário seu projeto **não** será aceito.\n",
    "</div>\n",
    "\n",
    "Você pode me responder usando isso:\n",
    "<div class=\"alert alert-block alert-info\">\n",
    "<b>Resposta do Aluno.</b> <a class=\"tocSkip\"></a>\n",
    "</div>\n",
    "\n",
    "###\n",
    "\n",
    "<div class=\"alert alert-block alert-success\">\n",
    "<b>Comentário Geral do Revisor</b> <a class=\"tocSkip\"></a>\n",
    "\n",
    "Obrigado por enviar seu projeto. \n",
    "    \n",
    "Parabéns, você fez um bom trabalho.\n",
    "\n",
    "Como pontos fortes do projeto, destaco:\n",
    "- Código simples e eficiente (sem loop desnecessário)\n",
    "- Uso adequado dos recursos da lição\n",
    "\n",
    "    \n",
    "<span class=\"text-danger\">Porém, há espaço para melhorias conforme os itens apontados anteriormente. Destaco os  pontos a seguir: </span>\n",
    " * <span class=\"text-danger\"> Corrigir testes de hipótes</span>\n",
    "\n",
    "\n",
    "Portanto, sugiro que você corrija os pontos indicados.\n",
    "    \n",
    "Se você tiver alguma dúvida sobre de algo que você não tenha entendido, sinta-se à vontade para perguntar ao tutor ou deixar um comentário em **azul** para que, na próxima iteração, eu possa responder.\n",
    "\n",
    "Conte conosco. Lembre-se de que você pode tirar dúvidas com revisores usando os comentários ou buscar ajuda de um tutor.\n",
    "Bom trabalho.\n",
    "</div>\n"
   ]
  },
  {
   "cell_type": "markdown",
   "metadata": {},
   "source": [
    "<div class=\"alert alert-block alert-danger\">\n",
    "\n",
    "<b>Comentário do revisor: </b> <a class=\"tocSkip\"></a>\n",
    "    \n",
    "- Você usou Levene para testar variâncias. Excelente. Com isso, você pode configurar corretamente equal_var do teste T\n",
    "- Porém, você precisa fazer o teste T pois este é o objetivo do projeto.\n",
    "\n",
    "Fico no aguardo de nova submissão.\n",
    "</div>\n"
   ]
  },
  {
   "cell_type": "markdown",
   "metadata": {},
   "source": [
    "<div class=\"alert alert-block alert-danger\">\n",
    "\n",
    "<b>Comentário do revisor: </b> <a class=\"tocSkip\"></a>\n",
    "    \n",
    "Você precisa fazer o teste T para o 1o caso. O 2o caso está ok. Replique para o caso 1. Estamos próximo da aprovação.\n",
    "</div>\n"
   ]
  },
  {
   "cell_type": "markdown",
   "metadata": {
    "id": "eAkbw7Ueuj8X"
   },
   "source": [
    "# Qual é o melhor plano?\n",
    "\n",
    "Você trabalha como analista para a empresa de telecomunicações Megaline. A empresa oferece aos clientes dois planos pré-pagos: Surf e Ultimate. O departamento comercial quer saber qual dos planos gera mais receita para ajustar o orçamento de publicidade.\n",
    "\n",
    "Você vai realizar uma análise preliminar dos planos com base em uma pequena seleção de clientes. Você terá dados de 500 clientes da Megaline: que clientes são, de onde eles são, qual plano usam e o número de chamadas e mensagens realizadas em 2018. Seu trabalho é analisar o comportamento dos clientes e determinar qual plano pré-pago gera mais receita."
   ]
  },
  {
   "cell_type": "markdown",
   "metadata": {
    "id": "Z_iOKMX_uj8a"
   },
   "source": [
    "[Fornecemos alguns comentários para guiar sua linha de raciocínio enquanto você conclui esse projeto. Entretanto, certifique-se de remover todos os comentários entre colchetes antes de enviar o projeto.]\n",
    "\n",
    "[Antes de mergulhar na análise dos seus dados, explique em suas palavras o propósito do projeto e as ações que planeja realizar.]\n",
    "\n",
    "[Tenha em mente que estudar, modificar e analisar dados é um processo iterativo. É normal retornar a etapas anteriores e corrigir/expandir algo para permitir as próximas etapas.]"
   ]
  },
  {
   "cell_type": "markdown",
   "metadata": {
    "id": "lnomf-3Xuj8b"
   },
   "source": [
    "## Inicialização"
   ]
  },
  {
   "cell_type": "code",
   "execution_count": 1,
   "metadata": {
    "id": "JdJusn5ouj8c"
   },
   "outputs": [],
   "source": [
    "import pandas as pd\n",
    "import numpy as np\n",
    "from scipy import stats as st\n",
    "from math import factorial\n",
    "import matplotlib.pyplot as plt# Carregando todas as bibliotecas\n",
    "\n"
   ]
  },
  {
   "cell_type": "markdown",
   "metadata": {
    "id": "rzqsCrgquj8d"
   },
   "source": [
    "## Carregue os dados"
   ]
  },
  {
   "cell_type": "code",
   "execution_count": 2,
   "metadata": {
    "id": "HmzmQRXIuj8e"
   },
   "outputs": [],
   "source": [
    "df_calls = pd.read_csv('/datasets/megaline_calls.csv')\n",
    "df_internet = pd.read_csv('/datasets/megaline_internet.csv')\n",
    "df_messages = pd.read_csv('/datasets/megaline_messages.csv')\n",
    "df_plans = pd.read_csv('/datasets/megaline_plans.csv')\n",
    "df_users = pd.read_csv('/datasets/megaline_users.csv')\n",
    "# Carregue os arquivos de dados em diferentes DataFrames\n",
    "\n"
   ]
  },
  {
   "cell_type": "markdown",
   "metadata": {
    "id": "XQh-EeiIuj8e"
   },
   "source": [
    "## Prepare os dados"
   ]
  },
  {
   "cell_type": "markdown",
   "metadata": {
    "id": "RmibJmmzuj8e"
   },
   "source": [
    "[Os dados deste projeto estão divididos em várias tabelas. Explore cada uma para obter uma compreensão inicial dos dados. Faça correções em cada tabela, se necessário.]"
   ]
  },
  {
   "cell_type": "markdown",
   "metadata": {
    "id": "TlZUw_Cyuj8f"
   },
   "source": [
    "## Planos"
   ]
  },
  {
   "cell_type": "code",
   "execution_count": 3,
   "metadata": {
    "id": "x9qB5mAOuj8f"
   },
   "outputs": [
    {
     "data": {
      "text/html": [
       "<div>\n",
       "<style scoped>\n",
       "    .dataframe tbody tr th:only-of-type {\n",
       "        vertical-align: middle;\n",
       "    }\n",
       "\n",
       "    .dataframe tbody tr th {\n",
       "        vertical-align: top;\n",
       "    }\n",
       "\n",
       "    .dataframe thead th {\n",
       "        text-align: right;\n",
       "    }\n",
       "</style>\n",
       "<table border=\"1\" class=\"dataframe\">\n",
       "  <thead>\n",
       "    <tr style=\"text-align: right;\">\n",
       "      <th></th>\n",
       "      <th>messages_included</th>\n",
       "      <th>mb_per_month_included</th>\n",
       "      <th>minutes_included</th>\n",
       "      <th>usd_monthly_pay</th>\n",
       "      <th>usd_per_gb</th>\n",
       "      <th>usd_per_message</th>\n",
       "      <th>usd_per_minute</th>\n",
       "      <th>plan_name</th>\n",
       "    </tr>\n",
       "  </thead>\n",
       "  <tbody>\n",
       "    <tr>\n",
       "      <th>0</th>\n",
       "      <td>50</td>\n",
       "      <td>15360</td>\n",
       "      <td>500</td>\n",
       "      <td>20</td>\n",
       "      <td>10</td>\n",
       "      <td>0.03</td>\n",
       "      <td>0.03</td>\n",
       "      <td>surf</td>\n",
       "    </tr>\n",
       "    <tr>\n",
       "      <th>1</th>\n",
       "      <td>1000</td>\n",
       "      <td>30720</td>\n",
       "      <td>3000</td>\n",
       "      <td>70</td>\n",
       "      <td>7</td>\n",
       "      <td>0.01</td>\n",
       "      <td>0.01</td>\n",
       "      <td>ultimate</td>\n",
       "    </tr>\n",
       "  </tbody>\n",
       "</table>\n",
       "</div>"
      ],
      "text/plain": [
       "   messages_included  mb_per_month_included  minutes_included  \\\n",
       "0                 50                  15360               500   \n",
       "1               1000                  30720              3000   \n",
       "\n",
       "   usd_monthly_pay  usd_per_gb  usd_per_message  usd_per_minute plan_name  \n",
       "0               20          10             0.03            0.03      surf  \n",
       "1               70           7             0.01            0.01  ultimate  "
      ]
     },
     "execution_count": 3,
     "metadata": {},
     "output_type": "execute_result"
    }
   ],
   "source": [
    "(df_plans)# Imprima as informações gerais/resumidas sobre o DataFrame dos planos\n",
    "\n"
   ]
  },
  {
   "cell_type": "code",
   "execution_count": 4,
   "metadata": {
    "id": "9MRo7tyVuj8f"
   },
   "outputs": [
    {
     "name": "stdout",
     "output_type": "stream",
     "text": [
      "<class 'pandas.core.frame.DataFrame'>\n",
      "RangeIndex: 2 entries, 0 to 1\n",
      "Data columns (total 8 columns):\n",
      " #   Column                 Non-Null Count  Dtype  \n",
      "---  ------                 --------------  -----  \n",
      " 0   messages_included      2 non-null      int64  \n",
      " 1   mb_per_month_included  2 non-null      int64  \n",
      " 2   minutes_included       2 non-null      int64  \n",
      " 3   usd_monthly_pay        2 non-null      int64  \n",
      " 4   usd_per_gb             2 non-null      int64  \n",
      " 5   usd_per_message        2 non-null      float64\n",
      " 6   usd_per_minute         2 non-null      float64\n",
      " 7   plan_name              2 non-null      object \n",
      "dtypes: float64(2), int64(5), object(1)\n",
      "memory usage: 256.0+ bytes\n"
     ]
    }
   ],
   "source": [
    "(df_plans.info())# Imprima uma amostra de dados dos planos\n",
    "\n"
   ]
  },
  {
   "cell_type": "markdown",
   "metadata": {
    "id": "P8hzr-lquj8f"
   },
   "source": [
    "[Descreva o que você vê e observa nas informações gerais e na amostra de dados impressa para a parte dos dados acima. Existem problemas (tipos de dados inadequados, dados ausentes, etc.) que precisam de mais investigação e alterações? Como isso pode ser corrigido?]\n",
    "\n",
    "A primeira vista parece que os dados encontram-se de maneira correta e ordenada."
   ]
  },
  {
   "cell_type": "markdown",
   "metadata": {
    "id": "KXtaxmKsuj8f"
   },
   "source": [
    "## Corrija os dados"
   ]
  },
  {
   "cell_type": "code",
   "execution_count": null,
   "metadata": {
    "id": "Hen8bhG1uj8g"
   },
   "outputs": [],
   "source": []
  },
  {
   "cell_type": "markdown",
   "metadata": {
    "id": "kLcdKu6Duj8g"
   },
   "source": [
    "## Enriqueça os dados"
   ]
  },
  {
   "cell_type": "markdown",
   "metadata": {
    "id": "x1L6F_gmuj8g"
   },
   "source": [
    "[Inclua fatores adicionais aos dados se você acredita que eles podem ser úteis.]"
   ]
  },
  {
   "cell_type": "code",
   "execution_count": null,
   "metadata": {
    "id": "6j4XA9_ruj8g"
   },
   "outputs": [],
   "source": []
  },
  {
   "cell_type": "markdown",
   "metadata": {
    "id": "YJg2O9qjuj8g"
   },
   "source": [
    "## Usuários"
   ]
  },
  {
   "cell_type": "code",
   "execution_count": 5,
   "metadata": {
    "id": "7JzxwD2juj8g"
   },
   "outputs": [
    {
     "name": "stdout",
     "output_type": "stream",
     "text": [
      "<class 'pandas.core.frame.DataFrame'>\n",
      "RangeIndex: 500 entries, 0 to 499\n",
      "Data columns (total 8 columns):\n",
      " #   Column      Non-Null Count  Dtype \n",
      "---  ------      --------------  ----- \n",
      " 0   user_id     500 non-null    int64 \n",
      " 1   first_name  500 non-null    object\n",
      " 2   last_name   500 non-null    object\n",
      " 3   age         500 non-null    int64 \n",
      " 4   city        500 non-null    object\n",
      " 5   reg_date    500 non-null    object\n",
      " 6   plan        500 non-null    object\n",
      " 7   churn_date  34 non-null     object\n",
      "dtypes: int64(2), object(6)\n",
      "memory usage: 31.4+ KB\n"
     ]
    }
   ],
   "source": [
    "(df_users.info())\n",
    "# Imprima as informações gerais/resumidas sobre o DataFrame dos usuários\n",
    "\n"
   ]
  },
  {
   "cell_type": "code",
   "execution_count": 6,
   "metadata": {
    "id": "5KZ8XmD8uj8g"
   },
   "outputs": [
    {
     "data": {
      "text/html": [
       "<div>\n",
       "<style scoped>\n",
       "    .dataframe tbody tr th:only-of-type {\n",
       "        vertical-align: middle;\n",
       "    }\n",
       "\n",
       "    .dataframe tbody tr th {\n",
       "        vertical-align: top;\n",
       "    }\n",
       "\n",
       "    .dataframe thead th {\n",
       "        text-align: right;\n",
       "    }\n",
       "</style>\n",
       "<table border=\"1\" class=\"dataframe\">\n",
       "  <thead>\n",
       "    <tr style=\"text-align: right;\">\n",
       "      <th></th>\n",
       "      <th>user_id</th>\n",
       "      <th>first_name</th>\n",
       "      <th>last_name</th>\n",
       "      <th>age</th>\n",
       "      <th>city</th>\n",
       "      <th>reg_date</th>\n",
       "      <th>plan</th>\n",
       "      <th>churn_date</th>\n",
       "    </tr>\n",
       "  </thead>\n",
       "  <tbody>\n",
       "    <tr>\n",
       "      <th>0</th>\n",
       "      <td>1000</td>\n",
       "      <td>Anamaria</td>\n",
       "      <td>Bauer</td>\n",
       "      <td>45</td>\n",
       "      <td>Atlanta-Sandy Springs-Roswell, GA MSA</td>\n",
       "      <td>2018-12-24</td>\n",
       "      <td>ultimate</td>\n",
       "      <td>NaN</td>\n",
       "    </tr>\n",
       "    <tr>\n",
       "      <th>1</th>\n",
       "      <td>1001</td>\n",
       "      <td>Mickey</td>\n",
       "      <td>Wilkerson</td>\n",
       "      <td>28</td>\n",
       "      <td>Seattle-Tacoma-Bellevue, WA MSA</td>\n",
       "      <td>2018-08-13</td>\n",
       "      <td>surf</td>\n",
       "      <td>NaN</td>\n",
       "    </tr>\n",
       "    <tr>\n",
       "      <th>2</th>\n",
       "      <td>1002</td>\n",
       "      <td>Carlee</td>\n",
       "      <td>Hoffman</td>\n",
       "      <td>36</td>\n",
       "      <td>Las Vegas-Henderson-Paradise, NV MSA</td>\n",
       "      <td>2018-10-21</td>\n",
       "      <td>surf</td>\n",
       "      <td>NaN</td>\n",
       "    </tr>\n",
       "    <tr>\n",
       "      <th>3</th>\n",
       "      <td>1003</td>\n",
       "      <td>Reynaldo</td>\n",
       "      <td>Jenkins</td>\n",
       "      <td>52</td>\n",
       "      <td>Tulsa, OK MSA</td>\n",
       "      <td>2018-01-28</td>\n",
       "      <td>surf</td>\n",
       "      <td>NaN</td>\n",
       "    </tr>\n",
       "    <tr>\n",
       "      <th>4</th>\n",
       "      <td>1004</td>\n",
       "      <td>Leonila</td>\n",
       "      <td>Thompson</td>\n",
       "      <td>40</td>\n",
       "      <td>Seattle-Tacoma-Bellevue, WA MSA</td>\n",
       "      <td>2018-05-23</td>\n",
       "      <td>surf</td>\n",
       "      <td>NaN</td>\n",
       "    </tr>\n",
       "    <tr>\n",
       "      <th>5</th>\n",
       "      <td>1005</td>\n",
       "      <td>Livia</td>\n",
       "      <td>Shields</td>\n",
       "      <td>31</td>\n",
       "      <td>Dallas-Fort Worth-Arlington, TX MSA</td>\n",
       "      <td>2018-11-29</td>\n",
       "      <td>surf</td>\n",
       "      <td>NaN</td>\n",
       "    </tr>\n",
       "    <tr>\n",
       "      <th>6</th>\n",
       "      <td>1006</td>\n",
       "      <td>Jesusa</td>\n",
       "      <td>Bradford</td>\n",
       "      <td>73</td>\n",
       "      <td>San Francisco-Oakland-Berkeley, CA MSA</td>\n",
       "      <td>2018-11-27</td>\n",
       "      <td>ultimate</td>\n",
       "      <td>2018-12-18</td>\n",
       "    </tr>\n",
       "    <tr>\n",
       "      <th>7</th>\n",
       "      <td>1007</td>\n",
       "      <td>Eusebio</td>\n",
       "      <td>Welch</td>\n",
       "      <td>42</td>\n",
       "      <td>Grand Rapids-Kentwood, MI MSA</td>\n",
       "      <td>2018-07-11</td>\n",
       "      <td>surf</td>\n",
       "      <td>NaN</td>\n",
       "    </tr>\n",
       "    <tr>\n",
       "      <th>8</th>\n",
       "      <td>1008</td>\n",
       "      <td>Emely</td>\n",
       "      <td>Hoffman</td>\n",
       "      <td>53</td>\n",
       "      <td>Orlando-Kissimmee-Sanford, FL MSA</td>\n",
       "      <td>2018-08-03</td>\n",
       "      <td>ultimate</td>\n",
       "      <td>NaN</td>\n",
       "    </tr>\n",
       "    <tr>\n",
       "      <th>9</th>\n",
       "      <td>1009</td>\n",
       "      <td>Gerry</td>\n",
       "      <td>Little</td>\n",
       "      <td>19</td>\n",
       "      <td>San Jose-Sunnyvale-Santa Clara, CA MSA</td>\n",
       "      <td>2018-04-22</td>\n",
       "      <td>surf</td>\n",
       "      <td>NaN</td>\n",
       "    </tr>\n",
       "    <tr>\n",
       "      <th>10</th>\n",
       "      <td>1010</td>\n",
       "      <td>Wilber</td>\n",
       "      <td>Blair</td>\n",
       "      <td>52</td>\n",
       "      <td>Dallas-Fort Worth-Arlington, TX MSA</td>\n",
       "      <td>2018-03-09</td>\n",
       "      <td>surf</td>\n",
       "      <td>NaN</td>\n",
       "    </tr>\n",
       "    <tr>\n",
       "      <th>11</th>\n",
       "      <td>1011</td>\n",
       "      <td>Halina</td>\n",
       "      <td>Henry</td>\n",
       "      <td>73</td>\n",
       "      <td>Cleveland-Elyria, OH MSA</td>\n",
       "      <td>2018-01-18</td>\n",
       "      <td>ultimate</td>\n",
       "      <td>NaN</td>\n",
       "    </tr>\n",
       "    <tr>\n",
       "      <th>12</th>\n",
       "      <td>1012</td>\n",
       "      <td>Jonelle</td>\n",
       "      <td>Mcbride</td>\n",
       "      <td>59</td>\n",
       "      <td>Chicago-Naperville-Elgin, IL-IN-WI MSA</td>\n",
       "      <td>2018-06-28</td>\n",
       "      <td>surf</td>\n",
       "      <td>2018-11-16</td>\n",
       "    </tr>\n",
       "    <tr>\n",
       "      <th>13</th>\n",
       "      <td>1013</td>\n",
       "      <td>Nicolas</td>\n",
       "      <td>Snider</td>\n",
       "      <td>50</td>\n",
       "      <td>Knoxville, TN MSA</td>\n",
       "      <td>2018-12-01</td>\n",
       "      <td>ultimate</td>\n",
       "      <td>NaN</td>\n",
       "    </tr>\n",
       "    <tr>\n",
       "      <th>14</th>\n",
       "      <td>1014</td>\n",
       "      <td>Edmundo</td>\n",
       "      <td>Simon</td>\n",
       "      <td>61</td>\n",
       "      <td>New York-Newark-Jersey City, NY-NJ-PA MSA</td>\n",
       "      <td>2018-11-25</td>\n",
       "      <td>surf</td>\n",
       "      <td>NaN</td>\n",
       "    </tr>\n",
       "    <tr>\n",
       "      <th>15</th>\n",
       "      <td>1015</td>\n",
       "      <td>Beata</td>\n",
       "      <td>Carpenter</td>\n",
       "      <td>26</td>\n",
       "      <td>Pittsburgh, PA MSA</td>\n",
       "      <td>2018-12-05</td>\n",
       "      <td>surf</td>\n",
       "      <td>NaN</td>\n",
       "    </tr>\n",
       "    <tr>\n",
       "      <th>16</th>\n",
       "      <td>1016</td>\n",
       "      <td>Jann</td>\n",
       "      <td>Salinas</td>\n",
       "      <td>30</td>\n",
       "      <td>Fresno, CA MSA</td>\n",
       "      <td>2018-10-25</td>\n",
       "      <td>surf</td>\n",
       "      <td>NaN</td>\n",
       "    </tr>\n",
       "    <tr>\n",
       "      <th>17</th>\n",
       "      <td>1017</td>\n",
       "      <td>Boris</td>\n",
       "      <td>Gates</td>\n",
       "      <td>61</td>\n",
       "      <td>Washington-Arlington-Alexandria, DC-VA-MD-WV MSA</td>\n",
       "      <td>2018-08-26</td>\n",
       "      <td>surf</td>\n",
       "      <td>NaN</td>\n",
       "    </tr>\n",
       "    <tr>\n",
       "      <th>18</th>\n",
       "      <td>1018</td>\n",
       "      <td>Dennis</td>\n",
       "      <td>Grimes</td>\n",
       "      <td>70</td>\n",
       "      <td>Indianapolis-Carmel-Anderson, IN MSA</td>\n",
       "      <td>2018-10-17</td>\n",
       "      <td>surf</td>\n",
       "      <td>NaN</td>\n",
       "    </tr>\n",
       "    <tr>\n",
       "      <th>19</th>\n",
       "      <td>1019</td>\n",
       "      <td>Shizue</td>\n",
       "      <td>Landry</td>\n",
       "      <td>34</td>\n",
       "      <td>Jacksonville, FL MSA</td>\n",
       "      <td>2018-01-16</td>\n",
       "      <td>surf</td>\n",
       "      <td>NaN</td>\n",
       "    </tr>\n",
       "  </tbody>\n",
       "</table>\n",
       "</div>"
      ],
      "text/plain": [
       "    user_id first_name  last_name  age  \\\n",
       "0      1000   Anamaria      Bauer   45   \n",
       "1      1001     Mickey  Wilkerson   28   \n",
       "2      1002     Carlee    Hoffman   36   \n",
       "3      1003   Reynaldo    Jenkins   52   \n",
       "4      1004    Leonila   Thompson   40   \n",
       "5      1005      Livia    Shields   31   \n",
       "6      1006     Jesusa   Bradford   73   \n",
       "7      1007    Eusebio      Welch   42   \n",
       "8      1008      Emely    Hoffman   53   \n",
       "9      1009      Gerry     Little   19   \n",
       "10     1010     Wilber      Blair   52   \n",
       "11     1011     Halina      Henry   73   \n",
       "12     1012    Jonelle    Mcbride   59   \n",
       "13     1013    Nicolas     Snider   50   \n",
       "14     1014    Edmundo      Simon   61   \n",
       "15     1015      Beata  Carpenter   26   \n",
       "16     1016       Jann    Salinas   30   \n",
       "17     1017      Boris      Gates   61   \n",
       "18     1018     Dennis     Grimes   70   \n",
       "19     1019     Shizue     Landry   34   \n",
       "\n",
       "                                                city    reg_date      plan  \\\n",
       "0              Atlanta-Sandy Springs-Roswell, GA MSA  2018-12-24  ultimate   \n",
       "1                    Seattle-Tacoma-Bellevue, WA MSA  2018-08-13      surf   \n",
       "2               Las Vegas-Henderson-Paradise, NV MSA  2018-10-21      surf   \n",
       "3                                      Tulsa, OK MSA  2018-01-28      surf   \n",
       "4                    Seattle-Tacoma-Bellevue, WA MSA  2018-05-23      surf   \n",
       "5                Dallas-Fort Worth-Arlington, TX MSA  2018-11-29      surf   \n",
       "6             San Francisco-Oakland-Berkeley, CA MSA  2018-11-27  ultimate   \n",
       "7                      Grand Rapids-Kentwood, MI MSA  2018-07-11      surf   \n",
       "8                  Orlando-Kissimmee-Sanford, FL MSA  2018-08-03  ultimate   \n",
       "9             San Jose-Sunnyvale-Santa Clara, CA MSA  2018-04-22      surf   \n",
       "10               Dallas-Fort Worth-Arlington, TX MSA  2018-03-09      surf   \n",
       "11                          Cleveland-Elyria, OH MSA  2018-01-18  ultimate   \n",
       "12            Chicago-Naperville-Elgin, IL-IN-WI MSA  2018-06-28      surf   \n",
       "13                                 Knoxville, TN MSA  2018-12-01  ultimate   \n",
       "14         New York-Newark-Jersey City, NY-NJ-PA MSA  2018-11-25      surf   \n",
       "15                                Pittsburgh, PA MSA  2018-12-05      surf   \n",
       "16                                    Fresno, CA MSA  2018-10-25      surf   \n",
       "17  Washington-Arlington-Alexandria, DC-VA-MD-WV MSA  2018-08-26      surf   \n",
       "18              Indianapolis-Carmel-Anderson, IN MSA  2018-10-17      surf   \n",
       "19                              Jacksonville, FL MSA  2018-01-16      surf   \n",
       "\n",
       "    churn_date  \n",
       "0          NaN  \n",
       "1          NaN  \n",
       "2          NaN  \n",
       "3          NaN  \n",
       "4          NaN  \n",
       "5          NaN  \n",
       "6   2018-12-18  \n",
       "7          NaN  \n",
       "8          NaN  \n",
       "9          NaN  \n",
       "10         NaN  \n",
       "11         NaN  \n",
       "12  2018-11-16  \n",
       "13         NaN  \n",
       "14         NaN  \n",
       "15         NaN  \n",
       "16         NaN  \n",
       "17         NaN  \n",
       "18         NaN  \n",
       "19         NaN  "
      ]
     },
     "execution_count": 6,
     "metadata": {},
     "output_type": "execute_result"
    }
   ],
   "source": [
    "(df_users.head(20))\n",
    " # Imprima uma amostra de dados dos usuários\n",
    "\n"
   ]
  },
  {
   "cell_type": "markdown",
   "metadata": {
    "id": "XGCgkfLvuj8h"
   },
   "source": [
    "[Descreva o que você vê e observa nas informações gerais e na amostra de dados impressa para a parte dos dados acima. Existem problemas (tipos de dados inadequados, dados ausentes, etc.) que precisam de mais investigação e alterações? Como isso pode ser corrigido?]"
   ]
  },
  {
   "cell_type": "markdown",
   "metadata": {
    "id": "ppiEfe3luj8i"
   },
   "source": [
    "### Corrija os dados"
   ]
  },
  {
   "cell_type": "markdown",
   "metadata": {
    "id": "os4Gubp_uj8j"
   },
   "source": [
    "[Corrija problemas óbvios com os dados conforme as observações iniciais.]"
   ]
  },
  {
   "cell_type": "code",
   "execution_count": 7,
   "metadata": {
    "id": "Oa1XFooouj8j"
   },
   "outputs": [
    {
     "data": {
      "text/html": [
       "<div>\n",
       "<style scoped>\n",
       "    .dataframe tbody tr th:only-of-type {\n",
       "        vertical-align: middle;\n",
       "    }\n",
       "\n",
       "    .dataframe tbody tr th {\n",
       "        vertical-align: top;\n",
       "    }\n",
       "\n",
       "    .dataframe thead th {\n",
       "        text-align: right;\n",
       "    }\n",
       "</style>\n",
       "<table border=\"1\" class=\"dataframe\">\n",
       "  <thead>\n",
       "    <tr style=\"text-align: right;\">\n",
       "      <th></th>\n",
       "      <th>user_id</th>\n",
       "      <th>first_name</th>\n",
       "      <th>last_name</th>\n",
       "      <th>age</th>\n",
       "      <th>city</th>\n",
       "      <th>reg_date</th>\n",
       "      <th>plan</th>\n",
       "      <th>churn_date</th>\n",
       "    </tr>\n",
       "  </thead>\n",
       "  <tbody>\n",
       "    <tr>\n",
       "      <th>0</th>\n",
       "      <td>1000</td>\n",
       "      <td>Anamaria</td>\n",
       "      <td>Bauer</td>\n",
       "      <td>45</td>\n",
       "      <td>Atlanta-Sandy Springs-Roswell, GA MSA</td>\n",
       "      <td>2018-12-24</td>\n",
       "      <td>ultimate</td>\n",
       "      <td>NaN</td>\n",
       "    </tr>\n",
       "    <tr>\n",
       "      <th>1</th>\n",
       "      <td>1001</td>\n",
       "      <td>Mickey</td>\n",
       "      <td>Wilkerson</td>\n",
       "      <td>28</td>\n",
       "      <td>Seattle-Tacoma-Bellevue, WA MSA</td>\n",
       "      <td>2018-08-13</td>\n",
       "      <td>surf</td>\n",
       "      <td>NaN</td>\n",
       "    </tr>\n",
       "    <tr>\n",
       "      <th>2</th>\n",
       "      <td>1002</td>\n",
       "      <td>Carlee</td>\n",
       "      <td>Hoffman</td>\n",
       "      <td>36</td>\n",
       "      <td>Las Vegas-Henderson-Paradise, NV MSA</td>\n",
       "      <td>2018-10-21</td>\n",
       "      <td>surf</td>\n",
       "      <td>NaN</td>\n",
       "    </tr>\n",
       "    <tr>\n",
       "      <th>3</th>\n",
       "      <td>1003</td>\n",
       "      <td>Reynaldo</td>\n",
       "      <td>Jenkins</td>\n",
       "      <td>52</td>\n",
       "      <td>Tulsa, OK MSA</td>\n",
       "      <td>2018-01-28</td>\n",
       "      <td>surf</td>\n",
       "      <td>NaN</td>\n",
       "    </tr>\n",
       "    <tr>\n",
       "      <th>4</th>\n",
       "      <td>1004</td>\n",
       "      <td>Leonila</td>\n",
       "      <td>Thompson</td>\n",
       "      <td>40</td>\n",
       "      <td>Seattle-Tacoma-Bellevue, WA MSA</td>\n",
       "      <td>2018-05-23</td>\n",
       "      <td>surf</td>\n",
       "      <td>NaN</td>\n",
       "    </tr>\n",
       "    <tr>\n",
       "      <th>5</th>\n",
       "      <td>1005</td>\n",
       "      <td>Livia</td>\n",
       "      <td>Shields</td>\n",
       "      <td>31</td>\n",
       "      <td>Dallas-Fort Worth-Arlington, TX MSA</td>\n",
       "      <td>2018-11-29</td>\n",
       "      <td>surf</td>\n",
       "      <td>NaN</td>\n",
       "    </tr>\n",
       "    <tr>\n",
       "      <th>6</th>\n",
       "      <td>1006</td>\n",
       "      <td>Jesusa</td>\n",
       "      <td>Bradford</td>\n",
       "      <td>73</td>\n",
       "      <td>San Francisco-Oakland-Berkeley, CA MSA</td>\n",
       "      <td>2018-11-27</td>\n",
       "      <td>ultimate</td>\n",
       "      <td>2018-12-18</td>\n",
       "    </tr>\n",
       "    <tr>\n",
       "      <th>7</th>\n",
       "      <td>1007</td>\n",
       "      <td>Eusebio</td>\n",
       "      <td>Welch</td>\n",
       "      <td>42</td>\n",
       "      <td>Grand Rapids-Kentwood, MI MSA</td>\n",
       "      <td>2018-07-11</td>\n",
       "      <td>surf</td>\n",
       "      <td>NaN</td>\n",
       "    </tr>\n",
       "    <tr>\n",
       "      <th>8</th>\n",
       "      <td>1008</td>\n",
       "      <td>Emely</td>\n",
       "      <td>Hoffman</td>\n",
       "      <td>53</td>\n",
       "      <td>Orlando-Kissimmee-Sanford, FL MSA</td>\n",
       "      <td>2018-08-03</td>\n",
       "      <td>ultimate</td>\n",
       "      <td>NaN</td>\n",
       "    </tr>\n",
       "    <tr>\n",
       "      <th>9</th>\n",
       "      <td>1009</td>\n",
       "      <td>Gerry</td>\n",
       "      <td>Little</td>\n",
       "      <td>19</td>\n",
       "      <td>San Jose-Sunnyvale-Santa Clara, CA MSA</td>\n",
       "      <td>2018-04-22</td>\n",
       "      <td>surf</td>\n",
       "      <td>NaN</td>\n",
       "    </tr>\n",
       "    <tr>\n",
       "      <th>10</th>\n",
       "      <td>1010</td>\n",
       "      <td>Wilber</td>\n",
       "      <td>Blair</td>\n",
       "      <td>52</td>\n",
       "      <td>Dallas-Fort Worth-Arlington, TX MSA</td>\n",
       "      <td>2018-03-09</td>\n",
       "      <td>surf</td>\n",
       "      <td>NaN</td>\n",
       "    </tr>\n",
       "    <tr>\n",
       "      <th>11</th>\n",
       "      <td>1011</td>\n",
       "      <td>Halina</td>\n",
       "      <td>Henry</td>\n",
       "      <td>73</td>\n",
       "      <td>Cleveland-Elyria, OH MSA</td>\n",
       "      <td>2018-01-18</td>\n",
       "      <td>ultimate</td>\n",
       "      <td>NaN</td>\n",
       "    </tr>\n",
       "    <tr>\n",
       "      <th>12</th>\n",
       "      <td>1012</td>\n",
       "      <td>Jonelle</td>\n",
       "      <td>Mcbride</td>\n",
       "      <td>59</td>\n",
       "      <td>Chicago-Naperville-Elgin, IL-IN-WI MSA</td>\n",
       "      <td>2018-06-28</td>\n",
       "      <td>surf</td>\n",
       "      <td>2018-11-16</td>\n",
       "    </tr>\n",
       "    <tr>\n",
       "      <th>13</th>\n",
       "      <td>1013</td>\n",
       "      <td>Nicolas</td>\n",
       "      <td>Snider</td>\n",
       "      <td>50</td>\n",
       "      <td>Knoxville, TN MSA</td>\n",
       "      <td>2018-12-01</td>\n",
       "      <td>ultimate</td>\n",
       "      <td>NaN</td>\n",
       "    </tr>\n",
       "    <tr>\n",
       "      <th>14</th>\n",
       "      <td>1014</td>\n",
       "      <td>Edmundo</td>\n",
       "      <td>Simon</td>\n",
       "      <td>61</td>\n",
       "      <td>New York-Newark-Jersey City, NY-NJ-PA MSA</td>\n",
       "      <td>2018-11-25</td>\n",
       "      <td>surf</td>\n",
       "      <td>NaN</td>\n",
       "    </tr>\n",
       "    <tr>\n",
       "      <th>15</th>\n",
       "      <td>1015</td>\n",
       "      <td>Beata</td>\n",
       "      <td>Carpenter</td>\n",
       "      <td>26</td>\n",
       "      <td>Pittsburgh, PA MSA</td>\n",
       "      <td>2018-12-05</td>\n",
       "      <td>surf</td>\n",
       "      <td>NaN</td>\n",
       "    </tr>\n",
       "    <tr>\n",
       "      <th>16</th>\n",
       "      <td>1016</td>\n",
       "      <td>Jann</td>\n",
       "      <td>Salinas</td>\n",
       "      <td>30</td>\n",
       "      <td>Fresno, CA MSA</td>\n",
       "      <td>2018-10-25</td>\n",
       "      <td>surf</td>\n",
       "      <td>NaN</td>\n",
       "    </tr>\n",
       "    <tr>\n",
       "      <th>17</th>\n",
       "      <td>1017</td>\n",
       "      <td>Boris</td>\n",
       "      <td>Gates</td>\n",
       "      <td>61</td>\n",
       "      <td>Washington-Arlington-Alexandria, DC-VA-MD-WV MSA</td>\n",
       "      <td>2018-08-26</td>\n",
       "      <td>surf</td>\n",
       "      <td>NaN</td>\n",
       "    </tr>\n",
       "    <tr>\n",
       "      <th>18</th>\n",
       "      <td>1018</td>\n",
       "      <td>Dennis</td>\n",
       "      <td>Grimes</td>\n",
       "      <td>70</td>\n",
       "      <td>Indianapolis-Carmel-Anderson, IN MSA</td>\n",
       "      <td>2018-10-17</td>\n",
       "      <td>surf</td>\n",
       "      <td>NaN</td>\n",
       "    </tr>\n",
       "    <tr>\n",
       "      <th>19</th>\n",
       "      <td>1019</td>\n",
       "      <td>Shizue</td>\n",
       "      <td>Landry</td>\n",
       "      <td>34</td>\n",
       "      <td>Jacksonville, FL MSA</td>\n",
       "      <td>2018-01-16</td>\n",
       "      <td>surf</td>\n",
       "      <td>NaN</td>\n",
       "    </tr>\n",
       "  </tbody>\n",
       "</table>\n",
       "</div>"
      ],
      "text/plain": [
       "    user_id first_name  last_name  age  \\\n",
       "0      1000   Anamaria      Bauer   45   \n",
       "1      1001     Mickey  Wilkerson   28   \n",
       "2      1002     Carlee    Hoffman   36   \n",
       "3      1003   Reynaldo    Jenkins   52   \n",
       "4      1004    Leonila   Thompson   40   \n",
       "5      1005      Livia    Shields   31   \n",
       "6      1006     Jesusa   Bradford   73   \n",
       "7      1007    Eusebio      Welch   42   \n",
       "8      1008      Emely    Hoffman   53   \n",
       "9      1009      Gerry     Little   19   \n",
       "10     1010     Wilber      Blair   52   \n",
       "11     1011     Halina      Henry   73   \n",
       "12     1012    Jonelle    Mcbride   59   \n",
       "13     1013    Nicolas     Snider   50   \n",
       "14     1014    Edmundo      Simon   61   \n",
       "15     1015      Beata  Carpenter   26   \n",
       "16     1016       Jann    Salinas   30   \n",
       "17     1017      Boris      Gates   61   \n",
       "18     1018     Dennis     Grimes   70   \n",
       "19     1019     Shizue     Landry   34   \n",
       "\n",
       "                                                city   reg_date      plan  \\\n",
       "0              Atlanta-Sandy Springs-Roswell, GA MSA 2018-12-24  ultimate   \n",
       "1                    Seattle-Tacoma-Bellevue, WA MSA 2018-08-13      surf   \n",
       "2               Las Vegas-Henderson-Paradise, NV MSA 2018-10-21      surf   \n",
       "3                                      Tulsa, OK MSA 2018-01-28      surf   \n",
       "4                    Seattle-Tacoma-Bellevue, WA MSA 2018-05-23      surf   \n",
       "5                Dallas-Fort Worth-Arlington, TX MSA 2018-11-29      surf   \n",
       "6             San Francisco-Oakland-Berkeley, CA MSA 2018-11-27  ultimate   \n",
       "7                      Grand Rapids-Kentwood, MI MSA 2018-07-11      surf   \n",
       "8                  Orlando-Kissimmee-Sanford, FL MSA 2018-08-03  ultimate   \n",
       "9             San Jose-Sunnyvale-Santa Clara, CA MSA 2018-04-22      surf   \n",
       "10               Dallas-Fort Worth-Arlington, TX MSA 2018-03-09      surf   \n",
       "11                          Cleveland-Elyria, OH MSA 2018-01-18  ultimate   \n",
       "12            Chicago-Naperville-Elgin, IL-IN-WI MSA 2018-06-28      surf   \n",
       "13                                 Knoxville, TN MSA 2018-12-01  ultimate   \n",
       "14         New York-Newark-Jersey City, NY-NJ-PA MSA 2018-11-25      surf   \n",
       "15                                Pittsburgh, PA MSA 2018-12-05      surf   \n",
       "16                                    Fresno, CA MSA 2018-10-25      surf   \n",
       "17  Washington-Arlington-Alexandria, DC-VA-MD-WV MSA 2018-08-26      surf   \n",
       "18              Indianapolis-Carmel-Anderson, IN MSA 2018-10-17      surf   \n",
       "19                              Jacksonville, FL MSA 2018-01-16      surf   \n",
       "\n",
       "    churn_date  \n",
       "0          NaN  \n",
       "1          NaN  \n",
       "2          NaN  \n",
       "3          NaN  \n",
       "4          NaN  \n",
       "5          NaN  \n",
       "6   2018-12-18  \n",
       "7          NaN  \n",
       "8          NaN  \n",
       "9          NaN  \n",
       "10         NaN  \n",
       "11         NaN  \n",
       "12  2018-11-16  \n",
       "13         NaN  \n",
       "14         NaN  \n",
       "15         NaN  \n",
       "16         NaN  \n",
       "17         NaN  \n",
       "18         NaN  \n",
       "19         NaN  "
      ]
     },
     "execution_count": 7,
     "metadata": {},
     "output_type": "execute_result"
    }
   ],
   "source": [
    "df_users['reg_date'] = pd.to_datetime(df_users['reg_date'])\n",
    "\n",
    "(df_users.head(20))"
   ]
  },
  {
   "cell_type": "markdown",
   "metadata": {
    "id": "H3gpde3Juj8j"
   },
   "source": [
    "\n",
    "### Enriqueça os dados"
   ]
  },
  {
   "cell_type": "markdown",
   "metadata": {
    "id": "HOZyfII6uj8j"
   },
   "source": [
    "[Inclua fatores adicionais aos dados se você acredita que eles podem ser úteis.]"
   ]
  },
  {
   "cell_type": "code",
   "execution_count": null,
   "metadata": {
    "id": "4vuUjT2juj8j"
   },
   "outputs": [],
   "source": []
  },
  {
   "cell_type": "markdown",
   "metadata": {
    "id": "f4uSIMuuuj8j"
   },
   "source": [
    "## Chamadas"
   ]
  },
  {
   "cell_type": "code",
   "execution_count": 8,
   "metadata": {
    "id": "hkY01fJnuj8j"
   },
   "outputs": [
    {
     "name": "stdout",
     "output_type": "stream",
     "text": [
      "<class 'pandas.core.frame.DataFrame'>\n",
      "RangeIndex: 137735 entries, 0 to 137734\n",
      "Data columns (total 4 columns):\n",
      " #   Column     Non-Null Count   Dtype  \n",
      "---  ------     --------------   -----  \n",
      " 0   id         137735 non-null  object \n",
      " 1   user_id    137735 non-null  int64  \n",
      " 2   call_date  137735 non-null  object \n",
      " 3   duration   137735 non-null  float64\n",
      "dtypes: float64(1), int64(1), object(2)\n",
      "memory usage: 4.2+ MB\n"
     ]
    }
   ],
   "source": [
    "(df_calls.info())# Imprima as informações gerais/resumidas sobre o DataFrame das chamadas\n",
    "\n"
   ]
  },
  {
   "cell_type": "code",
   "execution_count": 9,
   "metadata": {
    "id": "wdBwJG5Yuj8k"
   },
   "outputs": [
    {
     "data": {
      "text/html": [
       "<div>\n",
       "<style scoped>\n",
       "    .dataframe tbody tr th:only-of-type {\n",
       "        vertical-align: middle;\n",
       "    }\n",
       "\n",
       "    .dataframe tbody tr th {\n",
       "        vertical-align: top;\n",
       "    }\n",
       "\n",
       "    .dataframe thead th {\n",
       "        text-align: right;\n",
       "    }\n",
       "</style>\n",
       "<table border=\"1\" class=\"dataframe\">\n",
       "  <thead>\n",
       "    <tr style=\"text-align: right;\">\n",
       "      <th></th>\n",
       "      <th>id</th>\n",
       "      <th>user_id</th>\n",
       "      <th>call_date</th>\n",
       "      <th>duration</th>\n",
       "    </tr>\n",
       "  </thead>\n",
       "  <tbody>\n",
       "    <tr>\n",
       "      <th>0</th>\n",
       "      <td>1000_93</td>\n",
       "      <td>1000</td>\n",
       "      <td>2018-12-27</td>\n",
       "      <td>8.52</td>\n",
       "    </tr>\n",
       "    <tr>\n",
       "      <th>1</th>\n",
       "      <td>1000_145</td>\n",
       "      <td>1000</td>\n",
       "      <td>2018-12-27</td>\n",
       "      <td>13.66</td>\n",
       "    </tr>\n",
       "    <tr>\n",
       "      <th>2</th>\n",
       "      <td>1000_247</td>\n",
       "      <td>1000</td>\n",
       "      <td>2018-12-27</td>\n",
       "      <td>14.48</td>\n",
       "    </tr>\n",
       "    <tr>\n",
       "      <th>3</th>\n",
       "      <td>1000_309</td>\n",
       "      <td>1000</td>\n",
       "      <td>2018-12-28</td>\n",
       "      <td>5.76</td>\n",
       "    </tr>\n",
       "    <tr>\n",
       "      <th>4</th>\n",
       "      <td>1000_380</td>\n",
       "      <td>1000</td>\n",
       "      <td>2018-12-30</td>\n",
       "      <td>4.22</td>\n",
       "    </tr>\n",
       "    <tr>\n",
       "      <th>5</th>\n",
       "      <td>1000_388</td>\n",
       "      <td>1000</td>\n",
       "      <td>2018-12-31</td>\n",
       "      <td>2.20</td>\n",
       "    </tr>\n",
       "    <tr>\n",
       "      <th>6</th>\n",
       "      <td>1000_510</td>\n",
       "      <td>1000</td>\n",
       "      <td>2018-12-27</td>\n",
       "      <td>5.75</td>\n",
       "    </tr>\n",
       "    <tr>\n",
       "      <th>7</th>\n",
       "      <td>1000_521</td>\n",
       "      <td>1000</td>\n",
       "      <td>2018-12-28</td>\n",
       "      <td>14.18</td>\n",
       "    </tr>\n",
       "    <tr>\n",
       "      <th>8</th>\n",
       "      <td>1000_530</td>\n",
       "      <td>1000</td>\n",
       "      <td>2018-12-28</td>\n",
       "      <td>5.77</td>\n",
       "    </tr>\n",
       "    <tr>\n",
       "      <th>9</th>\n",
       "      <td>1000_544</td>\n",
       "      <td>1000</td>\n",
       "      <td>2018-12-26</td>\n",
       "      <td>4.40</td>\n",
       "    </tr>\n",
       "    <tr>\n",
       "      <th>10</th>\n",
       "      <td>1000_693</td>\n",
       "      <td>1000</td>\n",
       "      <td>2018-12-31</td>\n",
       "      <td>4.31</td>\n",
       "    </tr>\n",
       "    <tr>\n",
       "      <th>11</th>\n",
       "      <td>1000_705</td>\n",
       "      <td>1000</td>\n",
       "      <td>2018-12-31</td>\n",
       "      <td>12.78</td>\n",
       "    </tr>\n",
       "    <tr>\n",
       "      <th>12</th>\n",
       "      <td>1000_735</td>\n",
       "      <td>1000</td>\n",
       "      <td>2018-12-29</td>\n",
       "      <td>1.70</td>\n",
       "    </tr>\n",
       "    <tr>\n",
       "      <th>13</th>\n",
       "      <td>1000_778</td>\n",
       "      <td>1000</td>\n",
       "      <td>2018-12-28</td>\n",
       "      <td>3.29</td>\n",
       "    </tr>\n",
       "    <tr>\n",
       "      <th>14</th>\n",
       "      <td>1000_826</td>\n",
       "      <td>1000</td>\n",
       "      <td>2018-12-26</td>\n",
       "      <td>9.96</td>\n",
       "    </tr>\n",
       "    <tr>\n",
       "      <th>15</th>\n",
       "      <td>1000_842</td>\n",
       "      <td>1000</td>\n",
       "      <td>2018-12-27</td>\n",
       "      <td>5.85</td>\n",
       "    </tr>\n",
       "    <tr>\n",
       "      <th>16</th>\n",
       "      <td>1001_0</td>\n",
       "      <td>1001</td>\n",
       "      <td>2018-09-06</td>\n",
       "      <td>10.06</td>\n",
       "    </tr>\n",
       "    <tr>\n",
       "      <th>17</th>\n",
       "      <td>1001_1</td>\n",
       "      <td>1001</td>\n",
       "      <td>2018-10-12</td>\n",
       "      <td>1.00</td>\n",
       "    </tr>\n",
       "    <tr>\n",
       "      <th>18</th>\n",
       "      <td>1001_2</td>\n",
       "      <td>1001</td>\n",
       "      <td>2018-10-17</td>\n",
       "      <td>15.83</td>\n",
       "    </tr>\n",
       "    <tr>\n",
       "      <th>19</th>\n",
       "      <td>1001_4</td>\n",
       "      <td>1001</td>\n",
       "      <td>2018-12-05</td>\n",
       "      <td>0.00</td>\n",
       "    </tr>\n",
       "  </tbody>\n",
       "</table>\n",
       "</div>"
      ],
      "text/plain": [
       "          id  user_id   call_date  duration\n",
       "0    1000_93     1000  2018-12-27      8.52\n",
       "1   1000_145     1000  2018-12-27     13.66\n",
       "2   1000_247     1000  2018-12-27     14.48\n",
       "3   1000_309     1000  2018-12-28      5.76\n",
       "4   1000_380     1000  2018-12-30      4.22\n",
       "5   1000_388     1000  2018-12-31      2.20\n",
       "6   1000_510     1000  2018-12-27      5.75\n",
       "7   1000_521     1000  2018-12-28     14.18\n",
       "8   1000_530     1000  2018-12-28      5.77\n",
       "9   1000_544     1000  2018-12-26      4.40\n",
       "10  1000_693     1000  2018-12-31      4.31\n",
       "11  1000_705     1000  2018-12-31     12.78\n",
       "12  1000_735     1000  2018-12-29      1.70\n",
       "13  1000_778     1000  2018-12-28      3.29\n",
       "14  1000_826     1000  2018-12-26      9.96\n",
       "15  1000_842     1000  2018-12-27      5.85\n",
       "16    1001_0     1001  2018-09-06     10.06\n",
       "17    1001_1     1001  2018-10-12      1.00\n",
       "18    1001_2     1001  2018-10-17     15.83\n",
       "19    1001_4     1001  2018-12-05      0.00"
      ]
     },
     "execution_count": 9,
     "metadata": {},
     "output_type": "execute_result"
    }
   ],
   "source": [
    "(df_calls.head(20))# Imprima uma amostra de dados das chamadas\n",
    "\n"
   ]
  },
  {
   "cell_type": "markdown",
   "metadata": {
    "id": "Y8An85-Tuj8k"
   },
   "source": [
    "[Descreva o que você vê e observa nas informações gerais e na amostra de dados impressa para a parte dos dados acima. Existem problemas (tipos de dados inadequados, dados ausentes, etc.) que precisam de mais investigação e alterações? Como isso pode ser corrigido?]"
   ]
  },
  {
   "cell_type": "markdown",
   "metadata": {
    "id": "x5a99U4xuj8k"
   },
   "source": [
    "### Corrija os dados"
   ]
  },
  {
   "cell_type": "markdown",
   "metadata": {
    "id": "MQqkU83Xuj8k"
   },
   "source": [
    "[Corrija problemas óbvios com os dados conforme as observações iniciais.]"
   ]
  },
  {
   "cell_type": "code",
   "execution_count": 10,
   "metadata": {
    "id": "lBjdw0Bnuj8l"
   },
   "outputs": [],
   "source": [
    "\n",
    "df_calls['call_date'] = pd.to_datetime(df_calls['call_date'])"
   ]
  },
  {
   "cell_type": "code",
   "execution_count": 11,
   "metadata": {},
   "outputs": [
    {
     "name": "stdout",
     "output_type": "stream",
     "text": [
      "<class 'pandas.core.frame.DataFrame'>\n",
      "RangeIndex: 137735 entries, 0 to 137734\n",
      "Data columns (total 4 columns):\n",
      " #   Column     Non-Null Count   Dtype         \n",
      "---  ------     --------------   -----         \n",
      " 0   id         137735 non-null  object        \n",
      " 1   user_id    137735 non-null  int64         \n",
      " 2   call_date  137735 non-null  datetime64[ns]\n",
      " 3   duration   137735 non-null  float64       \n",
      "dtypes: datetime64[ns](1), float64(1), int64(1), object(1)\n",
      "memory usage: 4.2+ MB\n"
     ]
    }
   ],
   "source": [
    "(df_calls.info())"
   ]
  },
  {
   "cell_type": "code",
   "execution_count": 12,
   "metadata": {},
   "outputs": [
    {
     "data": {
      "text/html": [
       "<div>\n",
       "<style scoped>\n",
       "    .dataframe tbody tr th:only-of-type {\n",
       "        vertical-align: middle;\n",
       "    }\n",
       "\n",
       "    .dataframe tbody tr th {\n",
       "        vertical-align: top;\n",
       "    }\n",
       "\n",
       "    .dataframe thead th {\n",
       "        text-align: right;\n",
       "    }\n",
       "</style>\n",
       "<table border=\"1\" class=\"dataframe\">\n",
       "  <thead>\n",
       "    <tr style=\"text-align: right;\">\n",
       "      <th></th>\n",
       "      <th>id</th>\n",
       "      <th>user_id</th>\n",
       "      <th>call_date</th>\n",
       "      <th>duration</th>\n",
       "    </tr>\n",
       "  </thead>\n",
       "  <tbody>\n",
       "    <tr>\n",
       "      <th>0</th>\n",
       "      <td>1000_93</td>\n",
       "      <td>1000</td>\n",
       "      <td>2018-12-27</td>\n",
       "      <td>8.52</td>\n",
       "    </tr>\n",
       "    <tr>\n",
       "      <th>1</th>\n",
       "      <td>1000_145</td>\n",
       "      <td>1000</td>\n",
       "      <td>2018-12-27</td>\n",
       "      <td>13.66</td>\n",
       "    </tr>\n",
       "    <tr>\n",
       "      <th>2</th>\n",
       "      <td>1000_247</td>\n",
       "      <td>1000</td>\n",
       "      <td>2018-12-27</td>\n",
       "      <td>14.48</td>\n",
       "    </tr>\n",
       "    <tr>\n",
       "      <th>3</th>\n",
       "      <td>1000_309</td>\n",
       "      <td>1000</td>\n",
       "      <td>2018-12-28</td>\n",
       "      <td>5.76</td>\n",
       "    </tr>\n",
       "    <tr>\n",
       "      <th>4</th>\n",
       "      <td>1000_380</td>\n",
       "      <td>1000</td>\n",
       "      <td>2018-12-30</td>\n",
       "      <td>4.22</td>\n",
       "    </tr>\n",
       "    <tr>\n",
       "      <th>5</th>\n",
       "      <td>1000_388</td>\n",
       "      <td>1000</td>\n",
       "      <td>2018-12-31</td>\n",
       "      <td>2.20</td>\n",
       "    </tr>\n",
       "    <tr>\n",
       "      <th>6</th>\n",
       "      <td>1000_510</td>\n",
       "      <td>1000</td>\n",
       "      <td>2018-12-27</td>\n",
       "      <td>5.75</td>\n",
       "    </tr>\n",
       "    <tr>\n",
       "      <th>7</th>\n",
       "      <td>1000_521</td>\n",
       "      <td>1000</td>\n",
       "      <td>2018-12-28</td>\n",
       "      <td>14.18</td>\n",
       "    </tr>\n",
       "    <tr>\n",
       "      <th>8</th>\n",
       "      <td>1000_530</td>\n",
       "      <td>1000</td>\n",
       "      <td>2018-12-28</td>\n",
       "      <td>5.77</td>\n",
       "    </tr>\n",
       "    <tr>\n",
       "      <th>9</th>\n",
       "      <td>1000_544</td>\n",
       "      <td>1000</td>\n",
       "      <td>2018-12-26</td>\n",
       "      <td>4.40</td>\n",
       "    </tr>\n",
       "  </tbody>\n",
       "</table>\n",
       "</div>"
      ],
      "text/plain": [
       "         id  user_id  call_date  duration\n",
       "0   1000_93     1000 2018-12-27      8.52\n",
       "1  1000_145     1000 2018-12-27     13.66\n",
       "2  1000_247     1000 2018-12-27     14.48\n",
       "3  1000_309     1000 2018-12-28      5.76\n",
       "4  1000_380     1000 2018-12-30      4.22\n",
       "5  1000_388     1000 2018-12-31      2.20\n",
       "6  1000_510     1000 2018-12-27      5.75\n",
       "7  1000_521     1000 2018-12-28     14.18\n",
       "8  1000_530     1000 2018-12-28      5.77\n",
       "9  1000_544     1000 2018-12-26      4.40"
      ]
     },
     "execution_count": 12,
     "metadata": {},
     "output_type": "execute_result"
    }
   ],
   "source": [
    "(df_calls.head(10))"
   ]
  },
  {
   "cell_type": "markdown",
   "metadata": {
    "id": "MFm5xyh4uj8l"
   },
   "source": [
    "### Enriqueça os dados"
   ]
  },
  {
   "cell_type": "markdown",
   "metadata": {
    "id": "Udv2togruj8l"
   },
   "source": [
    "[Inclua fatores adicionais aos dados se você acredita que eles podem ser úteis.]"
   ]
  },
  {
   "cell_type": "code",
   "execution_count": 13,
   "metadata": {
    "id": "nwOKTgfluj8l"
   },
   "outputs": [
    {
     "data": {
      "text/html": [
       "<div>\n",
       "<style scoped>\n",
       "    .dataframe tbody tr th:only-of-type {\n",
       "        vertical-align: middle;\n",
       "    }\n",
       "\n",
       "    .dataframe tbody tr th {\n",
       "        vertical-align: top;\n",
       "    }\n",
       "\n",
       "    .dataframe thead th {\n",
       "        text-align: right;\n",
       "    }\n",
       "</style>\n",
       "<table border=\"1\" class=\"dataframe\">\n",
       "  <thead>\n",
       "    <tr style=\"text-align: right;\">\n",
       "      <th></th>\n",
       "      <th>id</th>\n",
       "      <th>user_id</th>\n",
       "      <th>call_date</th>\n",
       "      <th>duration</th>\n",
       "      <th>year</th>\n",
       "      <th>month</th>\n",
       "      <th>plan</th>\n",
       "    </tr>\n",
       "  </thead>\n",
       "  <tbody>\n",
       "    <tr>\n",
       "      <th>0</th>\n",
       "      <td>1000_93</td>\n",
       "      <td>1000</td>\n",
       "      <td>2018-12-27</td>\n",
       "      <td>8.52</td>\n",
       "      <td>2018</td>\n",
       "      <td>12</td>\n",
       "      <td>ultimate</td>\n",
       "    </tr>\n",
       "    <tr>\n",
       "      <th>1</th>\n",
       "      <td>1000_145</td>\n",
       "      <td>1000</td>\n",
       "      <td>2018-12-27</td>\n",
       "      <td>13.66</td>\n",
       "      <td>2018</td>\n",
       "      <td>12</td>\n",
       "      <td>surf</td>\n",
       "    </tr>\n",
       "    <tr>\n",
       "      <th>2</th>\n",
       "      <td>1000_247</td>\n",
       "      <td>1000</td>\n",
       "      <td>2018-12-27</td>\n",
       "      <td>14.48</td>\n",
       "      <td>2018</td>\n",
       "      <td>12</td>\n",
       "      <td>surf</td>\n",
       "    </tr>\n",
       "    <tr>\n",
       "      <th>3</th>\n",
       "      <td>1000_309</td>\n",
       "      <td>1000</td>\n",
       "      <td>2018-12-28</td>\n",
       "      <td>5.76</td>\n",
       "      <td>2018</td>\n",
       "      <td>12</td>\n",
       "      <td>surf</td>\n",
       "    </tr>\n",
       "    <tr>\n",
       "      <th>4</th>\n",
       "      <td>1000_380</td>\n",
       "      <td>1000</td>\n",
       "      <td>2018-12-30</td>\n",
       "      <td>4.22</td>\n",
       "      <td>2018</td>\n",
       "      <td>12</td>\n",
       "      <td>surf</td>\n",
       "    </tr>\n",
       "    <tr>\n",
       "      <th>...</th>\n",
       "      <td>...</td>\n",
       "      <td>...</td>\n",
       "      <td>...</td>\n",
       "      <td>...</td>\n",
       "      <td>...</td>\n",
       "      <td>...</td>\n",
       "      <td>...</td>\n",
       "    </tr>\n",
       "    <tr>\n",
       "      <th>137730</th>\n",
       "      <td>1499_199</td>\n",
       "      <td>1499</td>\n",
       "      <td>2018-11-21</td>\n",
       "      <td>8.72</td>\n",
       "      <td>2018</td>\n",
       "      <td>11</td>\n",
       "      <td>NaN</td>\n",
       "    </tr>\n",
       "    <tr>\n",
       "      <th>137731</th>\n",
       "      <td>1499_200</td>\n",
       "      <td>1499</td>\n",
       "      <td>2018-10-20</td>\n",
       "      <td>10.89</td>\n",
       "      <td>2018</td>\n",
       "      <td>10</td>\n",
       "      <td>NaN</td>\n",
       "    </tr>\n",
       "    <tr>\n",
       "      <th>137732</th>\n",
       "      <td>1499_201</td>\n",
       "      <td>1499</td>\n",
       "      <td>2018-09-21</td>\n",
       "      <td>8.12</td>\n",
       "      <td>2018</td>\n",
       "      <td>9</td>\n",
       "      <td>NaN</td>\n",
       "    </tr>\n",
       "    <tr>\n",
       "      <th>137733</th>\n",
       "      <td>1499_202</td>\n",
       "      <td>1499</td>\n",
       "      <td>2018-10-10</td>\n",
       "      <td>0.37</td>\n",
       "      <td>2018</td>\n",
       "      <td>10</td>\n",
       "      <td>NaN</td>\n",
       "    </tr>\n",
       "    <tr>\n",
       "      <th>137734</th>\n",
       "      <td>1499_203</td>\n",
       "      <td>1499</td>\n",
       "      <td>2018-12-29</td>\n",
       "      <td>13.86</td>\n",
       "      <td>2018</td>\n",
       "      <td>12</td>\n",
       "      <td>NaN</td>\n",
       "    </tr>\n",
       "  </tbody>\n",
       "</table>\n",
       "<p>137735 rows × 7 columns</p>\n",
       "</div>"
      ],
      "text/plain": [
       "              id  user_id  call_date  duration  year  month      plan\n",
       "0        1000_93     1000 2018-12-27      8.52  2018     12  ultimate\n",
       "1       1000_145     1000 2018-12-27     13.66  2018     12      surf\n",
       "2       1000_247     1000 2018-12-27     14.48  2018     12      surf\n",
       "3       1000_309     1000 2018-12-28      5.76  2018     12      surf\n",
       "4       1000_380     1000 2018-12-30      4.22  2018     12      surf\n",
       "...          ...      ...        ...       ...   ...    ...       ...\n",
       "137730  1499_199     1499 2018-11-21      8.72  2018     11       NaN\n",
       "137731  1499_200     1499 2018-10-20     10.89  2018     10       NaN\n",
       "137732  1499_201     1499 2018-09-21      8.12  2018      9       NaN\n",
       "137733  1499_202     1499 2018-10-10      0.37  2018     10       NaN\n",
       "137734  1499_203     1499 2018-12-29     13.86  2018     12       NaN\n",
       "\n",
       "[137735 rows x 7 columns]"
      ]
     },
     "execution_count": 13,
     "metadata": {},
     "output_type": "execute_result"
    }
   ],
   "source": [
    "df_calls['year'] = df_calls['call_date'].dt.year\n",
    "df_calls['month'] = df_calls['call_date'].dt.month\n",
    "\n",
    "df_merged_calls = df_calls.merge(df_users[['plan']],left_index= True, right_index= True, how='left')\n",
    "\n",
    "(df_calls)\n",
    "(df_merged_calls)"
   ]
  },
  {
   "cell_type": "markdown",
   "metadata": {
    "id": "qLz4FkyRuj8l"
   },
   "source": [
    "## Mensagens"
   ]
  },
  {
   "cell_type": "code",
   "execution_count": 14,
   "metadata": {
    "id": "nFA9DFkCuj8l"
   },
   "outputs": [
    {
     "name": "stdout",
     "output_type": "stream",
     "text": [
      "<class 'pandas.core.frame.DataFrame'>\n",
      "RangeIndex: 76051 entries, 0 to 76050\n",
      "Data columns (total 3 columns):\n",
      " #   Column        Non-Null Count  Dtype \n",
      "---  ------        --------------  ----- \n",
      " 0   id            76051 non-null  object\n",
      " 1   user_id       76051 non-null  int64 \n",
      " 2   message_date  76051 non-null  object\n",
      "dtypes: int64(1), object(2)\n",
      "memory usage: 1.7+ MB\n"
     ]
    }
   ],
   "source": [
    "(df_messages.info())\n",
    "# Imprima as informações gerais/resumidas sobre o DataFrame das mensagens\n",
    "\n"
   ]
  },
  {
   "cell_type": "code",
   "execution_count": 15,
   "metadata": {
    "id": "ysEFBZWxuj8m"
   },
   "outputs": [
    {
     "data": {
      "text/html": [
       "<div>\n",
       "<style scoped>\n",
       "    .dataframe tbody tr th:only-of-type {\n",
       "        vertical-align: middle;\n",
       "    }\n",
       "\n",
       "    .dataframe tbody tr th {\n",
       "        vertical-align: top;\n",
       "    }\n",
       "\n",
       "    .dataframe thead th {\n",
       "        text-align: right;\n",
       "    }\n",
       "</style>\n",
       "<table border=\"1\" class=\"dataframe\">\n",
       "  <thead>\n",
       "    <tr style=\"text-align: right;\">\n",
       "      <th></th>\n",
       "      <th>id</th>\n",
       "      <th>user_id</th>\n",
       "      <th>message_date</th>\n",
       "    </tr>\n",
       "  </thead>\n",
       "  <tbody>\n",
       "    <tr>\n",
       "      <th>0</th>\n",
       "      <td>1000_125</td>\n",
       "      <td>1000</td>\n",
       "      <td>2018-12-27</td>\n",
       "    </tr>\n",
       "    <tr>\n",
       "      <th>1</th>\n",
       "      <td>1000_160</td>\n",
       "      <td>1000</td>\n",
       "      <td>2018-12-31</td>\n",
       "    </tr>\n",
       "    <tr>\n",
       "      <th>2</th>\n",
       "      <td>1000_223</td>\n",
       "      <td>1000</td>\n",
       "      <td>2018-12-31</td>\n",
       "    </tr>\n",
       "    <tr>\n",
       "      <th>3</th>\n",
       "      <td>1000_251</td>\n",
       "      <td>1000</td>\n",
       "      <td>2018-12-27</td>\n",
       "    </tr>\n",
       "    <tr>\n",
       "      <th>4</th>\n",
       "      <td>1000_255</td>\n",
       "      <td>1000</td>\n",
       "      <td>2018-12-26</td>\n",
       "    </tr>\n",
       "  </tbody>\n",
       "</table>\n",
       "</div>"
      ],
      "text/plain": [
       "         id  user_id message_date\n",
       "0  1000_125     1000   2018-12-27\n",
       "1  1000_160     1000   2018-12-31\n",
       "2  1000_223     1000   2018-12-31\n",
       "3  1000_251     1000   2018-12-27\n",
       "4  1000_255     1000   2018-12-26"
      ]
     },
     "execution_count": 15,
     "metadata": {},
     "output_type": "execute_result"
    }
   ],
   "source": [
    "(df_messages.head())\n",
    "# Imprima uma amostra dos dados das mensagens\n",
    "\n"
   ]
  },
  {
   "cell_type": "markdown",
   "metadata": {
    "id": "GUtt1TqCuj8m"
   },
   "source": [
    "[Descreva o que você vê e observa nas informações gerais e na amostra de dados impressa para a parte dos dados acima. Existem problemas (tipos de dados inadequados, dados ausentes, etc.) que precisam de mais investigação e alterações? Como isso pode ser corrigido?]"
   ]
  },
  {
   "cell_type": "markdown",
   "metadata": {
    "id": "tT8N_hc6uj8m"
   },
   "source": [
    "### Corrija os dados"
   ]
  },
  {
   "cell_type": "markdown",
   "metadata": {
    "id": "IgO0SzXKuj8m"
   },
   "source": [
    "[Corrija problemas óbvios com os dados conforme as observações iniciais.]"
   ]
  },
  {
   "cell_type": "code",
   "execution_count": 16,
   "metadata": {
    "id": "SpBqbQHCuj8m"
   },
   "outputs": [
    {
     "data": {
      "text/html": [
       "<div>\n",
       "<style scoped>\n",
       "    .dataframe tbody tr th:only-of-type {\n",
       "        vertical-align: middle;\n",
       "    }\n",
       "\n",
       "    .dataframe tbody tr th {\n",
       "        vertical-align: top;\n",
       "    }\n",
       "\n",
       "    .dataframe thead th {\n",
       "        text-align: right;\n",
       "    }\n",
       "</style>\n",
       "<table border=\"1\" class=\"dataframe\">\n",
       "  <thead>\n",
       "    <tr style=\"text-align: right;\">\n",
       "      <th></th>\n",
       "      <th>id</th>\n",
       "      <th>user_id</th>\n",
       "      <th>message_date</th>\n",
       "    </tr>\n",
       "  </thead>\n",
       "  <tbody>\n",
       "    <tr>\n",
       "      <th>0</th>\n",
       "      <td>1000_125</td>\n",
       "      <td>1000</td>\n",
       "      <td>2018-12-27</td>\n",
       "    </tr>\n",
       "    <tr>\n",
       "      <th>1</th>\n",
       "      <td>1000_160</td>\n",
       "      <td>1000</td>\n",
       "      <td>2018-12-31</td>\n",
       "    </tr>\n",
       "    <tr>\n",
       "      <th>2</th>\n",
       "      <td>1000_223</td>\n",
       "      <td>1000</td>\n",
       "      <td>2018-12-31</td>\n",
       "    </tr>\n",
       "    <tr>\n",
       "      <th>3</th>\n",
       "      <td>1000_251</td>\n",
       "      <td>1000</td>\n",
       "      <td>2018-12-27</td>\n",
       "    </tr>\n",
       "    <tr>\n",
       "      <th>4</th>\n",
       "      <td>1000_255</td>\n",
       "      <td>1000</td>\n",
       "      <td>2018-12-26</td>\n",
       "    </tr>\n",
       "  </tbody>\n",
       "</table>\n",
       "</div>"
      ],
      "text/plain": [
       "         id  user_id message_date\n",
       "0  1000_125     1000   2018-12-27\n",
       "1  1000_160     1000   2018-12-31\n",
       "2  1000_223     1000   2018-12-31\n",
       "3  1000_251     1000   2018-12-27\n",
       "4  1000_255     1000   2018-12-26"
      ]
     },
     "execution_count": 16,
     "metadata": {},
     "output_type": "execute_result"
    }
   ],
   "source": [
    "df_messages['message_date'] = pd.to_datetime(df_messages['message_date'])\n",
    "\n",
    "(df_messages.head())"
   ]
  },
  {
   "cell_type": "markdown",
   "metadata": {
    "id": "feV2Njo9uj8n"
   },
   "source": [
    "### Enriqueça os dados"
   ]
  },
  {
   "cell_type": "markdown",
   "metadata": {
    "id": "KA5XDEoZuj8n"
   },
   "source": [
    "[Inclua fatores adicionais aos dados se você acredita que eles podem ser úteis.]"
   ]
  },
  {
   "cell_type": "code",
   "execution_count": 17,
   "metadata": {
    "id": "SkuCXcLJuj8n"
   },
   "outputs": [
    {
     "data": {
      "text/html": [
       "<div>\n",
       "<style scoped>\n",
       "    .dataframe tbody tr th:only-of-type {\n",
       "        vertical-align: middle;\n",
       "    }\n",
       "\n",
       "    .dataframe tbody tr th {\n",
       "        vertical-align: top;\n",
       "    }\n",
       "\n",
       "    .dataframe thead th {\n",
       "        text-align: right;\n",
       "    }\n",
       "</style>\n",
       "<table border=\"1\" class=\"dataframe\">\n",
       "  <thead>\n",
       "    <tr style=\"text-align: right;\">\n",
       "      <th></th>\n",
       "      <th>id</th>\n",
       "      <th>user_id</th>\n",
       "      <th>message_date</th>\n",
       "      <th>plan</th>\n",
       "    </tr>\n",
       "  </thead>\n",
       "  <tbody>\n",
       "    <tr>\n",
       "      <th>0</th>\n",
       "      <td>1000_125</td>\n",
       "      <td>1000</td>\n",
       "      <td>2018-12-27</td>\n",
       "      <td>ultimate</td>\n",
       "    </tr>\n",
       "    <tr>\n",
       "      <th>1</th>\n",
       "      <td>1000_160</td>\n",
       "      <td>1000</td>\n",
       "      <td>2018-12-31</td>\n",
       "      <td>surf</td>\n",
       "    </tr>\n",
       "    <tr>\n",
       "      <th>2</th>\n",
       "      <td>1000_223</td>\n",
       "      <td>1000</td>\n",
       "      <td>2018-12-31</td>\n",
       "      <td>surf</td>\n",
       "    </tr>\n",
       "    <tr>\n",
       "      <th>3</th>\n",
       "      <td>1000_251</td>\n",
       "      <td>1000</td>\n",
       "      <td>2018-12-27</td>\n",
       "      <td>surf</td>\n",
       "    </tr>\n",
       "    <tr>\n",
       "      <th>4</th>\n",
       "      <td>1000_255</td>\n",
       "      <td>1000</td>\n",
       "      <td>2018-12-26</td>\n",
       "      <td>surf</td>\n",
       "    </tr>\n",
       "    <tr>\n",
       "      <th>...</th>\n",
       "      <td>...</td>\n",
       "      <td>...</td>\n",
       "      <td>...</td>\n",
       "      <td>...</td>\n",
       "    </tr>\n",
       "    <tr>\n",
       "      <th>76046</th>\n",
       "      <td>1497_526</td>\n",
       "      <td>1497</td>\n",
       "      <td>2018-12-24</td>\n",
       "      <td>NaN</td>\n",
       "    </tr>\n",
       "    <tr>\n",
       "      <th>76047</th>\n",
       "      <td>1497_536</td>\n",
       "      <td>1497</td>\n",
       "      <td>2018-12-24</td>\n",
       "      <td>NaN</td>\n",
       "    </tr>\n",
       "    <tr>\n",
       "      <th>76048</th>\n",
       "      <td>1497_547</td>\n",
       "      <td>1497</td>\n",
       "      <td>2018-12-31</td>\n",
       "      <td>NaN</td>\n",
       "    </tr>\n",
       "    <tr>\n",
       "      <th>76049</th>\n",
       "      <td>1497_558</td>\n",
       "      <td>1497</td>\n",
       "      <td>2018-12-24</td>\n",
       "      <td>NaN</td>\n",
       "    </tr>\n",
       "    <tr>\n",
       "      <th>76050</th>\n",
       "      <td>1497_613</td>\n",
       "      <td>1497</td>\n",
       "      <td>2018-12-23</td>\n",
       "      <td>NaN</td>\n",
       "    </tr>\n",
       "  </tbody>\n",
       "</table>\n",
       "<p>76051 rows × 4 columns</p>\n",
       "</div>"
      ],
      "text/plain": [
       "             id  user_id message_date      plan\n",
       "0      1000_125     1000   2018-12-27  ultimate\n",
       "1      1000_160     1000   2018-12-31      surf\n",
       "2      1000_223     1000   2018-12-31      surf\n",
       "3      1000_251     1000   2018-12-27      surf\n",
       "4      1000_255     1000   2018-12-26      surf\n",
       "...         ...      ...          ...       ...\n",
       "76046  1497_526     1497   2018-12-24       NaN\n",
       "76047  1497_536     1497   2018-12-24       NaN\n",
       "76048  1497_547     1497   2018-12-31       NaN\n",
       "76049  1497_558     1497   2018-12-24       NaN\n",
       "76050  1497_613     1497   2018-12-23       NaN\n",
       "\n",
       "[76051 rows x 4 columns]"
      ]
     },
     "execution_count": 17,
     "metadata": {},
     "output_type": "execute_result"
    }
   ],
   "source": [
    "df_merged_plans = df_messages.merge(df_users[['plan']],left_index= True, right_index= True, how='left')\n",
    "\n",
    "df_messages['year'] = df_messages['message_date'].dt.year\n",
    "df_messages['month'] = df_messages['message_date'].dt.month\n",
    "\n",
    "(df_messages)\n",
    "(df_merged_plans)"
   ]
  },
  {
   "cell_type": "markdown",
   "metadata": {
    "id": "ZRFaOWzGuj8n"
   },
   "source": [
    "## Internet"
   ]
  },
  {
   "cell_type": "code",
   "execution_count": 18,
   "metadata": {
    "id": "ob3-qv4nuj8n"
   },
   "outputs": [
    {
     "name": "stdout",
     "output_type": "stream",
     "text": [
      "<class 'pandas.core.frame.DataFrame'>\n",
      "RangeIndex: 104825 entries, 0 to 104824\n",
      "Data columns (total 4 columns):\n",
      " #   Column        Non-Null Count   Dtype  \n",
      "---  ------        --------------   -----  \n",
      " 0   id            104825 non-null  object \n",
      " 1   user_id       104825 non-null  int64  \n",
      " 2   session_date  104825 non-null  object \n",
      " 3   mb_used       104825 non-null  float64\n",
      "dtypes: float64(1), int64(1), object(2)\n",
      "memory usage: 3.2+ MB\n"
     ]
    }
   ],
   "source": [
    "(df_internet.info())\n",
    "# Imprima as informações gerais/resumidas sobre o DataFrame da internet\n",
    "\n"
   ]
  },
  {
   "cell_type": "code",
   "execution_count": 19,
   "metadata": {
    "id": "iIHK4fZsuj8n"
   },
   "outputs": [
    {
     "data": {
      "text/html": [
       "<div>\n",
       "<style scoped>\n",
       "    .dataframe tbody tr th:only-of-type {\n",
       "        vertical-align: middle;\n",
       "    }\n",
       "\n",
       "    .dataframe tbody tr th {\n",
       "        vertical-align: top;\n",
       "    }\n",
       "\n",
       "    .dataframe thead th {\n",
       "        text-align: right;\n",
       "    }\n",
       "</style>\n",
       "<table border=\"1\" class=\"dataframe\">\n",
       "  <thead>\n",
       "    <tr style=\"text-align: right;\">\n",
       "      <th></th>\n",
       "      <th>id</th>\n",
       "      <th>user_id</th>\n",
       "      <th>session_date</th>\n",
       "      <th>mb_used</th>\n",
       "    </tr>\n",
       "  </thead>\n",
       "  <tbody>\n",
       "    <tr>\n",
       "      <th>0</th>\n",
       "      <td>1000_13</td>\n",
       "      <td>1000</td>\n",
       "      <td>2018-12-29</td>\n",
       "      <td>89.86</td>\n",
       "    </tr>\n",
       "    <tr>\n",
       "      <th>1</th>\n",
       "      <td>1000_204</td>\n",
       "      <td>1000</td>\n",
       "      <td>2018-12-31</td>\n",
       "      <td>0.00</td>\n",
       "    </tr>\n",
       "    <tr>\n",
       "      <th>2</th>\n",
       "      <td>1000_379</td>\n",
       "      <td>1000</td>\n",
       "      <td>2018-12-28</td>\n",
       "      <td>660.40</td>\n",
       "    </tr>\n",
       "    <tr>\n",
       "      <th>3</th>\n",
       "      <td>1000_413</td>\n",
       "      <td>1000</td>\n",
       "      <td>2018-12-26</td>\n",
       "      <td>270.99</td>\n",
       "    </tr>\n",
       "    <tr>\n",
       "      <th>4</th>\n",
       "      <td>1000_442</td>\n",
       "      <td>1000</td>\n",
       "      <td>2018-12-27</td>\n",
       "      <td>880.22</td>\n",
       "    </tr>\n",
       "  </tbody>\n",
       "</table>\n",
       "</div>"
      ],
      "text/plain": [
       "         id  user_id session_date  mb_used\n",
       "0   1000_13     1000   2018-12-29    89.86\n",
       "1  1000_204     1000   2018-12-31     0.00\n",
       "2  1000_379     1000   2018-12-28   660.40\n",
       "3  1000_413     1000   2018-12-26   270.99\n",
       "4  1000_442     1000   2018-12-27   880.22"
      ]
     },
     "execution_count": 19,
     "metadata": {},
     "output_type": "execute_result"
    }
   ],
   "source": [
    "(df_internet.head())\n",
    "#  Imprima uma amostra de dados para o tráfego da internet\n",
    "\n"
   ]
  },
  {
   "cell_type": "markdown",
   "metadata": {
    "id": "6wpo7ugquj8o"
   },
   "source": [
    "[Descreva o que você vê e observa nas informações gerais e na amostra de dados impressa para a parte dos dados acima. Existem problemas (tipos de dados inadequados, dados ausentes, etc.) que precisam de mais investigação e alterações? Como isso pode ser corrigido?]"
   ]
  },
  {
   "cell_type": "markdown",
   "metadata": {
    "id": "Tly90YrTuj8o"
   },
   "source": [
    "### Corrija os dados"
   ]
  },
  {
   "cell_type": "markdown",
   "metadata": {
    "id": "F_yvcX-9uj8o"
   },
   "source": [
    "[Corrija problemas óbvios com os dados conforme as observações iniciais.]"
   ]
  },
  {
   "cell_type": "code",
   "execution_count": 20,
   "metadata": {
    "id": "GCoX7kbmuj8o"
   },
   "outputs": [
    {
     "data": {
      "text/html": [
       "<div>\n",
       "<style scoped>\n",
       "    .dataframe tbody tr th:only-of-type {\n",
       "        vertical-align: middle;\n",
       "    }\n",
       "\n",
       "    .dataframe tbody tr th {\n",
       "        vertical-align: top;\n",
       "    }\n",
       "\n",
       "    .dataframe thead th {\n",
       "        text-align: right;\n",
       "    }\n",
       "</style>\n",
       "<table border=\"1\" class=\"dataframe\">\n",
       "  <thead>\n",
       "    <tr style=\"text-align: right;\">\n",
       "      <th></th>\n",
       "      <th>id</th>\n",
       "      <th>user_id</th>\n",
       "      <th>session_date</th>\n",
       "      <th>mb_used</th>\n",
       "    </tr>\n",
       "  </thead>\n",
       "  <tbody>\n",
       "    <tr>\n",
       "      <th>0</th>\n",
       "      <td>1000_13</td>\n",
       "      <td>1000</td>\n",
       "      <td>2018-12-29</td>\n",
       "      <td>89.86</td>\n",
       "    </tr>\n",
       "    <tr>\n",
       "      <th>1</th>\n",
       "      <td>1000_204</td>\n",
       "      <td>1000</td>\n",
       "      <td>2018-12-31</td>\n",
       "      <td>0.00</td>\n",
       "    </tr>\n",
       "    <tr>\n",
       "      <th>2</th>\n",
       "      <td>1000_379</td>\n",
       "      <td>1000</td>\n",
       "      <td>2018-12-28</td>\n",
       "      <td>660.40</td>\n",
       "    </tr>\n",
       "    <tr>\n",
       "      <th>3</th>\n",
       "      <td>1000_413</td>\n",
       "      <td>1000</td>\n",
       "      <td>2018-12-26</td>\n",
       "      <td>270.99</td>\n",
       "    </tr>\n",
       "    <tr>\n",
       "      <th>4</th>\n",
       "      <td>1000_442</td>\n",
       "      <td>1000</td>\n",
       "      <td>2018-12-27</td>\n",
       "      <td>880.22</td>\n",
       "    </tr>\n",
       "  </tbody>\n",
       "</table>\n",
       "</div>"
      ],
      "text/plain": [
       "         id  user_id session_date  mb_used\n",
       "0   1000_13     1000   2018-12-29    89.86\n",
       "1  1000_204     1000   2018-12-31     0.00\n",
       "2  1000_379     1000   2018-12-28   660.40\n",
       "3  1000_413     1000   2018-12-26   270.99\n",
       "4  1000_442     1000   2018-12-27   880.22"
      ]
     },
     "execution_count": 20,
     "metadata": {},
     "output_type": "execute_result"
    }
   ],
   "source": [
    "df_internet['session_date'] = pd.to_datetime(df_internet['session_date'])\n",
    "\n",
    "(df_internet.head())"
   ]
  },
  {
   "cell_type": "markdown",
   "metadata": {
    "id": "DEDbrtFduj8o"
   },
   "source": [
    "### Enriqueça os dados"
   ]
  },
  {
   "cell_type": "markdown",
   "metadata": {
    "id": "ilg-XzXpuj8p"
   },
   "source": [
    "[Inclua fatores adicionais aos dados se você acredita que eles podem ser úteis.]"
   ]
  },
  {
   "cell_type": "code",
   "execution_count": 21,
   "metadata": {
    "id": "f1PoZ3Ukuj8p"
   },
   "outputs": [
    {
     "data": {
      "text/html": [
       "<div>\n",
       "<style scoped>\n",
       "    .dataframe tbody tr th:only-of-type {\n",
       "        vertical-align: middle;\n",
       "    }\n",
       "\n",
       "    .dataframe tbody tr th {\n",
       "        vertical-align: top;\n",
       "    }\n",
       "\n",
       "    .dataframe thead th {\n",
       "        text-align: right;\n",
       "    }\n",
       "</style>\n",
       "<table border=\"1\" class=\"dataframe\">\n",
       "  <thead>\n",
       "    <tr style=\"text-align: right;\">\n",
       "      <th></th>\n",
       "      <th>id</th>\n",
       "      <th>user_id</th>\n",
       "      <th>session_date</th>\n",
       "      <th>mb_used</th>\n",
       "      <th>plan</th>\n",
       "    </tr>\n",
       "  </thead>\n",
       "  <tbody>\n",
       "    <tr>\n",
       "      <th>0</th>\n",
       "      <td>1000_13</td>\n",
       "      <td>1000</td>\n",
       "      <td>2018-12-29</td>\n",
       "      <td>89.86</td>\n",
       "      <td>ultimate</td>\n",
       "    </tr>\n",
       "    <tr>\n",
       "      <th>1</th>\n",
       "      <td>1000_204</td>\n",
       "      <td>1000</td>\n",
       "      <td>2018-12-31</td>\n",
       "      <td>0.00</td>\n",
       "      <td>surf</td>\n",
       "    </tr>\n",
       "    <tr>\n",
       "      <th>2</th>\n",
       "      <td>1000_379</td>\n",
       "      <td>1000</td>\n",
       "      <td>2018-12-28</td>\n",
       "      <td>660.40</td>\n",
       "      <td>surf</td>\n",
       "    </tr>\n",
       "    <tr>\n",
       "      <th>3</th>\n",
       "      <td>1000_413</td>\n",
       "      <td>1000</td>\n",
       "      <td>2018-12-26</td>\n",
       "      <td>270.99</td>\n",
       "      <td>surf</td>\n",
       "    </tr>\n",
       "    <tr>\n",
       "      <th>4</th>\n",
       "      <td>1000_442</td>\n",
       "      <td>1000</td>\n",
       "      <td>2018-12-27</td>\n",
       "      <td>880.22</td>\n",
       "      <td>surf</td>\n",
       "    </tr>\n",
       "    <tr>\n",
       "      <th>...</th>\n",
       "      <td>...</td>\n",
       "      <td>...</td>\n",
       "      <td>...</td>\n",
       "      <td>...</td>\n",
       "      <td>...</td>\n",
       "    </tr>\n",
       "    <tr>\n",
       "      <th>104820</th>\n",
       "      <td>1499_215</td>\n",
       "      <td>1499</td>\n",
       "      <td>2018-10-20</td>\n",
       "      <td>218.06</td>\n",
       "      <td>NaN</td>\n",
       "    </tr>\n",
       "    <tr>\n",
       "      <th>104821</th>\n",
       "      <td>1499_216</td>\n",
       "      <td>1499</td>\n",
       "      <td>2018-12-30</td>\n",
       "      <td>304.72</td>\n",
       "      <td>NaN</td>\n",
       "    </tr>\n",
       "    <tr>\n",
       "      <th>104822</th>\n",
       "      <td>1499_217</td>\n",
       "      <td>1499</td>\n",
       "      <td>2018-09-22</td>\n",
       "      <td>292.75</td>\n",
       "      <td>NaN</td>\n",
       "    </tr>\n",
       "    <tr>\n",
       "      <th>104823</th>\n",
       "      <td>1499_218</td>\n",
       "      <td>1499</td>\n",
       "      <td>2018-12-07</td>\n",
       "      <td>0.00</td>\n",
       "      <td>NaN</td>\n",
       "    </tr>\n",
       "    <tr>\n",
       "      <th>104824</th>\n",
       "      <td>1499_219</td>\n",
       "      <td>1499</td>\n",
       "      <td>2018-12-24</td>\n",
       "      <td>758.31</td>\n",
       "      <td>NaN</td>\n",
       "    </tr>\n",
       "  </tbody>\n",
       "</table>\n",
       "<p>104825 rows × 5 columns</p>\n",
       "</div>"
      ],
      "text/plain": [
       "              id  user_id session_date  mb_used      plan\n",
       "0        1000_13     1000   2018-12-29    89.86  ultimate\n",
       "1       1000_204     1000   2018-12-31     0.00      surf\n",
       "2       1000_379     1000   2018-12-28   660.40      surf\n",
       "3       1000_413     1000   2018-12-26   270.99      surf\n",
       "4       1000_442     1000   2018-12-27   880.22      surf\n",
       "...          ...      ...          ...      ...       ...\n",
       "104820  1499_215     1499   2018-10-20   218.06       NaN\n",
       "104821  1499_216     1499   2018-12-30   304.72       NaN\n",
       "104822  1499_217     1499   2018-09-22   292.75       NaN\n",
       "104823  1499_218     1499   2018-12-07     0.00       NaN\n",
       "104824  1499_219     1499   2018-12-24   758.31       NaN\n",
       "\n",
       "[104825 rows x 5 columns]"
      ]
     },
     "execution_count": 21,
     "metadata": {},
     "output_type": "execute_result"
    }
   ],
   "source": [
    "df_merged_internet = df_internet.merge(df_users[['plan']],left_index= True, right_index= True, how='left')\n",
    "\n",
    "df_internet['year'] = df_internet['session_date'].dt.year\n",
    "df_internet['month'] = df_internet['session_date'].dt.month\n",
    "\n",
    "df_merged_internet\n"
   ]
  },
  {
   "cell_type": "markdown",
   "metadata": {
    "id": "bnOX4ARJuj8p"
   },
   "source": [
    "## Estude as condições dos planos"
   ]
  },
  {
   "cell_type": "markdown",
   "metadata": {
    "id": "vMu9_L8quj8p"
   },
   "source": [
    "[É fundamental entender como os planos funcionam e como são as cobranças dos usuários com base na assinatura. Sugerimos imprimir as informações do plano para visualizar novamente as condições.]"
   ]
  },
  {
   "cell_type": "code",
   "execution_count": 22,
   "metadata": {
    "id": "vMXVndWEuj8p"
   },
   "outputs": [
    {
     "data": {
      "text/html": [
       "<div>\n",
       "<style scoped>\n",
       "    .dataframe tbody tr th:only-of-type {\n",
       "        vertical-align: middle;\n",
       "    }\n",
       "\n",
       "    .dataframe tbody tr th {\n",
       "        vertical-align: top;\n",
       "    }\n",
       "\n",
       "    .dataframe thead th {\n",
       "        text-align: right;\n",
       "    }\n",
       "</style>\n",
       "<table border=\"1\" class=\"dataframe\">\n",
       "  <thead>\n",
       "    <tr style=\"text-align: right;\">\n",
       "      <th></th>\n",
       "      <th>user_id</th>\n",
       "      <th>first_name</th>\n",
       "      <th>last_name</th>\n",
       "      <th>age</th>\n",
       "      <th>city</th>\n",
       "      <th>reg_date</th>\n",
       "      <th>plan</th>\n",
       "      <th>churn_date</th>\n",
       "      <th>messages_included</th>\n",
       "      <th>mb_per_month_included</th>\n",
       "      <th>minutes_included</th>\n",
       "      <th>usd_monthly_pay</th>\n",
       "      <th>usd_per_gb</th>\n",
       "      <th>usd_per_message</th>\n",
       "      <th>usd_per_minute</th>\n",
       "      <th>plan_name</th>\n",
       "    </tr>\n",
       "  </thead>\n",
       "  <tbody>\n",
       "    <tr>\n",
       "      <th>0</th>\n",
       "      <td>1000</td>\n",
       "      <td>Anamaria</td>\n",
       "      <td>Bauer</td>\n",
       "      <td>45</td>\n",
       "      <td>Atlanta-Sandy Springs-Roswell, GA MSA</td>\n",
       "      <td>2018-12-24</td>\n",
       "      <td>ultimate</td>\n",
       "      <td>NaN</td>\n",
       "      <td>1000</td>\n",
       "      <td>30720</td>\n",
       "      <td>3000</td>\n",
       "      <td>70</td>\n",
       "      <td>7</td>\n",
       "      <td>0.01</td>\n",
       "      <td>0.01</td>\n",
       "      <td>ultimate</td>\n",
       "    </tr>\n",
       "    <tr>\n",
       "      <th>1</th>\n",
       "      <td>1001</td>\n",
       "      <td>Mickey</td>\n",
       "      <td>Wilkerson</td>\n",
       "      <td>28</td>\n",
       "      <td>Seattle-Tacoma-Bellevue, WA MSA</td>\n",
       "      <td>2018-08-13</td>\n",
       "      <td>surf</td>\n",
       "      <td>NaN</td>\n",
       "      <td>50</td>\n",
       "      <td>15360</td>\n",
       "      <td>500</td>\n",
       "      <td>20</td>\n",
       "      <td>10</td>\n",
       "      <td>0.03</td>\n",
       "      <td>0.03</td>\n",
       "      <td>surf</td>\n",
       "    </tr>\n",
       "    <tr>\n",
       "      <th>2</th>\n",
       "      <td>1002</td>\n",
       "      <td>Carlee</td>\n",
       "      <td>Hoffman</td>\n",
       "      <td>36</td>\n",
       "      <td>Las Vegas-Henderson-Paradise, NV MSA</td>\n",
       "      <td>2018-10-21</td>\n",
       "      <td>surf</td>\n",
       "      <td>NaN</td>\n",
       "      <td>50</td>\n",
       "      <td>15360</td>\n",
       "      <td>500</td>\n",
       "      <td>20</td>\n",
       "      <td>10</td>\n",
       "      <td>0.03</td>\n",
       "      <td>0.03</td>\n",
       "      <td>surf</td>\n",
       "    </tr>\n",
       "    <tr>\n",
       "      <th>3</th>\n",
       "      <td>1003</td>\n",
       "      <td>Reynaldo</td>\n",
       "      <td>Jenkins</td>\n",
       "      <td>52</td>\n",
       "      <td>Tulsa, OK MSA</td>\n",
       "      <td>2018-01-28</td>\n",
       "      <td>surf</td>\n",
       "      <td>NaN</td>\n",
       "      <td>50</td>\n",
       "      <td>15360</td>\n",
       "      <td>500</td>\n",
       "      <td>20</td>\n",
       "      <td>10</td>\n",
       "      <td>0.03</td>\n",
       "      <td>0.03</td>\n",
       "      <td>surf</td>\n",
       "    </tr>\n",
       "    <tr>\n",
       "      <th>4</th>\n",
       "      <td>1004</td>\n",
       "      <td>Leonila</td>\n",
       "      <td>Thompson</td>\n",
       "      <td>40</td>\n",
       "      <td>Seattle-Tacoma-Bellevue, WA MSA</td>\n",
       "      <td>2018-05-23</td>\n",
       "      <td>surf</td>\n",
       "      <td>NaN</td>\n",
       "      <td>50</td>\n",
       "      <td>15360</td>\n",
       "      <td>500</td>\n",
       "      <td>20</td>\n",
       "      <td>10</td>\n",
       "      <td>0.03</td>\n",
       "      <td>0.03</td>\n",
       "      <td>surf</td>\n",
       "    </tr>\n",
       "    <tr>\n",
       "      <th>...</th>\n",
       "      <td>...</td>\n",
       "      <td>...</td>\n",
       "      <td>...</td>\n",
       "      <td>...</td>\n",
       "      <td>...</td>\n",
       "      <td>...</td>\n",
       "      <td>...</td>\n",
       "      <td>...</td>\n",
       "      <td>...</td>\n",
       "      <td>...</td>\n",
       "      <td>...</td>\n",
       "      <td>...</td>\n",
       "      <td>...</td>\n",
       "      <td>...</td>\n",
       "      <td>...</td>\n",
       "      <td>...</td>\n",
       "    </tr>\n",
       "    <tr>\n",
       "      <th>495</th>\n",
       "      <td>1495</td>\n",
       "      <td>Fidel</td>\n",
       "      <td>Sharpe</td>\n",
       "      <td>67</td>\n",
       "      <td>New York-Newark-Jersey City, NY-NJ-PA MSA</td>\n",
       "      <td>2018-09-04</td>\n",
       "      <td>surf</td>\n",
       "      <td>NaN</td>\n",
       "      <td>50</td>\n",
       "      <td>15360</td>\n",
       "      <td>500</td>\n",
       "      <td>20</td>\n",
       "      <td>10</td>\n",
       "      <td>0.03</td>\n",
       "      <td>0.03</td>\n",
       "      <td>surf</td>\n",
       "    </tr>\n",
       "    <tr>\n",
       "      <th>496</th>\n",
       "      <td>1496</td>\n",
       "      <td>Ariel</td>\n",
       "      <td>Shepherd</td>\n",
       "      <td>49</td>\n",
       "      <td>New Orleans-Metairie, LA MSA</td>\n",
       "      <td>2018-02-20</td>\n",
       "      <td>surf</td>\n",
       "      <td>NaN</td>\n",
       "      <td>50</td>\n",
       "      <td>15360</td>\n",
       "      <td>500</td>\n",
       "      <td>20</td>\n",
       "      <td>10</td>\n",
       "      <td>0.03</td>\n",
       "      <td>0.03</td>\n",
       "      <td>surf</td>\n",
       "    </tr>\n",
       "    <tr>\n",
       "      <th>497</th>\n",
       "      <td>1497</td>\n",
       "      <td>Donte</td>\n",
       "      <td>Barrera</td>\n",
       "      <td>49</td>\n",
       "      <td>Los Angeles-Long Beach-Anaheim, CA MSA</td>\n",
       "      <td>2018-12-10</td>\n",
       "      <td>ultimate</td>\n",
       "      <td>NaN</td>\n",
       "      <td>1000</td>\n",
       "      <td>30720</td>\n",
       "      <td>3000</td>\n",
       "      <td>70</td>\n",
       "      <td>7</td>\n",
       "      <td>0.01</td>\n",
       "      <td>0.01</td>\n",
       "      <td>ultimate</td>\n",
       "    </tr>\n",
       "    <tr>\n",
       "      <th>498</th>\n",
       "      <td>1498</td>\n",
       "      <td>Scot</td>\n",
       "      <td>Williamson</td>\n",
       "      <td>51</td>\n",
       "      <td>New York-Newark-Jersey City, NY-NJ-PA MSA</td>\n",
       "      <td>2018-02-04</td>\n",
       "      <td>surf</td>\n",
       "      <td>NaN</td>\n",
       "      <td>50</td>\n",
       "      <td>15360</td>\n",
       "      <td>500</td>\n",
       "      <td>20</td>\n",
       "      <td>10</td>\n",
       "      <td>0.03</td>\n",
       "      <td>0.03</td>\n",
       "      <td>surf</td>\n",
       "    </tr>\n",
       "    <tr>\n",
       "      <th>499</th>\n",
       "      <td>1499</td>\n",
       "      <td>Shena</td>\n",
       "      <td>Dickson</td>\n",
       "      <td>37</td>\n",
       "      <td>Orlando-Kissimmee-Sanford, FL MSA</td>\n",
       "      <td>2018-05-06</td>\n",
       "      <td>surf</td>\n",
       "      <td>NaN</td>\n",
       "      <td>50</td>\n",
       "      <td>15360</td>\n",
       "      <td>500</td>\n",
       "      <td>20</td>\n",
       "      <td>10</td>\n",
       "      <td>0.03</td>\n",
       "      <td>0.03</td>\n",
       "      <td>surf</td>\n",
       "    </tr>\n",
       "  </tbody>\n",
       "</table>\n",
       "<p>500 rows × 16 columns</p>\n",
       "</div>"
      ],
      "text/plain": [
       "     user_id first_name   last_name  age  \\\n",
       "0       1000   Anamaria       Bauer   45   \n",
       "1       1001     Mickey   Wilkerson   28   \n",
       "2       1002     Carlee     Hoffman   36   \n",
       "3       1003   Reynaldo     Jenkins   52   \n",
       "4       1004    Leonila    Thompson   40   \n",
       "..       ...        ...         ...  ...   \n",
       "495     1495      Fidel      Sharpe   67   \n",
       "496     1496      Ariel    Shepherd   49   \n",
       "497     1497      Donte     Barrera   49   \n",
       "498     1498       Scot  Williamson   51   \n",
       "499     1499      Shena     Dickson   37   \n",
       "\n",
       "                                          city   reg_date      plan  \\\n",
       "0        Atlanta-Sandy Springs-Roswell, GA MSA 2018-12-24  ultimate   \n",
       "1              Seattle-Tacoma-Bellevue, WA MSA 2018-08-13      surf   \n",
       "2         Las Vegas-Henderson-Paradise, NV MSA 2018-10-21      surf   \n",
       "3                                Tulsa, OK MSA 2018-01-28      surf   \n",
       "4              Seattle-Tacoma-Bellevue, WA MSA 2018-05-23      surf   \n",
       "..                                         ...        ...       ...   \n",
       "495  New York-Newark-Jersey City, NY-NJ-PA MSA 2018-09-04      surf   \n",
       "496               New Orleans-Metairie, LA MSA 2018-02-20      surf   \n",
       "497     Los Angeles-Long Beach-Anaheim, CA MSA 2018-12-10  ultimate   \n",
       "498  New York-Newark-Jersey City, NY-NJ-PA MSA 2018-02-04      surf   \n",
       "499          Orlando-Kissimmee-Sanford, FL MSA 2018-05-06      surf   \n",
       "\n",
       "    churn_date  messages_included  mb_per_month_included  minutes_included  \\\n",
       "0          NaN               1000                  30720              3000   \n",
       "1          NaN                 50                  15360               500   \n",
       "2          NaN                 50                  15360               500   \n",
       "3          NaN                 50                  15360               500   \n",
       "4          NaN                 50                  15360               500   \n",
       "..         ...                ...                    ...               ...   \n",
       "495        NaN                 50                  15360               500   \n",
       "496        NaN                 50                  15360               500   \n",
       "497        NaN               1000                  30720              3000   \n",
       "498        NaN                 50                  15360               500   \n",
       "499        NaN                 50                  15360               500   \n",
       "\n",
       "     usd_monthly_pay  usd_per_gb  usd_per_message  usd_per_minute plan_name  \n",
       "0                 70           7             0.01            0.01  ultimate  \n",
       "1                 20          10             0.03            0.03      surf  \n",
       "2                 20          10             0.03            0.03      surf  \n",
       "3                 20          10             0.03            0.03      surf  \n",
       "4                 20          10             0.03            0.03      surf  \n",
       "..               ...         ...              ...             ...       ...  \n",
       "495               20          10             0.03            0.03      surf  \n",
       "496               20          10             0.03            0.03      surf  \n",
       "497               70           7             0.01            0.01  ultimate  \n",
       "498               20          10             0.03            0.03      surf  \n",
       "499               20          10             0.03            0.03      surf  \n",
       "\n",
       "[500 rows x 16 columns]"
      ]
     },
     "execution_count": 22,
     "metadata": {},
     "output_type": "execute_result"
    }
   ],
   "source": [
    "pd.merge(df_users, df_plans, how= 'left', left_on= 'plan', right_on= 'plan_name')\n",
    "\n",
    "# Imprima as condições do plano e certifique-se de que elas fazem sentido para você\n",
    "\n"
   ]
  },
  {
   "cell_type": "markdown",
   "metadata": {
    "id": "1v1EshDmuj8q"
   },
   "source": [
    "## Agregue os dados por usuário\n",
    "\n",
    "[Agora, como os dados estão limpos, agregue os dados por usuário por período para ter apenas um registro por usuário por período. Isso vai facilitar muito a análise posterior.]"
   ]
  },
  {
   "cell_type": "code",
   "execution_count": 23,
   "metadata": {
    "id": "yHgBWCJJuj8q"
   },
   "outputs": [
    {
     "data": {
      "text/html": [
       "<div>\n",
       "<style scoped>\n",
       "    .dataframe tbody tr th:only-of-type {\n",
       "        vertical-align: middle;\n",
       "    }\n",
       "\n",
       "    .dataframe tbody tr th {\n",
       "        vertical-align: top;\n",
       "    }\n",
       "\n",
       "    .dataframe thead th {\n",
       "        text-align: right;\n",
       "    }\n",
       "</style>\n",
       "<table border=\"1\" class=\"dataframe\">\n",
       "  <thead>\n",
       "    <tr style=\"text-align: right;\">\n",
       "      <th></th>\n",
       "      <th>user_id</th>\n",
       "      <th>month</th>\n",
       "      <th>duration</th>\n",
       "    </tr>\n",
       "  </thead>\n",
       "  <tbody>\n",
       "    <tr>\n",
       "      <th>0</th>\n",
       "      <td>1000</td>\n",
       "      <td>12</td>\n",
       "      <td>116.83</td>\n",
       "    </tr>\n",
       "    <tr>\n",
       "      <th>1</th>\n",
       "      <td>1001</td>\n",
       "      <td>8</td>\n",
       "      <td>171.14</td>\n",
       "    </tr>\n",
       "    <tr>\n",
       "      <th>2</th>\n",
       "      <td>1001</td>\n",
       "      <td>9</td>\n",
       "      <td>297.69</td>\n",
       "    </tr>\n",
       "    <tr>\n",
       "      <th>3</th>\n",
       "      <td>1001</td>\n",
       "      <td>10</td>\n",
       "      <td>374.11</td>\n",
       "    </tr>\n",
       "    <tr>\n",
       "      <th>4</th>\n",
       "      <td>1001</td>\n",
       "      <td>11</td>\n",
       "      <td>404.59</td>\n",
       "    </tr>\n",
       "    <tr>\n",
       "      <th>...</th>\n",
       "      <td>...</td>\n",
       "      <td>...</td>\n",
       "      <td>...</td>\n",
       "    </tr>\n",
       "    <tr>\n",
       "      <th>2253</th>\n",
       "      <td>1498</td>\n",
       "      <td>12</td>\n",
       "      <td>324.77</td>\n",
       "    </tr>\n",
       "    <tr>\n",
       "      <th>2254</th>\n",
       "      <td>1499</td>\n",
       "      <td>9</td>\n",
       "      <td>330.37</td>\n",
       "    </tr>\n",
       "    <tr>\n",
       "      <th>2255</th>\n",
       "      <td>1499</td>\n",
       "      <td>10</td>\n",
       "      <td>363.28</td>\n",
       "    </tr>\n",
       "    <tr>\n",
       "      <th>2256</th>\n",
       "      <td>1499</td>\n",
       "      <td>11</td>\n",
       "      <td>288.56</td>\n",
       "    </tr>\n",
       "    <tr>\n",
       "      <th>2257</th>\n",
       "      <td>1499</td>\n",
       "      <td>12</td>\n",
       "      <td>468.10</td>\n",
       "    </tr>\n",
       "  </tbody>\n",
       "</table>\n",
       "<p>2258 rows × 3 columns</p>\n",
       "</div>"
      ],
      "text/plain": [
       "      user_id  month  duration\n",
       "0        1000     12    116.83\n",
       "1        1001      8    171.14\n",
       "2        1001      9    297.69\n",
       "3        1001     10    374.11\n",
       "4        1001     11    404.59\n",
       "...       ...    ...       ...\n",
       "2253     1498     12    324.77\n",
       "2254     1499      9    330.37\n",
       "2255     1499     10    363.28\n",
       "2256     1499     11    288.56\n",
       "2257     1499     12    468.10\n",
       "\n",
       "[2258 rows x 3 columns]"
      ]
     },
     "execution_count": 23,
     "metadata": {},
     "output_type": "execute_result"
    }
   ],
   "source": [
    "chamadas_min_mes = df_calls.groupby(['user_id','month'])['duration'].sum().reset_index() \n",
    "\n",
    "chamadas_min_mes\n",
    "\n",
    "# Calcule a quantidade de minutos gastos por cada usuário por mês. Salve o resultado.\n"
   ]
  },
  {
   "cell_type": "code",
   "execution_count": 24,
   "metadata": {},
   "outputs": [
    {
     "data": {
      "text/html": [
       "<div>\n",
       "<style scoped>\n",
       "    .dataframe tbody tr th:only-of-type {\n",
       "        vertical-align: middle;\n",
       "    }\n",
       "\n",
       "    .dataframe tbody tr th {\n",
       "        vertical-align: top;\n",
       "    }\n",
       "\n",
       "    .dataframe thead th {\n",
       "        text-align: right;\n",
       "    }\n",
       "</style>\n",
       "<table border=\"1\" class=\"dataframe\">\n",
       "  <thead>\n",
       "    <tr style=\"text-align: right;\">\n",
       "      <th></th>\n",
       "      <th>user_id</th>\n",
       "      <th>month</th>\n",
       "      <th>total_chamadas</th>\n",
       "    </tr>\n",
       "  </thead>\n",
       "  <tbody>\n",
       "    <tr>\n",
       "      <th>0</th>\n",
       "      <td>1000</td>\n",
       "      <td>12</td>\n",
       "      <td>16</td>\n",
       "    </tr>\n",
       "    <tr>\n",
       "      <th>1</th>\n",
       "      <td>1001</td>\n",
       "      <td>8</td>\n",
       "      <td>27</td>\n",
       "    </tr>\n",
       "    <tr>\n",
       "      <th>2</th>\n",
       "      <td>1001</td>\n",
       "      <td>9</td>\n",
       "      <td>49</td>\n",
       "    </tr>\n",
       "    <tr>\n",
       "      <th>3</th>\n",
       "      <td>1001</td>\n",
       "      <td>10</td>\n",
       "      <td>65</td>\n",
       "    </tr>\n",
       "    <tr>\n",
       "      <th>4</th>\n",
       "      <td>1001</td>\n",
       "      <td>11</td>\n",
       "      <td>64</td>\n",
       "    </tr>\n",
       "    <tr>\n",
       "      <th>...</th>\n",
       "      <td>...</td>\n",
       "      <td>...</td>\n",
       "      <td>...</td>\n",
       "    </tr>\n",
       "    <tr>\n",
       "      <th>2253</th>\n",
       "      <td>1498</td>\n",
       "      <td>12</td>\n",
       "      <td>39</td>\n",
       "    </tr>\n",
       "    <tr>\n",
       "      <th>2254</th>\n",
       "      <td>1499</td>\n",
       "      <td>9</td>\n",
       "      <td>41</td>\n",
       "    </tr>\n",
       "    <tr>\n",
       "      <th>2255</th>\n",
       "      <td>1499</td>\n",
       "      <td>10</td>\n",
       "      <td>53</td>\n",
       "    </tr>\n",
       "    <tr>\n",
       "      <th>2256</th>\n",
       "      <td>1499</td>\n",
       "      <td>11</td>\n",
       "      <td>45</td>\n",
       "    </tr>\n",
       "    <tr>\n",
       "      <th>2257</th>\n",
       "      <td>1499</td>\n",
       "      <td>12</td>\n",
       "      <td>65</td>\n",
       "    </tr>\n",
       "  </tbody>\n",
       "</table>\n",
       "<p>2258 rows × 3 columns</p>\n",
       "</div>"
      ],
      "text/plain": [
       "      user_id  month  total_chamadas\n",
       "0        1000     12              16\n",
       "1        1001      8              27\n",
       "2        1001      9              49\n",
       "3        1001     10              65\n",
       "4        1001     11              64\n",
       "...       ...    ...             ...\n",
       "2253     1498     12              39\n",
       "2254     1499      9              41\n",
       "2255     1499     10              53\n",
       "2256     1499     11              45\n",
       "2257     1499     12              65\n",
       "\n",
       "[2258 rows x 3 columns]"
      ]
     },
     "execution_count": 24,
     "metadata": {},
     "output_type": "execute_result"
    }
   ],
   "source": [
    "chamadas_por_mes = df_calls.groupby(['user_id', 'month'])['month'].count().reset_index(name= 'total_chamadas')\n",
    "\n",
    "chamadas_por_mes\n",
    "\n",
    "#Calcule o numero de chamadas feitas por cada usuario por mes. Salve o resultado"
   ]
  },
  {
   "cell_type": "code",
   "execution_count": 25,
   "metadata": {
    "id": "MaM_cPxauj8q"
   },
   "outputs": [
    {
     "data": {
      "text/html": [
       "<div>\n",
       "<style scoped>\n",
       "    .dataframe tbody tr th:only-of-type {\n",
       "        vertical-align: middle;\n",
       "    }\n",
       "\n",
       "    .dataframe tbody tr th {\n",
       "        vertical-align: top;\n",
       "    }\n",
       "\n",
       "    .dataframe thead th {\n",
       "        text-align: right;\n",
       "    }\n",
       "</style>\n",
       "<table border=\"1\" class=\"dataframe\">\n",
       "  <thead>\n",
       "    <tr style=\"text-align: right;\">\n",
       "      <th></th>\n",
       "      <th>user_id</th>\n",
       "      <th>month</th>\n",
       "      <th>total_messages</th>\n",
       "    </tr>\n",
       "  </thead>\n",
       "  <tbody>\n",
       "    <tr>\n",
       "      <th>0</th>\n",
       "      <td>1000</td>\n",
       "      <td>12</td>\n",
       "      <td>11</td>\n",
       "    </tr>\n",
       "    <tr>\n",
       "      <th>1</th>\n",
       "      <td>1001</td>\n",
       "      <td>8</td>\n",
       "      <td>30</td>\n",
       "    </tr>\n",
       "    <tr>\n",
       "      <th>2</th>\n",
       "      <td>1001</td>\n",
       "      <td>9</td>\n",
       "      <td>44</td>\n",
       "    </tr>\n",
       "    <tr>\n",
       "      <th>3</th>\n",
       "      <td>1001</td>\n",
       "      <td>10</td>\n",
       "      <td>53</td>\n",
       "    </tr>\n",
       "    <tr>\n",
       "      <th>4</th>\n",
       "      <td>1001</td>\n",
       "      <td>11</td>\n",
       "      <td>36</td>\n",
       "    </tr>\n",
       "    <tr>\n",
       "      <th>...</th>\n",
       "      <td>...</td>\n",
       "      <td>...</td>\n",
       "      <td>...</td>\n",
       "    </tr>\n",
       "    <tr>\n",
       "      <th>1801</th>\n",
       "      <td>1496</td>\n",
       "      <td>9</td>\n",
       "      <td>21</td>\n",
       "    </tr>\n",
       "    <tr>\n",
       "      <th>1802</th>\n",
       "      <td>1496</td>\n",
       "      <td>10</td>\n",
       "      <td>18</td>\n",
       "    </tr>\n",
       "    <tr>\n",
       "      <th>1803</th>\n",
       "      <td>1496</td>\n",
       "      <td>11</td>\n",
       "      <td>13</td>\n",
       "    </tr>\n",
       "    <tr>\n",
       "      <th>1804</th>\n",
       "      <td>1496</td>\n",
       "      <td>12</td>\n",
       "      <td>11</td>\n",
       "    </tr>\n",
       "    <tr>\n",
       "      <th>1805</th>\n",
       "      <td>1497</td>\n",
       "      <td>12</td>\n",
       "      <td>50</td>\n",
       "    </tr>\n",
       "  </tbody>\n",
       "</table>\n",
       "<p>1806 rows × 3 columns</p>\n",
       "</div>"
      ],
      "text/plain": [
       "      user_id  month  total_messages\n",
       "0        1000     12              11\n",
       "1        1001      8              30\n",
       "2        1001      9              44\n",
       "3        1001     10              53\n",
       "4        1001     11              36\n",
       "...       ...    ...             ...\n",
       "1801     1496      9              21\n",
       "1802     1496     10              18\n",
       "1803     1496     11              13\n",
       "1804     1496     12              11\n",
       "1805     1497     12              50\n",
       "\n",
       "[1806 rows x 3 columns]"
      ]
     },
     "execution_count": 25,
     "metadata": {},
     "output_type": "execute_result"
    }
   ],
   "source": [
    "messages_mes = df_messages.groupby(['user_id','month'])['month'].count().reset_index(name= 'total_messages')\n",
    "\n",
    "messages_mes\n",
    "\n",
    "\n",
    "\n",
    "# Calcule o número de mensagens enviadas por cada usuário por mês. Salve o resultado.\n"
   ]
  },
  {
   "cell_type": "code",
   "execution_count": 26,
   "metadata": {
    "id": "WsCEZJ_xuj8q"
   },
   "outputs": [
    {
     "data": {
      "text/html": [
       "<div>\n",
       "<style scoped>\n",
       "    .dataframe tbody tr th:only-of-type {\n",
       "        vertical-align: middle;\n",
       "    }\n",
       "\n",
       "    .dataframe tbody tr th {\n",
       "        vertical-align: top;\n",
       "    }\n",
       "\n",
       "    .dataframe thead th {\n",
       "        text-align: right;\n",
       "    }\n",
       "</style>\n",
       "<table border=\"1\" class=\"dataframe\">\n",
       "  <thead>\n",
       "    <tr style=\"text-align: right;\">\n",
       "      <th></th>\n",
       "      <th>user_id</th>\n",
       "      <th>month</th>\n",
       "      <th>mb_used</th>\n",
       "    </tr>\n",
       "  </thead>\n",
       "  <tbody>\n",
       "    <tr>\n",
       "      <th>0</th>\n",
       "      <td>1000</td>\n",
       "      <td>12</td>\n",
       "      <td>1901.47</td>\n",
       "    </tr>\n",
       "    <tr>\n",
       "      <th>1</th>\n",
       "      <td>1001</td>\n",
       "      <td>8</td>\n",
       "      <td>6919.15</td>\n",
       "    </tr>\n",
       "    <tr>\n",
       "      <th>2</th>\n",
       "      <td>1001</td>\n",
       "      <td>9</td>\n",
       "      <td>13314.82</td>\n",
       "    </tr>\n",
       "    <tr>\n",
       "      <th>3</th>\n",
       "      <td>1001</td>\n",
       "      <td>10</td>\n",
       "      <td>22330.49</td>\n",
       "    </tr>\n",
       "    <tr>\n",
       "      <th>4</th>\n",
       "      <td>1001</td>\n",
       "      <td>11</td>\n",
       "      <td>18504.30</td>\n",
       "    </tr>\n",
       "    <tr>\n",
       "      <th>...</th>\n",
       "      <td>...</td>\n",
       "      <td>...</td>\n",
       "      <td>...</td>\n",
       "    </tr>\n",
       "    <tr>\n",
       "      <th>2272</th>\n",
       "      <td>1498</td>\n",
       "      <td>12</td>\n",
       "      <td>23137.69</td>\n",
       "    </tr>\n",
       "    <tr>\n",
       "      <th>2273</th>\n",
       "      <td>1499</td>\n",
       "      <td>9</td>\n",
       "      <td>12984.76</td>\n",
       "    </tr>\n",
       "    <tr>\n",
       "      <th>2274</th>\n",
       "      <td>1499</td>\n",
       "      <td>10</td>\n",
       "      <td>19492.43</td>\n",
       "    </tr>\n",
       "    <tr>\n",
       "      <th>2275</th>\n",
       "      <td>1499</td>\n",
       "      <td>11</td>\n",
       "      <td>16813.83</td>\n",
       "    </tr>\n",
       "    <tr>\n",
       "      <th>2276</th>\n",
       "      <td>1499</td>\n",
       "      <td>12</td>\n",
       "      <td>22059.21</td>\n",
       "    </tr>\n",
       "  </tbody>\n",
       "</table>\n",
       "<p>2277 rows × 3 columns</p>\n",
       "</div>"
      ],
      "text/plain": [
       "      user_id  month   mb_used\n",
       "0        1000     12   1901.47\n",
       "1        1001      8   6919.15\n",
       "2        1001      9  13314.82\n",
       "3        1001     10  22330.49\n",
       "4        1001     11  18504.30\n",
       "...       ...    ...       ...\n",
       "2272     1498     12  23137.69\n",
       "2273     1499      9  12984.76\n",
       "2274     1499     10  19492.43\n",
       "2275     1499     11  16813.83\n",
       "2276     1499     12  22059.21\n",
       "\n",
       "[2277 rows x 3 columns]"
      ]
     },
     "execution_count": 26,
     "metadata": {},
     "output_type": "execute_result"
    }
   ],
   "source": [
    "internet_mes = df_internet.groupby(['user_id', 'month'])[['mb_used']].sum().reset_index()\n",
    "internet_mes\n",
    "\n",
    "# Calcule o volume de tráfego de internet usado por cada usuário por mês. Salve o resultado.\n",
    "\n"
   ]
  },
  {
   "cell_type": "markdown",
   "metadata": {
    "id": "6nBsD4hduj8q"
   },
   "source": [
    "[Coloque os dados agregados em um DataFrame para que um registro nele represente o que um usuário unívoco consumiu em um determinado mês.]"
   ]
  },
  {
   "cell_type": "code",
   "execution_count": 27,
   "metadata": {
    "id": "BYDTkxOauj8r"
   },
   "outputs": [
    {
     "data": {
      "text/html": [
       "<div>\n",
       "<style scoped>\n",
       "    .dataframe tbody tr th:only-of-type {\n",
       "        vertical-align: middle;\n",
       "    }\n",
       "\n",
       "    .dataframe tbody tr th {\n",
       "        vertical-align: top;\n",
       "    }\n",
       "\n",
       "    .dataframe thead th {\n",
       "        text-align: right;\n",
       "    }\n",
       "</style>\n",
       "<table border=\"1\" class=\"dataframe\">\n",
       "  <thead>\n",
       "    <tr style=\"text-align: right;\">\n",
       "      <th></th>\n",
       "      <th>user_id</th>\n",
       "      <th>month</th>\n",
       "      <th>mb_used</th>\n",
       "      <th>total_chamadas</th>\n",
       "    </tr>\n",
       "  </thead>\n",
       "  <tbody>\n",
       "    <tr>\n",
       "      <th>0</th>\n",
       "      <td>1000</td>\n",
       "      <td>12</td>\n",
       "      <td>1901.47</td>\n",
       "      <td>16.0</td>\n",
       "    </tr>\n",
       "    <tr>\n",
       "      <th>1</th>\n",
       "      <td>1001</td>\n",
       "      <td>8</td>\n",
       "      <td>6919.15</td>\n",
       "      <td>27.0</td>\n",
       "    </tr>\n",
       "    <tr>\n",
       "      <th>2</th>\n",
       "      <td>1001</td>\n",
       "      <td>9</td>\n",
       "      <td>13314.82</td>\n",
       "      <td>49.0</td>\n",
       "    </tr>\n",
       "    <tr>\n",
       "      <th>3</th>\n",
       "      <td>1001</td>\n",
       "      <td>10</td>\n",
       "      <td>22330.49</td>\n",
       "      <td>65.0</td>\n",
       "    </tr>\n",
       "    <tr>\n",
       "      <th>4</th>\n",
       "      <td>1001</td>\n",
       "      <td>11</td>\n",
       "      <td>18504.30</td>\n",
       "      <td>64.0</td>\n",
       "    </tr>\n",
       "    <tr>\n",
       "      <th>...</th>\n",
       "      <td>...</td>\n",
       "      <td>...</td>\n",
       "      <td>...</td>\n",
       "      <td>...</td>\n",
       "    </tr>\n",
       "    <tr>\n",
       "      <th>2272</th>\n",
       "      <td>1498</td>\n",
       "      <td>12</td>\n",
       "      <td>23137.69</td>\n",
       "      <td>39.0</td>\n",
       "    </tr>\n",
       "    <tr>\n",
       "      <th>2273</th>\n",
       "      <td>1499</td>\n",
       "      <td>9</td>\n",
       "      <td>12984.76</td>\n",
       "      <td>41.0</td>\n",
       "    </tr>\n",
       "    <tr>\n",
       "      <th>2274</th>\n",
       "      <td>1499</td>\n",
       "      <td>10</td>\n",
       "      <td>19492.43</td>\n",
       "      <td>53.0</td>\n",
       "    </tr>\n",
       "    <tr>\n",
       "      <th>2275</th>\n",
       "      <td>1499</td>\n",
       "      <td>11</td>\n",
       "      <td>16813.83</td>\n",
       "      <td>45.0</td>\n",
       "    </tr>\n",
       "    <tr>\n",
       "      <th>2276</th>\n",
       "      <td>1499</td>\n",
       "      <td>12</td>\n",
       "      <td>22059.21</td>\n",
       "      <td>65.0</td>\n",
       "    </tr>\n",
       "  </tbody>\n",
       "</table>\n",
       "<p>2277 rows × 4 columns</p>\n",
       "</div>"
      ],
      "text/plain": [
       "      user_id  month   mb_used  total_chamadas\n",
       "0        1000     12   1901.47            16.0\n",
       "1        1001      8   6919.15            27.0\n",
       "2        1001      9  13314.82            49.0\n",
       "3        1001     10  22330.49            65.0\n",
       "4        1001     11  18504.30            64.0\n",
       "...       ...    ...       ...             ...\n",
       "2272     1498     12  23137.69            39.0\n",
       "2273     1499      9  12984.76            41.0\n",
       "2274     1499     10  19492.43            53.0\n",
       "2275     1499     11  16813.83            45.0\n",
       "2276     1499     12  22059.21            65.0\n",
       "\n",
       "[2277 rows x 4 columns]"
      ]
     },
     "execution_count": 27,
     "metadata": {},
     "output_type": "execute_result"
    }
   ],
   "source": [
    "sum_1 = internet_mes.merge(chamadas_por_mes, on=[\"user_id\", \"month\"], how= 'left')\n",
    "\n",
    "sum_1\n",
    "# Junte os dados de chamadas, minutos, mensagens e internet com base em user_id e month\n",
    "\n"
   ]
  },
  {
   "cell_type": "code",
   "execution_count": 28,
   "metadata": {},
   "outputs": [
    {
     "data": {
      "text/html": [
       "<div>\n",
       "<style scoped>\n",
       "    .dataframe tbody tr th:only-of-type {\n",
       "        vertical-align: middle;\n",
       "    }\n",
       "\n",
       "    .dataframe tbody tr th {\n",
       "        vertical-align: top;\n",
       "    }\n",
       "\n",
       "    .dataframe thead th {\n",
       "        text-align: right;\n",
       "    }\n",
       "</style>\n",
       "<table border=\"1\" class=\"dataframe\">\n",
       "  <thead>\n",
       "    <tr style=\"text-align: right;\">\n",
       "      <th></th>\n",
       "      <th>user_id</th>\n",
       "      <th>month</th>\n",
       "      <th>mb_used</th>\n",
       "      <th>total_chamadas</th>\n",
       "      <th>duration</th>\n",
       "    </tr>\n",
       "  </thead>\n",
       "  <tbody>\n",
       "    <tr>\n",
       "      <th>0</th>\n",
       "      <td>1000</td>\n",
       "      <td>12</td>\n",
       "      <td>1901.47</td>\n",
       "      <td>16.0</td>\n",
       "      <td>116.83</td>\n",
       "    </tr>\n",
       "    <tr>\n",
       "      <th>1</th>\n",
       "      <td>1001</td>\n",
       "      <td>8</td>\n",
       "      <td>6919.15</td>\n",
       "      <td>27.0</td>\n",
       "      <td>171.14</td>\n",
       "    </tr>\n",
       "    <tr>\n",
       "      <th>2</th>\n",
       "      <td>1001</td>\n",
       "      <td>9</td>\n",
       "      <td>13314.82</td>\n",
       "      <td>49.0</td>\n",
       "      <td>297.69</td>\n",
       "    </tr>\n",
       "    <tr>\n",
       "      <th>3</th>\n",
       "      <td>1001</td>\n",
       "      <td>10</td>\n",
       "      <td>22330.49</td>\n",
       "      <td>65.0</td>\n",
       "      <td>374.11</td>\n",
       "    </tr>\n",
       "    <tr>\n",
       "      <th>4</th>\n",
       "      <td>1001</td>\n",
       "      <td>11</td>\n",
       "      <td>18504.30</td>\n",
       "      <td>64.0</td>\n",
       "      <td>404.59</td>\n",
       "    </tr>\n",
       "    <tr>\n",
       "      <th>...</th>\n",
       "      <td>...</td>\n",
       "      <td>...</td>\n",
       "      <td>...</td>\n",
       "      <td>...</td>\n",
       "      <td>...</td>\n",
       "    </tr>\n",
       "    <tr>\n",
       "      <th>2272</th>\n",
       "      <td>1498</td>\n",
       "      <td>12</td>\n",
       "      <td>23137.69</td>\n",
       "      <td>39.0</td>\n",
       "      <td>324.77</td>\n",
       "    </tr>\n",
       "    <tr>\n",
       "      <th>2273</th>\n",
       "      <td>1499</td>\n",
       "      <td>9</td>\n",
       "      <td>12984.76</td>\n",
       "      <td>41.0</td>\n",
       "      <td>330.37</td>\n",
       "    </tr>\n",
       "    <tr>\n",
       "      <th>2274</th>\n",
       "      <td>1499</td>\n",
       "      <td>10</td>\n",
       "      <td>19492.43</td>\n",
       "      <td>53.0</td>\n",
       "      <td>363.28</td>\n",
       "    </tr>\n",
       "    <tr>\n",
       "      <th>2275</th>\n",
       "      <td>1499</td>\n",
       "      <td>11</td>\n",
       "      <td>16813.83</td>\n",
       "      <td>45.0</td>\n",
       "      <td>288.56</td>\n",
       "    </tr>\n",
       "    <tr>\n",
       "      <th>2276</th>\n",
       "      <td>1499</td>\n",
       "      <td>12</td>\n",
       "      <td>22059.21</td>\n",
       "      <td>65.0</td>\n",
       "      <td>468.10</td>\n",
       "    </tr>\n",
       "  </tbody>\n",
       "</table>\n",
       "<p>2277 rows × 5 columns</p>\n",
       "</div>"
      ],
      "text/plain": [
       "      user_id  month   mb_used  total_chamadas  duration\n",
       "0        1000     12   1901.47            16.0    116.83\n",
       "1        1001      8   6919.15            27.0    171.14\n",
       "2        1001      9  13314.82            49.0    297.69\n",
       "3        1001     10  22330.49            65.0    374.11\n",
       "4        1001     11  18504.30            64.0    404.59\n",
       "...       ...    ...       ...             ...       ...\n",
       "2272     1498     12  23137.69            39.0    324.77\n",
       "2273     1499      9  12984.76            41.0    330.37\n",
       "2274     1499     10  19492.43            53.0    363.28\n",
       "2275     1499     11  16813.83            45.0    288.56\n",
       "2276     1499     12  22059.21            65.0    468.10\n",
       "\n",
       "[2277 rows x 5 columns]"
      ]
     },
     "execution_count": 28,
     "metadata": {},
     "output_type": "execute_result"
    }
   ],
   "source": [
    "sum_2= sum_1.merge(chamadas_min_mes, on= ['user_id', 'month'], how= 'left')\n",
    "\n",
    "sum_2"
   ]
  },
  {
   "cell_type": "code",
   "execution_count": 29,
   "metadata": {},
   "outputs": [
    {
     "data": {
      "text/html": [
       "<div>\n",
       "<style scoped>\n",
       "    .dataframe tbody tr th:only-of-type {\n",
       "        vertical-align: middle;\n",
       "    }\n",
       "\n",
       "    .dataframe tbody tr th {\n",
       "        vertical-align: top;\n",
       "    }\n",
       "\n",
       "    .dataframe thead th {\n",
       "        text-align: right;\n",
       "    }\n",
       "</style>\n",
       "<table border=\"1\" class=\"dataframe\">\n",
       "  <thead>\n",
       "    <tr style=\"text-align: right;\">\n",
       "      <th></th>\n",
       "      <th>user_id</th>\n",
       "      <th>month</th>\n",
       "      <th>mb_used</th>\n",
       "      <th>total_chamadas</th>\n",
       "      <th>duration</th>\n",
       "      <th>total_messages</th>\n",
       "    </tr>\n",
       "  </thead>\n",
       "  <tbody>\n",
       "    <tr>\n",
       "      <th>0</th>\n",
       "      <td>1000</td>\n",
       "      <td>12</td>\n",
       "      <td>1901.47</td>\n",
       "      <td>16.0</td>\n",
       "      <td>116.83</td>\n",
       "      <td>11.0</td>\n",
       "    </tr>\n",
       "    <tr>\n",
       "      <th>1</th>\n",
       "      <td>1001</td>\n",
       "      <td>8</td>\n",
       "      <td>6919.15</td>\n",
       "      <td>27.0</td>\n",
       "      <td>171.14</td>\n",
       "      <td>30.0</td>\n",
       "    </tr>\n",
       "    <tr>\n",
       "      <th>2</th>\n",
       "      <td>1001</td>\n",
       "      <td>9</td>\n",
       "      <td>13314.82</td>\n",
       "      <td>49.0</td>\n",
       "      <td>297.69</td>\n",
       "      <td>44.0</td>\n",
       "    </tr>\n",
       "    <tr>\n",
       "      <th>3</th>\n",
       "      <td>1001</td>\n",
       "      <td>10</td>\n",
       "      <td>22330.49</td>\n",
       "      <td>65.0</td>\n",
       "      <td>374.11</td>\n",
       "      <td>53.0</td>\n",
       "    </tr>\n",
       "    <tr>\n",
       "      <th>4</th>\n",
       "      <td>1001</td>\n",
       "      <td>11</td>\n",
       "      <td>18504.30</td>\n",
       "      <td>64.0</td>\n",
       "      <td>404.59</td>\n",
       "      <td>36.0</td>\n",
       "    </tr>\n",
       "    <tr>\n",
       "      <th>...</th>\n",
       "      <td>...</td>\n",
       "      <td>...</td>\n",
       "      <td>...</td>\n",
       "      <td>...</td>\n",
       "      <td>...</td>\n",
       "      <td>...</td>\n",
       "    </tr>\n",
       "    <tr>\n",
       "      <th>2272</th>\n",
       "      <td>1498</td>\n",
       "      <td>12</td>\n",
       "      <td>23137.69</td>\n",
       "      <td>39.0</td>\n",
       "      <td>324.77</td>\n",
       "      <td>NaN</td>\n",
       "    </tr>\n",
       "    <tr>\n",
       "      <th>2273</th>\n",
       "      <td>1499</td>\n",
       "      <td>9</td>\n",
       "      <td>12984.76</td>\n",
       "      <td>41.0</td>\n",
       "      <td>330.37</td>\n",
       "      <td>NaN</td>\n",
       "    </tr>\n",
       "    <tr>\n",
       "      <th>2274</th>\n",
       "      <td>1499</td>\n",
       "      <td>10</td>\n",
       "      <td>19492.43</td>\n",
       "      <td>53.0</td>\n",
       "      <td>363.28</td>\n",
       "      <td>NaN</td>\n",
       "    </tr>\n",
       "    <tr>\n",
       "      <th>2275</th>\n",
       "      <td>1499</td>\n",
       "      <td>11</td>\n",
       "      <td>16813.83</td>\n",
       "      <td>45.0</td>\n",
       "      <td>288.56</td>\n",
       "      <td>NaN</td>\n",
       "    </tr>\n",
       "    <tr>\n",
       "      <th>2276</th>\n",
       "      <td>1499</td>\n",
       "      <td>12</td>\n",
       "      <td>22059.21</td>\n",
       "      <td>65.0</td>\n",
       "      <td>468.10</td>\n",
       "      <td>NaN</td>\n",
       "    </tr>\n",
       "  </tbody>\n",
       "</table>\n",
       "<p>2277 rows × 6 columns</p>\n",
       "</div>"
      ],
      "text/plain": [
       "      user_id  month   mb_used  total_chamadas  duration  total_messages\n",
       "0        1000     12   1901.47            16.0    116.83            11.0\n",
       "1        1001      8   6919.15            27.0    171.14            30.0\n",
       "2        1001      9  13314.82            49.0    297.69            44.0\n",
       "3        1001     10  22330.49            65.0    374.11            53.0\n",
       "4        1001     11  18504.30            64.0    404.59            36.0\n",
       "...       ...    ...       ...             ...       ...             ...\n",
       "2272     1498     12  23137.69            39.0    324.77             NaN\n",
       "2273     1499      9  12984.76            41.0    330.37             NaN\n",
       "2274     1499     10  19492.43            53.0    363.28             NaN\n",
       "2275     1499     11  16813.83            45.0    288.56             NaN\n",
       "2276     1499     12  22059.21            65.0    468.10             NaN\n",
       "\n",
       "[2277 rows x 6 columns]"
      ]
     },
     "execution_count": 29,
     "metadata": {},
     "output_type": "execute_result"
    }
   ],
   "source": [
    "sum_3 = sum_2.merge(messages_mes, on= ['user_id', 'month'], how='left')\n",
    "\n",
    "sum_3"
   ]
  },
  {
   "cell_type": "code",
   "execution_count": 30,
   "metadata": {
    "id": "SW-sgLaHuj8r"
   },
   "outputs": [
    {
     "data": {
      "text/html": [
       "<div>\n",
       "<style scoped>\n",
       "    .dataframe tbody tr th:only-of-type {\n",
       "        vertical-align: middle;\n",
       "    }\n",
       "\n",
       "    .dataframe tbody tr th {\n",
       "        vertical-align: top;\n",
       "    }\n",
       "\n",
       "    .dataframe thead th {\n",
       "        text-align: right;\n",
       "    }\n",
       "</style>\n",
       "<table border=\"1\" class=\"dataframe\">\n",
       "  <thead>\n",
       "    <tr style=\"text-align: right;\">\n",
       "      <th></th>\n",
       "      <th>index</th>\n",
       "      <th>user_id</th>\n",
       "      <th>month</th>\n",
       "      <th>mb_used</th>\n",
       "      <th>total_chamadas</th>\n",
       "      <th>duration</th>\n",
       "      <th>total_messages</th>\n",
       "      <th>first_name</th>\n",
       "      <th>last_name</th>\n",
       "      <th>age</th>\n",
       "      <th>city</th>\n",
       "      <th>reg_date</th>\n",
       "      <th>plan</th>\n",
       "      <th>churn_date</th>\n",
       "    </tr>\n",
       "  </thead>\n",
       "  <tbody>\n",
       "    <tr>\n",
       "      <th>0</th>\n",
       "      <td>0</td>\n",
       "      <td>1000</td>\n",
       "      <td>12</td>\n",
       "      <td>1901.47</td>\n",
       "      <td>16.0</td>\n",
       "      <td>116.83</td>\n",
       "      <td>11.0</td>\n",
       "      <td>Anamaria</td>\n",
       "      <td>Bauer</td>\n",
       "      <td>45</td>\n",
       "      <td>Atlanta-Sandy Springs-Roswell, GA MSA</td>\n",
       "      <td>2018-12-24</td>\n",
       "      <td>ultimate</td>\n",
       "      <td>NaN</td>\n",
       "    </tr>\n",
       "    <tr>\n",
       "      <th>1</th>\n",
       "      <td>1</td>\n",
       "      <td>1001</td>\n",
       "      <td>8</td>\n",
       "      <td>6919.15</td>\n",
       "      <td>27.0</td>\n",
       "      <td>171.14</td>\n",
       "      <td>30.0</td>\n",
       "      <td>Mickey</td>\n",
       "      <td>Wilkerson</td>\n",
       "      <td>28</td>\n",
       "      <td>Seattle-Tacoma-Bellevue, WA MSA</td>\n",
       "      <td>2018-08-13</td>\n",
       "      <td>surf</td>\n",
       "      <td>NaN</td>\n",
       "    </tr>\n",
       "    <tr>\n",
       "      <th>2</th>\n",
       "      <td>2</td>\n",
       "      <td>1001</td>\n",
       "      <td>9</td>\n",
       "      <td>13314.82</td>\n",
       "      <td>49.0</td>\n",
       "      <td>297.69</td>\n",
       "      <td>44.0</td>\n",
       "      <td>Mickey</td>\n",
       "      <td>Wilkerson</td>\n",
       "      <td>28</td>\n",
       "      <td>Seattle-Tacoma-Bellevue, WA MSA</td>\n",
       "      <td>2018-08-13</td>\n",
       "      <td>surf</td>\n",
       "      <td>NaN</td>\n",
       "    </tr>\n",
       "    <tr>\n",
       "      <th>3</th>\n",
       "      <td>3</td>\n",
       "      <td>1001</td>\n",
       "      <td>10</td>\n",
       "      <td>22330.49</td>\n",
       "      <td>65.0</td>\n",
       "      <td>374.11</td>\n",
       "      <td>53.0</td>\n",
       "      <td>Mickey</td>\n",
       "      <td>Wilkerson</td>\n",
       "      <td>28</td>\n",
       "      <td>Seattle-Tacoma-Bellevue, WA MSA</td>\n",
       "      <td>2018-08-13</td>\n",
       "      <td>surf</td>\n",
       "      <td>NaN</td>\n",
       "    </tr>\n",
       "    <tr>\n",
       "      <th>4</th>\n",
       "      <td>4</td>\n",
       "      <td>1001</td>\n",
       "      <td>11</td>\n",
       "      <td>18504.30</td>\n",
       "      <td>64.0</td>\n",
       "      <td>404.59</td>\n",
       "      <td>36.0</td>\n",
       "      <td>Mickey</td>\n",
       "      <td>Wilkerson</td>\n",
       "      <td>28</td>\n",
       "      <td>Seattle-Tacoma-Bellevue, WA MSA</td>\n",
       "      <td>2018-08-13</td>\n",
       "      <td>surf</td>\n",
       "      <td>NaN</td>\n",
       "    </tr>\n",
       "  </tbody>\n",
       "</table>\n",
       "</div>"
      ],
      "text/plain": [
       "   index  user_id  month   mb_used  total_chamadas  duration  total_messages  \\\n",
       "0      0     1000     12   1901.47            16.0    116.83            11.0   \n",
       "1      1     1001      8   6919.15            27.0    171.14            30.0   \n",
       "2      2     1001      9  13314.82            49.0    297.69            44.0   \n",
       "3      3     1001     10  22330.49            65.0    374.11            53.0   \n",
       "4      4     1001     11  18504.30            64.0    404.59            36.0   \n",
       "\n",
       "  first_name  last_name  age                                   city  \\\n",
       "0   Anamaria      Bauer   45  Atlanta-Sandy Springs-Roswell, GA MSA   \n",
       "1     Mickey  Wilkerson   28        Seattle-Tacoma-Bellevue, WA MSA   \n",
       "2     Mickey  Wilkerson   28        Seattle-Tacoma-Bellevue, WA MSA   \n",
       "3     Mickey  Wilkerson   28        Seattle-Tacoma-Bellevue, WA MSA   \n",
       "4     Mickey  Wilkerson   28        Seattle-Tacoma-Bellevue, WA MSA   \n",
       "\n",
       "    reg_date      plan churn_date  \n",
       "0 2018-12-24  ultimate        NaN  \n",
       "1 2018-08-13      surf        NaN  \n",
       "2 2018-08-13      surf        NaN  \n",
       "3 2018-08-13      surf        NaN  \n",
       "4 2018-08-13      surf        NaN  "
      ]
     },
     "execution_count": 30,
     "metadata": {},
     "output_type": "execute_result"
    }
   ],
   "source": [
    "sum_4= sum_3.merge(df_users, on=['user_id'], how= 'left').reset_index()\n",
    "\n",
    "\n",
    "sum_4.head()\n",
    "\n",
    "# Adicione as informações sobre o plano\n",
    "\n"
   ]
  },
  {
   "cell_type": "markdown",
   "metadata": {
    "id": "mU8dKHTQuj8r"
   },
   "source": [
    "[Calcule a receita mensal para cada usuário: subtraia o limite gratuito do pacote do número total de chamadas, mensagens de texto e dados; multiplique o resultado pelo valor do plano de chamadas; adicione o preço mensal dependendo do plano. Importante: isso pode não ser tão trivial quanto apenas algumas linhas, dadas as condições do plano. Portanto, não há problema em gastar algum tempo nisso.]"
   ]
  },
  {
   "cell_type": "code",
   "execution_count": 31,
   "metadata": {
    "id": "JiPHXbQAuj8r"
   },
   "outputs": [],
   "source": [
    "def custo_mensagem(row):\n",
    "    mensagens= row['total_messages']\n",
    "    plan = row['plan']\n",
    "\n",
    "    if mensagens> 50:\n",
    "        if plan == 'surf':\n",
    "            return (mensagens -50) * 0.03\n",
    "    elif mensagens > 1000:\n",
    "        if plan == 'ultimate':\n",
    "            return (mensagens -1000) * 0.01\n",
    "        else:\n",
    "            return 0\n",
    "    \n",
    "def custo_minuto_extra(row):\n",
    "    minutos = row['duration']\n",
    "    plan = row['plan']\n",
    "    \n",
    "    if minutos > 500:\n",
    "        if plan == 'surf':\n",
    "            return np.ceil((minutos - 500)) * 0.03\n",
    "    elif minutos > 3000:\n",
    "        if plan == 'ultimate':\n",
    "            return np.ceil((minutos - 3000)) * 0.01\n",
    "        else:\n",
    "            return 0\n",
    "\n",
    "def custo_gb_extra(row):\n",
    "    megas = row['mb_used']\n",
    "    plan = row['plan']\n",
    "    \n",
    "    if megas > 15360:\n",
    "        if plan == 'surf':\n",
    "            return np.ceil(((megas - 15360) / 1024)) * 10\n",
    "    elif megas > 30720:\n",
    "        if plan == 'ultimate':\n",
    "            return np.ceil(((megas - 30720) / 1024)) * 7\n",
    "        else:\n",
    "            return 0\n",
    "# Calcule a receita mensal para cada usuário\n"
   ]
  },
  {
   "cell_type": "code",
   "execution_count": 32,
   "metadata": {},
   "outputs": [],
   "source": [
    "sum_4['extra_mensagens'] = sum_4.apply(custo_mensagem, axis = 1)\n",
    "sum_4['min_extra'] = sum_4.apply(custo_minuto_extra, axis = 1)\n",
    "sum_4['gb_extra'] = sum_4.apply(custo_gb_extra, axis = 1)"
   ]
  },
  {
   "cell_type": "code",
   "execution_count": 33,
   "metadata": {},
   "outputs": [],
   "source": [
    "df_final = sum_4.merge(df_plans, left_on='plan', right_on='plan_name', how='left').drop(\n",
    "    ['messages_included','mb_per_month_included','minutes_included','usd_per_gb','usd_per_message',\n",
    "    'usd_per_minute'], axis = 1)\n",
    "\n",
    "df_final = df_final.drop('plan_name', axis = 1)"
   ]
  },
  {
   "cell_type": "code",
   "execution_count": 66,
   "metadata": {},
   "outputs": [
    {
     "data": {
      "text/html": [
       "<div>\n",
       "<style scoped>\n",
       "    .dataframe tbody tr th:only-of-type {\n",
       "        vertical-align: middle;\n",
       "    }\n",
       "\n",
       "    .dataframe tbody tr th {\n",
       "        vertical-align: top;\n",
       "    }\n",
       "\n",
       "    .dataframe thead th {\n",
       "        text-align: right;\n",
       "    }\n",
       "</style>\n",
       "<table border=\"1\" class=\"dataframe\">\n",
       "  <thead>\n",
       "    <tr style=\"text-align: right;\">\n",
       "      <th></th>\n",
       "      <th>index</th>\n",
       "      <th>user_id</th>\n",
       "      <th>month</th>\n",
       "      <th>mb_used</th>\n",
       "      <th>total_chamadas</th>\n",
       "      <th>duration</th>\n",
       "      <th>total_messages</th>\n",
       "      <th>city</th>\n",
       "      <th>plan</th>\n",
       "      <th>churn_date</th>\n",
       "      <th>extra_mensagens</th>\n",
       "      <th>min_extra</th>\n",
       "      <th>gb_extra</th>\n",
       "      <th>usd_monthly_pay_x</th>\n",
       "      <th>usd_monthly_pay_y</th>\n",
       "      <th>total_mes</th>\n",
       "    </tr>\n",
       "  </thead>\n",
       "  <tbody>\n",
       "    <tr>\n",
       "      <th>0</th>\n",
       "      <td>0</td>\n",
       "      <td>1000</td>\n",
       "      <td>12</td>\n",
       "      <td>1901.47</td>\n",
       "      <td>16.0</td>\n",
       "      <td>116.83</td>\n",
       "      <td>11.0</td>\n",
       "      <td>Atlanta-Sandy Springs-Roswell, GA MSA</td>\n",
       "      <td>ultimate</td>\n",
       "      <td>NaN</td>\n",
       "      <td>0.00</td>\n",
       "      <td>0.0</td>\n",
       "      <td>0.0</td>\n",
       "      <td>70</td>\n",
       "      <td>70</td>\n",
       "      <td>70.00</td>\n",
       "    </tr>\n",
       "    <tr>\n",
       "      <th>1</th>\n",
       "      <td>1</td>\n",
       "      <td>1001</td>\n",
       "      <td>8</td>\n",
       "      <td>6919.15</td>\n",
       "      <td>27.0</td>\n",
       "      <td>171.14</td>\n",
       "      <td>30.0</td>\n",
       "      <td>Seattle-Tacoma-Bellevue, WA MSA</td>\n",
       "      <td>surf</td>\n",
       "      <td>NaN</td>\n",
       "      <td>0.00</td>\n",
       "      <td>0.0</td>\n",
       "      <td>0.0</td>\n",
       "      <td>20</td>\n",
       "      <td>20</td>\n",
       "      <td>20.00</td>\n",
       "    </tr>\n",
       "    <tr>\n",
       "      <th>2</th>\n",
       "      <td>2</td>\n",
       "      <td>1001</td>\n",
       "      <td>9</td>\n",
       "      <td>13314.82</td>\n",
       "      <td>49.0</td>\n",
       "      <td>297.69</td>\n",
       "      <td>44.0</td>\n",
       "      <td>Seattle-Tacoma-Bellevue, WA MSA</td>\n",
       "      <td>surf</td>\n",
       "      <td>NaN</td>\n",
       "      <td>0.00</td>\n",
       "      <td>0.0</td>\n",
       "      <td>0.0</td>\n",
       "      <td>20</td>\n",
       "      <td>20</td>\n",
       "      <td>20.00</td>\n",
       "    </tr>\n",
       "    <tr>\n",
       "      <th>3</th>\n",
       "      <td>3</td>\n",
       "      <td>1001</td>\n",
       "      <td>10</td>\n",
       "      <td>22330.49</td>\n",
       "      <td>65.0</td>\n",
       "      <td>374.11</td>\n",
       "      <td>53.0</td>\n",
       "      <td>Seattle-Tacoma-Bellevue, WA MSA</td>\n",
       "      <td>surf</td>\n",
       "      <td>NaN</td>\n",
       "      <td>0.09</td>\n",
       "      <td>0.0</td>\n",
       "      <td>70.0</td>\n",
       "      <td>20</td>\n",
       "      <td>20</td>\n",
       "      <td>90.09</td>\n",
       "    </tr>\n",
       "    <tr>\n",
       "      <th>4</th>\n",
       "      <td>4</td>\n",
       "      <td>1001</td>\n",
       "      <td>11</td>\n",
       "      <td>18504.30</td>\n",
       "      <td>64.0</td>\n",
       "      <td>404.59</td>\n",
       "      <td>36.0</td>\n",
       "      <td>Seattle-Tacoma-Bellevue, WA MSA</td>\n",
       "      <td>surf</td>\n",
       "      <td>NaN</td>\n",
       "      <td>0.00</td>\n",
       "      <td>0.0</td>\n",
       "      <td>40.0</td>\n",
       "      <td>20</td>\n",
       "      <td>20</td>\n",
       "      <td>60.00</td>\n",
       "    </tr>\n",
       "  </tbody>\n",
       "</table>\n",
       "</div>"
      ],
      "text/plain": [
       "   index  user_id  month   mb_used  total_chamadas  duration  total_messages  \\\n",
       "0      0     1000     12   1901.47            16.0    116.83            11.0   \n",
       "1      1     1001      8   6919.15            27.0    171.14            30.0   \n",
       "2      2     1001      9  13314.82            49.0    297.69            44.0   \n",
       "3      3     1001     10  22330.49            65.0    374.11            53.0   \n",
       "4      4     1001     11  18504.30            64.0    404.59            36.0   \n",
       "\n",
       "                                    city      plan churn_date  \\\n",
       "0  Atlanta-Sandy Springs-Roswell, GA MSA  ultimate        NaN   \n",
       "1        Seattle-Tacoma-Bellevue, WA MSA      surf        NaN   \n",
       "2        Seattle-Tacoma-Bellevue, WA MSA      surf        NaN   \n",
       "3        Seattle-Tacoma-Bellevue, WA MSA      surf        NaN   \n",
       "4        Seattle-Tacoma-Bellevue, WA MSA      surf        NaN   \n",
       "\n",
       "   extra_mensagens  min_extra  gb_extra  usd_monthly_pay_x  usd_monthly_pay_y  \\\n",
       "0             0.00        0.0       0.0                 70                 70   \n",
       "1             0.00        0.0       0.0                 20                 20   \n",
       "2             0.00        0.0       0.0                 20                 20   \n",
       "3             0.09        0.0      70.0                 20                 20   \n",
       "4             0.00        0.0      40.0                 20                 20   \n",
       "\n",
       "   total_mes  \n",
       "0      70.00  \n",
       "1      20.00  \n",
       "2      20.00  \n",
       "3      90.09  \n",
       "4      60.00  "
      ]
     },
     "execution_count": 66,
     "metadata": {},
     "output_type": "execute_result"
    }
   ],
   "source": [
    "df_final.head()"
   ]
  },
  {
   "cell_type": "code",
   "execution_count": 67,
   "metadata": {},
   "outputs": [
    {
     "name": "stdout",
     "output_type": "stream",
     "text": [
      "Quantidade total de mensagens extras: $ 310.89\n",
      "Quantidade total de minutos extras: $ 2303.79\n",
      "Quantidade total de dados extras: $ 60800.0\n",
      "Quantidade total do mês: $ 144904.68\n"
     ]
    }
   ],
   "source": [
    "\n",
    "print('Quantidade total de mensagens extras:', '$', df_final['extra_mensagens'].sum())\n",
    "print('Quantidade total de minutos extras:', '$', df_final['min_extra'].sum())\n",
    "print('Quantidade total de dados extras:', '$', df_final['gb_extra'].sum())\n",
    "print('Quantidade total do mês:', '$', df_final['total_mes'].sum())\n",
    "\n",
    "#print('Valor total do mês:', '$', df_final['total_mes'].sum())"
   ]
  },
  {
   "cell_type": "markdown",
   "metadata": {},
   "source": [
    "<div class=\"alert alert-block alert-danger\">\n",
    "\n",
    "<b>Comentário do revisor: </b> <a class=\"tocSkip\"></a>\n",
    "    \n",
    "Código com erro. total_mes não existe\n",
    "</div>"
   ]
  },
  {
   "cell_type": "code",
   "execution_count": 68,
   "metadata": {},
   "outputs": [],
   "source": [
    "df_final = df_final.merge(df_plans, left_on='plan', right_on='plan_name', how='left').drop(\n",
    "    ['messages_included','mb_per_month_included','minutes_included','usd_per_gb','usd_per_message',\n",
    "    'usd_per_minute'], axis = 1)\n",
    "\n",
    "df_final = df_final.drop('plan_name', axis = 1)"
   ]
  },
  {
   "cell_type": "code",
   "execution_count": 69,
   "metadata": {},
   "outputs": [
    {
     "data": {
      "text/html": [
       "<div>\n",
       "<style scoped>\n",
       "    .dataframe tbody tr th:only-of-type {\n",
       "        vertical-align: middle;\n",
       "    }\n",
       "\n",
       "    .dataframe tbody tr th {\n",
       "        vertical-align: top;\n",
       "    }\n",
       "\n",
       "    .dataframe thead th {\n",
       "        text-align: right;\n",
       "    }\n",
       "</style>\n",
       "<table border=\"1\" class=\"dataframe\">\n",
       "  <thead>\n",
       "    <tr style=\"text-align: right;\">\n",
       "      <th></th>\n",
       "      <th>index</th>\n",
       "      <th>user_id</th>\n",
       "      <th>month</th>\n",
       "      <th>mb_used</th>\n",
       "      <th>total_chamadas</th>\n",
       "      <th>duration</th>\n",
       "      <th>total_messages</th>\n",
       "      <th>city</th>\n",
       "      <th>plan</th>\n",
       "      <th>churn_date</th>\n",
       "      <th>extra_mensagens</th>\n",
       "      <th>min_extra</th>\n",
       "      <th>gb_extra</th>\n",
       "      <th>usd_monthly_pay_x</th>\n",
       "      <th>usd_monthly_pay_y</th>\n",
       "      <th>total_mes</th>\n",
       "      <th>usd_monthly_pay</th>\n",
       "    </tr>\n",
       "  </thead>\n",
       "  <tbody>\n",
       "    <tr>\n",
       "      <th>0</th>\n",
       "      <td>0</td>\n",
       "      <td>1000</td>\n",
       "      <td>12</td>\n",
       "      <td>1901.47</td>\n",
       "      <td>16.0</td>\n",
       "      <td>116.83</td>\n",
       "      <td>11.0</td>\n",
       "      <td>Atlanta-Sandy Springs-Roswell, GA MSA</td>\n",
       "      <td>ultimate</td>\n",
       "      <td>NaN</td>\n",
       "      <td>0.00</td>\n",
       "      <td>0.0</td>\n",
       "      <td>0.0</td>\n",
       "      <td>70</td>\n",
       "      <td>70</td>\n",
       "      <td>70.00</td>\n",
       "      <td>70</td>\n",
       "    </tr>\n",
       "    <tr>\n",
       "      <th>1</th>\n",
       "      <td>1</td>\n",
       "      <td>1001</td>\n",
       "      <td>8</td>\n",
       "      <td>6919.15</td>\n",
       "      <td>27.0</td>\n",
       "      <td>171.14</td>\n",
       "      <td>30.0</td>\n",
       "      <td>Seattle-Tacoma-Bellevue, WA MSA</td>\n",
       "      <td>surf</td>\n",
       "      <td>NaN</td>\n",
       "      <td>0.00</td>\n",
       "      <td>0.0</td>\n",
       "      <td>0.0</td>\n",
       "      <td>20</td>\n",
       "      <td>20</td>\n",
       "      <td>20.00</td>\n",
       "      <td>20</td>\n",
       "    </tr>\n",
       "    <tr>\n",
       "      <th>2</th>\n",
       "      <td>2</td>\n",
       "      <td>1001</td>\n",
       "      <td>9</td>\n",
       "      <td>13314.82</td>\n",
       "      <td>49.0</td>\n",
       "      <td>297.69</td>\n",
       "      <td>44.0</td>\n",
       "      <td>Seattle-Tacoma-Bellevue, WA MSA</td>\n",
       "      <td>surf</td>\n",
       "      <td>NaN</td>\n",
       "      <td>0.00</td>\n",
       "      <td>0.0</td>\n",
       "      <td>0.0</td>\n",
       "      <td>20</td>\n",
       "      <td>20</td>\n",
       "      <td>20.00</td>\n",
       "      <td>20</td>\n",
       "    </tr>\n",
       "    <tr>\n",
       "      <th>3</th>\n",
       "      <td>3</td>\n",
       "      <td>1001</td>\n",
       "      <td>10</td>\n",
       "      <td>22330.49</td>\n",
       "      <td>65.0</td>\n",
       "      <td>374.11</td>\n",
       "      <td>53.0</td>\n",
       "      <td>Seattle-Tacoma-Bellevue, WA MSA</td>\n",
       "      <td>surf</td>\n",
       "      <td>NaN</td>\n",
       "      <td>0.09</td>\n",
       "      <td>0.0</td>\n",
       "      <td>70.0</td>\n",
       "      <td>20</td>\n",
       "      <td>20</td>\n",
       "      <td>90.09</td>\n",
       "      <td>20</td>\n",
       "    </tr>\n",
       "    <tr>\n",
       "      <th>4</th>\n",
       "      <td>4</td>\n",
       "      <td>1001</td>\n",
       "      <td>11</td>\n",
       "      <td>18504.30</td>\n",
       "      <td>64.0</td>\n",
       "      <td>404.59</td>\n",
       "      <td>36.0</td>\n",
       "      <td>Seattle-Tacoma-Bellevue, WA MSA</td>\n",
       "      <td>surf</td>\n",
       "      <td>NaN</td>\n",
       "      <td>0.00</td>\n",
       "      <td>0.0</td>\n",
       "      <td>40.0</td>\n",
       "      <td>20</td>\n",
       "      <td>20</td>\n",
       "      <td>60.00</td>\n",
       "      <td>20</td>\n",
       "    </tr>\n",
       "  </tbody>\n",
       "</table>\n",
       "</div>"
      ],
      "text/plain": [
       "   index  user_id  month   mb_used  total_chamadas  duration  total_messages  \\\n",
       "0      0     1000     12   1901.47            16.0    116.83            11.0   \n",
       "1      1     1001      8   6919.15            27.0    171.14            30.0   \n",
       "2      2     1001      9  13314.82            49.0    297.69            44.0   \n",
       "3      3     1001     10  22330.49            65.0    374.11            53.0   \n",
       "4      4     1001     11  18504.30            64.0    404.59            36.0   \n",
       "\n",
       "                                    city      plan churn_date  \\\n",
       "0  Atlanta-Sandy Springs-Roswell, GA MSA  ultimate        NaN   \n",
       "1        Seattle-Tacoma-Bellevue, WA MSA      surf        NaN   \n",
       "2        Seattle-Tacoma-Bellevue, WA MSA      surf        NaN   \n",
       "3        Seattle-Tacoma-Bellevue, WA MSA      surf        NaN   \n",
       "4        Seattle-Tacoma-Bellevue, WA MSA      surf        NaN   \n",
       "\n",
       "   extra_mensagens  min_extra  gb_extra  usd_monthly_pay_x  usd_monthly_pay_y  \\\n",
       "0             0.00        0.0       0.0                 70                 70   \n",
       "1             0.00        0.0       0.0                 20                 20   \n",
       "2             0.00        0.0       0.0                 20                 20   \n",
       "3             0.09        0.0      70.0                 20                 20   \n",
       "4             0.00        0.0      40.0                 20                 20   \n",
       "\n",
       "   total_mes  usd_monthly_pay  \n",
       "0      70.00               70  \n",
       "1      20.00               20  \n",
       "2      20.00               20  \n",
       "3      90.09               20  \n",
       "4      60.00               20  "
      ]
     },
     "execution_count": 69,
     "metadata": {},
     "output_type": "execute_result"
    }
   ],
   "source": [
    "df_final.head()"
   ]
  },
  {
   "cell_type": "code",
   "execution_count": 70,
   "metadata": {},
   "outputs": [],
   "source": [
    "columns_to_replace = ['extra_mensagens', 'min_extra', 'gb_extra']\n",
    "\n",
    "for column in columns_to_replace:\n",
    "    df_final[column] = df_final[column].fillna(0)"
   ]
  },
  {
   "cell_type": "code",
   "execution_count": 72,
   "metadata": {},
   "outputs": [
    {
     "ename": "KeyError",
     "evalue": "\"['first_name' 'last_name' 'age' 'reg_date'] not found in axis\"",
     "output_type": "error",
     "traceback": [
      "\u001b[0;31m---------------------------------------------------------------------------\u001b[0m",
      "\u001b[0;31mKeyError\u001b[0m                                  Traceback (most recent call last)",
      "Cell \u001b[0;32mIn[72], line 2\u001b[0m\n\u001b[1;32m      1\u001b[0m df_final[\u001b[38;5;124m'\u001b[39m\u001b[38;5;124mtotal_mes\u001b[39m\u001b[38;5;124m'\u001b[39m] \u001b[38;5;241m=\u001b[39m df_final[\u001b[38;5;124m'\u001b[39m\u001b[38;5;124mextra_mensagens\u001b[39m\u001b[38;5;124m'\u001b[39m] \u001b[38;5;241m+\u001b[39m df_final[\u001b[38;5;124m'\u001b[39m\u001b[38;5;124mmin_extra\u001b[39m\u001b[38;5;124m'\u001b[39m] \u001b[38;5;241m+\u001b[39m df_final[\u001b[38;5;124m'\u001b[39m\u001b[38;5;124mgb_extra\u001b[39m\u001b[38;5;124m'\u001b[39m] \u001b[38;5;241m+\u001b[39m df_final[\u001b[38;5;124m'\u001b[39m\u001b[38;5;124musd_monthly_pay_x\u001b[39m\u001b[38;5;124m'\u001b[39m]\n\u001b[0;32m----> 2\u001b[0m df_final \u001b[38;5;241m=\u001b[39m \u001b[43mdf_final\u001b[49m\u001b[38;5;241;43m.\u001b[39;49m\u001b[43mdrop\u001b[49m\u001b[43m(\u001b[49m\u001b[43m[\u001b[49m\u001b[38;5;124;43m'\u001b[39;49m\u001b[38;5;124;43mfirst_name\u001b[39;49m\u001b[38;5;124;43m'\u001b[39;49m\u001b[43m,\u001b[49m\u001b[43m \u001b[49m\u001b[38;5;124;43m'\u001b[39;49m\u001b[38;5;124;43mlast_name\u001b[39;49m\u001b[38;5;124;43m'\u001b[39;49m\u001b[43m,\u001b[49m\u001b[43m \u001b[49m\u001b[38;5;124;43m'\u001b[39;49m\u001b[38;5;124;43mage\u001b[39;49m\u001b[38;5;124;43m'\u001b[39;49m\u001b[43m \u001b[49m\u001b[43m,\u001b[49m\u001b[38;5;124;43m'\u001b[39;49m\u001b[38;5;124;43mreg_date\u001b[39;49m\u001b[38;5;124;43m'\u001b[39;49m\u001b[43m]\u001b[49m\u001b[43m,\u001b[49m\u001b[43m \u001b[49m\u001b[43maxis\u001b[49m\u001b[43m \u001b[49m\u001b[38;5;241;43m=\u001b[39;49m\u001b[38;5;241;43m1\u001b[39;49m\u001b[43m)\u001b[49m\n",
      "File \u001b[0;32m/opt/conda/envs/python3/lib/python3.9/site-packages/pandas/core/frame.py:4308\u001b[0m, in \u001b[0;36mDataFrame.drop\u001b[0;34m(self, labels, axis, index, columns, level, inplace, errors)\u001b[0m\n\u001b[1;32m   4178\u001b[0m \u001b[38;5;28;01mdef\u001b[39;00m \u001b[38;5;21mdrop\u001b[39m(\n\u001b[1;32m   4179\u001b[0m     \u001b[38;5;28mself\u001b[39m,\n\u001b[1;32m   4180\u001b[0m     labels\u001b[38;5;241m=\u001b[39m\u001b[38;5;28;01mNone\u001b[39;00m,\n\u001b[0;32m   (...)\u001b[0m\n\u001b[1;32m   4186\u001b[0m     errors\u001b[38;5;241m=\u001b[39m\u001b[38;5;124m\"\u001b[39m\u001b[38;5;124mraise\u001b[39m\u001b[38;5;124m\"\u001b[39m,\n\u001b[1;32m   4187\u001b[0m ):\n\u001b[1;32m   4188\u001b[0m \u001b[38;5;250m    \u001b[39m\u001b[38;5;124;03m\"\"\"\u001b[39;00m\n\u001b[1;32m   4189\u001b[0m \u001b[38;5;124;03m    Drop specified labels from rows or columns.\u001b[39;00m\n\u001b[1;32m   4190\u001b[0m \n\u001b[0;32m   (...)\u001b[0m\n\u001b[1;32m   4306\u001b[0m \u001b[38;5;124;03m            weight  1.0     0.8\u001b[39;00m\n\u001b[1;32m   4307\u001b[0m \u001b[38;5;124;03m    \"\"\"\u001b[39;00m\n\u001b[0;32m-> 4308\u001b[0m     \u001b[38;5;28;01mreturn\u001b[39;00m \u001b[38;5;28;43msuper\u001b[39;49m\u001b[43m(\u001b[49m\u001b[43m)\u001b[49m\u001b[38;5;241;43m.\u001b[39;49m\u001b[43mdrop\u001b[49m\u001b[43m(\u001b[49m\n\u001b[1;32m   4309\u001b[0m \u001b[43m        \u001b[49m\u001b[43mlabels\u001b[49m\u001b[38;5;241;43m=\u001b[39;49m\u001b[43mlabels\u001b[49m\u001b[43m,\u001b[49m\n\u001b[1;32m   4310\u001b[0m \u001b[43m        \u001b[49m\u001b[43maxis\u001b[49m\u001b[38;5;241;43m=\u001b[39;49m\u001b[43maxis\u001b[49m\u001b[43m,\u001b[49m\n\u001b[1;32m   4311\u001b[0m \u001b[43m        \u001b[49m\u001b[43mindex\u001b[49m\u001b[38;5;241;43m=\u001b[39;49m\u001b[43mindex\u001b[49m\u001b[43m,\u001b[49m\n\u001b[1;32m   4312\u001b[0m \u001b[43m        \u001b[49m\u001b[43mcolumns\u001b[49m\u001b[38;5;241;43m=\u001b[39;49m\u001b[43mcolumns\u001b[49m\u001b[43m,\u001b[49m\n\u001b[1;32m   4313\u001b[0m \u001b[43m        \u001b[49m\u001b[43mlevel\u001b[49m\u001b[38;5;241;43m=\u001b[39;49m\u001b[43mlevel\u001b[49m\u001b[43m,\u001b[49m\n\u001b[1;32m   4314\u001b[0m \u001b[43m        \u001b[49m\u001b[43minplace\u001b[49m\u001b[38;5;241;43m=\u001b[39;49m\u001b[43minplace\u001b[49m\u001b[43m,\u001b[49m\n\u001b[1;32m   4315\u001b[0m \u001b[43m        \u001b[49m\u001b[43merrors\u001b[49m\u001b[38;5;241;43m=\u001b[39;49m\u001b[43merrors\u001b[49m\u001b[43m,\u001b[49m\n\u001b[1;32m   4316\u001b[0m \u001b[43m    \u001b[49m\u001b[43m)\u001b[49m\n",
      "File \u001b[0;32m/opt/conda/envs/python3/lib/python3.9/site-packages/pandas/core/generic.py:4153\u001b[0m, in \u001b[0;36mNDFrame.drop\u001b[0;34m(self, labels, axis, index, columns, level, inplace, errors)\u001b[0m\n\u001b[1;32m   4151\u001b[0m \u001b[38;5;28;01mfor\u001b[39;00m axis, labels \u001b[38;5;129;01min\u001b[39;00m axes\u001b[38;5;241m.\u001b[39mitems():\n\u001b[1;32m   4152\u001b[0m     \u001b[38;5;28;01mif\u001b[39;00m labels \u001b[38;5;129;01mis\u001b[39;00m \u001b[38;5;129;01mnot\u001b[39;00m \u001b[38;5;28;01mNone\u001b[39;00m:\n\u001b[0;32m-> 4153\u001b[0m         obj \u001b[38;5;241m=\u001b[39m \u001b[43mobj\u001b[49m\u001b[38;5;241;43m.\u001b[39;49m\u001b[43m_drop_axis\u001b[49m\u001b[43m(\u001b[49m\u001b[43mlabels\u001b[49m\u001b[43m,\u001b[49m\u001b[43m \u001b[49m\u001b[43maxis\u001b[49m\u001b[43m,\u001b[49m\u001b[43m \u001b[49m\u001b[43mlevel\u001b[49m\u001b[38;5;241;43m=\u001b[39;49m\u001b[43mlevel\u001b[49m\u001b[43m,\u001b[49m\u001b[43m \u001b[49m\u001b[43merrors\u001b[49m\u001b[38;5;241;43m=\u001b[39;49m\u001b[43merrors\u001b[49m\u001b[43m)\u001b[49m\n\u001b[1;32m   4155\u001b[0m \u001b[38;5;28;01mif\u001b[39;00m inplace:\n\u001b[1;32m   4156\u001b[0m     \u001b[38;5;28mself\u001b[39m\u001b[38;5;241m.\u001b[39m_update_inplace(obj)\n",
      "File \u001b[0;32m/opt/conda/envs/python3/lib/python3.9/site-packages/pandas/core/generic.py:4188\u001b[0m, in \u001b[0;36mNDFrame._drop_axis\u001b[0;34m(self, labels, axis, level, errors)\u001b[0m\n\u001b[1;32m   4186\u001b[0m         new_axis \u001b[38;5;241m=\u001b[39m axis\u001b[38;5;241m.\u001b[39mdrop(labels, level\u001b[38;5;241m=\u001b[39mlevel, errors\u001b[38;5;241m=\u001b[39merrors)\n\u001b[1;32m   4187\u001b[0m     \u001b[38;5;28;01melse\u001b[39;00m:\n\u001b[0;32m-> 4188\u001b[0m         new_axis \u001b[38;5;241m=\u001b[39m \u001b[43maxis\u001b[49m\u001b[38;5;241;43m.\u001b[39;49m\u001b[43mdrop\u001b[49m\u001b[43m(\u001b[49m\u001b[43mlabels\u001b[49m\u001b[43m,\u001b[49m\u001b[43m \u001b[49m\u001b[43merrors\u001b[49m\u001b[38;5;241;43m=\u001b[39;49m\u001b[43merrors\u001b[49m\u001b[43m)\u001b[49m\n\u001b[1;32m   4189\u001b[0m     result \u001b[38;5;241m=\u001b[39m \u001b[38;5;28mself\u001b[39m\u001b[38;5;241m.\u001b[39mreindex(\u001b[38;5;241m*\u001b[39m\u001b[38;5;241m*\u001b[39m{axis_name: new_axis})\n\u001b[1;32m   4191\u001b[0m \u001b[38;5;66;03m# Case for non-unique axis\u001b[39;00m\n\u001b[1;32m   4192\u001b[0m \u001b[38;5;28;01melse\u001b[39;00m:\n",
      "File \u001b[0;32m/opt/conda/envs/python3/lib/python3.9/site-packages/pandas/core/indexes/base.py:5591\u001b[0m, in \u001b[0;36mIndex.drop\u001b[0;34m(self, labels, errors)\u001b[0m\n\u001b[1;32m   5589\u001b[0m \u001b[38;5;28;01mif\u001b[39;00m mask\u001b[38;5;241m.\u001b[39many():\n\u001b[1;32m   5590\u001b[0m     \u001b[38;5;28;01mif\u001b[39;00m errors \u001b[38;5;241m!=\u001b[39m \u001b[38;5;124m\"\u001b[39m\u001b[38;5;124mignore\u001b[39m\u001b[38;5;124m\"\u001b[39m:\n\u001b[0;32m-> 5591\u001b[0m         \u001b[38;5;28;01mraise\u001b[39;00m \u001b[38;5;167;01mKeyError\u001b[39;00m(\u001b[38;5;124mf\u001b[39m\u001b[38;5;124m\"\u001b[39m\u001b[38;5;132;01m{\u001b[39;00mlabels[mask]\u001b[38;5;132;01m}\u001b[39;00m\u001b[38;5;124m not found in axis\u001b[39m\u001b[38;5;124m\"\u001b[39m)\n\u001b[1;32m   5592\u001b[0m     indexer \u001b[38;5;241m=\u001b[39m indexer[\u001b[38;5;241m~\u001b[39mmask]\n\u001b[1;32m   5593\u001b[0m \u001b[38;5;28;01mreturn\u001b[39;00m \u001b[38;5;28mself\u001b[39m\u001b[38;5;241m.\u001b[39mdelete(indexer)\n",
      "\u001b[0;31mKeyError\u001b[0m: \"['first_name' 'last_name' 'age' 'reg_date'] not found in axis\""
     ]
    }
   ],
   "source": [
    "df_final['total_mes'] = df_final['extra_mensagens'] + df_final['min_extra'] + df_final['gb_extra'] + df_final['usd_monthly_pay_x']\n",
    "df_final = df_final.drop(['first_name', 'last_name', 'age' ,'reg_date'], axis =1)"
   ]
  },
  {
   "cell_type": "code",
   "execution_count": null,
   "metadata": {},
   "outputs": [],
   "source": [
    "df_final.head()"
   ]
  },
  {
   "cell_type": "markdown",
   "metadata": {
    "id": "0HFWXKTQuj8r"
   },
   "source": [
    "## Estude o comportamento do usuário"
   ]
  },
  {
   "cell_type": "markdown",
   "metadata": {
    "id": "i6gGFggkuj8s"
   },
   "source": [
    "[Calcule algumas estatísticas descritivas úteis para os dados agregados e unidos, que geralmente revelam uma imagem geral capturada pelos dados. Desenhe gráficos úteis para ajudar na compreensão. Já que a tarefa principal é comparar os planos e decidir qual é mais rentável, as estatísticas e os gráficos devem ser calculados por plano.]\n",
    "\n",
    "[Existem dicas relevantes nos comentários para chamadas, mas elas não são fornecidas para mensagens e internet, embora o princípio do estudo estatístico seja o mesmo para todas.]"
   ]
  },
  {
   "cell_type": "markdown",
   "metadata": {
    "id": "umaMfSLxuj8s"
   },
   "source": [
    "### Chamadas"
   ]
  },
  {
   "cell_type": "code",
   "execution_count": 73,
   "metadata": {
    "id": "0236-tJnuj8t"
   },
   "outputs": [
    {
     "data": {
      "text/html": [
       "<div>\n",
       "<style scoped>\n",
       "    .dataframe tbody tr th:only-of-type {\n",
       "        vertical-align: middle;\n",
       "    }\n",
       "\n",
       "    .dataframe tbody tr th {\n",
       "        vertical-align: top;\n",
       "    }\n",
       "\n",
       "    .dataframe thead th {\n",
       "        text-align: right;\n",
       "    }\n",
       "</style>\n",
       "<table border=\"1\" class=\"dataframe\">\n",
       "  <thead>\n",
       "    <tr style=\"text-align: right;\">\n",
       "      <th></th>\n",
       "      <th>duracao_media_surf</th>\n",
       "      <th>duracao_media_ultimate</th>\n",
       "    </tr>\n",
       "    <tr>\n",
       "      <th>month</th>\n",
       "      <th></th>\n",
       "      <th></th>\n",
       "    </tr>\n",
       "  </thead>\n",
       "  <tbody>\n",
       "    <tr>\n",
       "      <th>1</th>\n",
       "      <td>192.84</td>\n",
       "      <td>183.16</td>\n",
       "    </tr>\n",
       "    <tr>\n",
       "      <th>2</th>\n",
       "      <td>280.85</td>\n",
       "      <td>443.17</td>\n",
       "    </tr>\n",
       "    <tr>\n",
       "      <th>3</th>\n",
       "      <td>310.97</td>\n",
       "      <td>285.70</td>\n",
       "    </tr>\n",
       "    <tr>\n",
       "      <th>4</th>\n",
       "      <td>338.34</td>\n",
       "      <td>316.51</td>\n",
       "    </tr>\n",
       "    <tr>\n",
       "      <th>5</th>\n",
       "      <td>389.25</td>\n",
       "      <td>383.66</td>\n",
       "    </tr>\n",
       "    <tr>\n",
       "      <th>6</th>\n",
       "      <td>414.38</td>\n",
       "      <td>365.36</td>\n",
       "    </tr>\n",
       "    <tr>\n",
       "      <th>7</th>\n",
       "      <td>427.55</td>\n",
       "      <td>403.77</td>\n",
       "    </tr>\n",
       "    <tr>\n",
       "      <th>8</th>\n",
       "      <td>398.19</td>\n",
       "      <td>397.27</td>\n",
       "    </tr>\n",
       "    <tr>\n",
       "      <th>9</th>\n",
       "      <td>396.90</td>\n",
       "      <td>413.29</td>\n",
       "    </tr>\n",
       "    <tr>\n",
       "      <th>10</th>\n",
       "      <td>415.87</td>\n",
       "      <td>429.22</td>\n",
       "    </tr>\n",
       "    <tr>\n",
       "      <th>11</th>\n",
       "      <td>408.90</td>\n",
       "      <td>423.81</td>\n",
       "    </tr>\n",
       "    <tr>\n",
       "      <th>12</th>\n",
       "      <td>457.22</td>\n",
       "      <td>438.82</td>\n",
       "    </tr>\n",
       "  </tbody>\n",
       "</table>\n",
       "</div>"
      ],
      "text/plain": [
       "       duracao_media_surf  duracao_media_ultimate\n",
       "month                                            \n",
       "1                  192.84                  183.16\n",
       "2                  280.85                  443.17\n",
       "3                  310.97                  285.70\n",
       "4                  338.34                  316.51\n",
       "5                  389.25                  383.66\n",
       "6                  414.38                  365.36\n",
       "7                  427.55                  403.77\n",
       "8                  398.19                  397.27\n",
       "9                  396.90                  413.29\n",
       "10                 415.87                  429.22\n",
       "11                 408.90                  423.81\n",
       "12                 457.22                  438.82"
      ]
     },
     "execution_count": 73,
     "metadata": {},
     "output_type": "execute_result"
    }
   ],
   "source": [
    "pivot_minutos = sum_4.pivot_table(index= 'month', \n",
    "                                     columns = 'plan', \n",
    "                                     values= 'duration', \n",
    "                                     aggfunc='mean').round(2)\n",
    "pivot_minutos.columns = ['duracao_media_surf', 'duracao_media_ultimate']\n",
    "\n",
    "pivot_minutos\n",
    "# Compare a duração média das chamadas de cada plano para cada mês distinto. Crie um gráfico de barras para visualizá-lo.\n",
    "\n"
   ]
  },
  {
   "cell_type": "code",
   "execution_count": 74,
   "metadata": {},
   "outputs": [
    {
     "data": {
      "image/png": "[encoded data removed]",
      "text/plain": [
       "<Figure size 1200x900 with 1 Axes>"
      ]
     },
     "metadata": {},
     "output_type": "display_data"
    }
   ],
   "source": [
    "color = ['m', 'lightgreen']\n",
    "pivot_minutos.plot(kind='bar', figsize=(12, 9), title='Duração média das chamadas por plano', color=color);"
   ]
  },
  {
   "cell_type": "code",
   "execution_count": 75,
   "metadata": {
    "id": "9sCQ1lP8uj8u"
   },
   "outputs": [
    {
     "data": {
      "image/png": "[encoded data removed]",
      "text/plain": [
       "<Figure size 1000x800 with 1 Axes>"
      ]
     },
     "metadata": {},
     "output_type": "display_data"
    }
   ],
   "source": [
    "plot_data_surf = sum_4[(sum_4['plan'] == 'surf')]\n",
    "plot_data_ult = sum_4[(sum_4['plan'] == 'ultimate')]\n",
    "\n",
    "fig, ax = plt.subplots(figsize=(10, 8))\n",
    "plot_data_surf['duration'].plot(kind='hist', \n",
    "                                 bins=90, \n",
    "                                 title='Chamadas', \n",
    "                                 alpha=0.3, \n",
    "                                 ax=ax, \n",
    "                                 color='lightblue')\n",
    "\n",
    "plot_data_ult['duration'].plot(kind='hist', \n",
    "                                 bins=90, \n",
    "                                 title='Chamadas', \n",
    "                                 alpha=0.3, \n",
    "                                 ax=ax, \n",
    "                                 color='lightpink')\n",
    "\n",
    "plt.legend(['Surf', 'Ultimate'])\n",
    "plt.xlabel('Quantidade de minutos')\n",
    "plt.ylabel('Frequência')\n",
    "plt.show()\n",
    "\n",
    "# Compare o número de minutos de que os usuários de cada plano necessitam a cada mês. Construa um histograma.\n",
    "\n"
   ]
  },
  {
   "cell_type": "markdown",
   "metadata": {
    "id": "_x1pRDFtuj8u"
   },
   "source": [
    "[Calcule a média e a variável da duração da chamada para raciocinar se os usuários de diferentes planos possuem comportamentos diferentes em suas chamadas.]"
   ]
  },
  {
   "cell_type": "code",
   "execution_count": 76,
   "metadata": {
    "id": "cIdodPExuj8u"
   },
   "outputs": [
    {
     "data": {
      "text/html": [
       "<div>\n",
       "<style scoped>\n",
       "    .dataframe tbody tr th:only-of-type {\n",
       "        vertical-align: middle;\n",
       "    }\n",
       "\n",
       "    .dataframe tbody tr th {\n",
       "        vertical-align: top;\n",
       "    }\n",
       "\n",
       "    .dataframe thead th {\n",
       "        text-align: right;\n",
       "    }\n",
       "</style>\n",
       "<table border=\"1\" class=\"dataframe\">\n",
       "  <thead>\n",
       "    <tr style=\"text-align: right;\">\n",
       "      <th></th>\n",
       "      <th>media_chamadas</th>\n",
       "      <th>variancia_chamadas</th>\n",
       "    </tr>\n",
       "    <tr>\n",
       "      <th>month</th>\n",
       "      <th></th>\n",
       "      <th></th>\n",
       "    </tr>\n",
       "  </thead>\n",
       "  <tbody>\n",
       "    <tr>\n",
       "      <th>1</th>\n",
       "      <td>186.39</td>\n",
       "      <td>11978.88</td>\n",
       "    </tr>\n",
       "    <tr>\n",
       "      <th>2</th>\n",
       "      <td>345.78</td>\n",
       "      <td>50958.88</td>\n",
       "    </tr>\n",
       "    <tr>\n",
       "      <th>3</th>\n",
       "      <td>302.31</td>\n",
       "      <td>38297.56</td>\n",
       "    </tr>\n",
       "    <tr>\n",
       "      <th>4</th>\n",
       "      <td>331.79</td>\n",
       "      <td>40237.17</td>\n",
       "    </tr>\n",
       "    <tr>\n",
       "      <th>5</th>\n",
       "      <td>387.68</td>\n",
       "      <td>47382.16</td>\n",
       "    </tr>\n",
       "    <tr>\n",
       "      <th>6</th>\n",
       "      <td>398.51</td>\n",
       "      <td>37188.86</td>\n",
       "    </tr>\n",
       "    <tr>\n",
       "      <th>7</th>\n",
       "      <td>419.67</td>\n",
       "      <td>57231.66</td>\n",
       "    </tr>\n",
       "    <tr>\n",
       "      <th>8</th>\n",
       "      <td>397.91</td>\n",
       "      <td>46070.07</td>\n",
       "    </tr>\n",
       "    <tr>\n",
       "      <th>9</th>\n",
       "      <td>402.00</td>\n",
       "      <td>43300.45</td>\n",
       "    </tr>\n",
       "    <tr>\n",
       "      <th>10</th>\n",
       "      <td>420.07</td>\n",
       "      <td>44975.38</td>\n",
       "    </tr>\n",
       "    <tr>\n",
       "      <th>11</th>\n",
       "      <td>413.59</td>\n",
       "      <td>46315.02</td>\n",
       "    </tr>\n",
       "    <tr>\n",
       "      <th>12</th>\n",
       "      <td>451.25</td>\n",
       "      <td>53801.61</td>\n",
       "    </tr>\n",
       "  </tbody>\n",
       "</table>\n",
       "</div>"
      ],
      "text/plain": [
       "       media_chamadas  variancia_chamadas\n",
       "month                                    \n",
       "1              186.39            11978.88\n",
       "2              345.78            50958.88\n",
       "3              302.31            38297.56\n",
       "4              331.79            40237.17\n",
       "5              387.68            47382.16\n",
       "6              398.51            37188.86\n",
       "7              419.67            57231.66\n",
       "8              397.91            46070.07\n",
       "9              402.00            43300.45\n",
       "10             420.07            44975.38\n",
       "11             413.59            46315.02\n",
       "12             451.25            53801.61"
      ]
     },
     "execution_count": 76,
     "metadata": {},
     "output_type": "execute_result"
    }
   ],
   "source": [
    "sum_4.groupby('month').agg(media_chamadas=('duration','mean'), \n",
    "                              variancia_chamadas=('duration','var')).round(2)\n",
    "\n",
    "# Calcule a média e a variação da duração mensal das chamadas\n",
    "\n"
   ]
  },
  {
   "cell_type": "code",
   "execution_count": 77,
   "metadata": {
    "id": "DW7vTypxuj8u"
   },
   "outputs": [
    {
     "data": {
      "image/png": "[encoded data removed]",
      "text/plain": [
       "<Figure size 1200x900 with 1 Axes>"
      ]
     },
     "metadata": {},
     "output_type": "display_data"
    },
    {
     "data": {
      "image/png": "[encoded data removed]",
      "text/plain": [
       "<Figure size 1200x900 with 1 Axes>"
      ]
     },
     "metadata": {},
     "output_type": "display_data"
    }
   ],
   "source": [
    "for plan, data in sum_4.groupby('plan'):\n",
    "    props = dict(boxes=\"green\", whiskers=\"orange\", medians=\"blue\", caps=\"gray\")\n",
    "    data.boxplot('duration', by='month', grid=True, figsize=(12,9), color=props, patch_artist=True)\n",
    "    plt.ylabel(plan)\n",
    "\n",
    "\n",
    "\n",
    "# Faça um diagrama de caixa para visualizar a distribuição da duração mensal das chamadas\n",
    "\n"
   ]
  },
  {
   "cell_type": "markdown",
   "metadata": {
    "id": "Uyt3rWn7uj8u"
   },
   "source": [
    "[Formule conclusões sobre como os usuários se comportam em termos de chamadas. O comportamento é diferente dependendo do plano?]\n",
    "\n",
    "[O comportamento dos usuários de cada plano relativamente à duração das chamadas por mês é diferente nos primeiros três meses de 2018, durante o mês de Fevereiro onde os usuários de surf tiveram uma duração aproximada de 230 minutos enquanto os usuários finais tiveram uma duração de aproximadamente 230 minutos, de 430 minutos, porém, a partir do mês 4 a duração média das chamadas oscila perto de 400 minutos por mês.]"
   ]
  },
  {
   "cell_type": "markdown",
   "metadata": {
    "id": "2hWSPtrnuj8v"
   },
   "source": [
    "### Mensagens"
   ]
  },
  {
   "cell_type": "code",
   "execution_count": 78,
   "metadata": {
    "id": "9kPlAhOJuj8v"
   },
   "outputs": [
    {
     "data": {
      "text/html": [
       "<div>\n",
       "<style scoped>\n",
       "    .dataframe tbody tr th:only-of-type {\n",
       "        vertical-align: middle;\n",
       "    }\n",
       "\n",
       "    .dataframe tbody tr th {\n",
       "        vertical-align: top;\n",
       "    }\n",
       "\n",
       "    .dataframe thead th {\n",
       "        text-align: right;\n",
       "    }\n",
       "</style>\n",
       "<table border=\"1\" class=\"dataframe\">\n",
       "  <thead>\n",
       "    <tr style=\"text-align: right;\">\n",
       "      <th>plan</th>\n",
       "      <th>surf</th>\n",
       "      <th>ultimate</th>\n",
       "    </tr>\n",
       "    <tr>\n",
       "      <th>month</th>\n",
       "      <th></th>\n",
       "      <th></th>\n",
       "    </tr>\n",
       "  </thead>\n",
       "  <tbody>\n",
       "    <tr>\n",
       "      <th>1</th>\n",
       "      <td>21.000000</td>\n",
       "      <td>20.666667</td>\n",
       "    </tr>\n",
       "    <tr>\n",
       "      <th>2</th>\n",
       "      <td>21.600000</td>\n",
       "      <td>25.166667</td>\n",
       "    </tr>\n",
       "    <tr>\n",
       "      <th>3</th>\n",
       "      <td>21.937500</td>\n",
       "      <td>34.714286</td>\n",
       "    </tr>\n",
       "    <tr>\n",
       "      <th>4</th>\n",
       "      <td>24.685714</td>\n",
       "      <td>28.937500</td>\n",
       "    </tr>\n",
       "    <tr>\n",
       "      <th>5</th>\n",
       "      <td>32.690909</td>\n",
       "      <td>44.333333</td>\n",
       "    </tr>\n",
       "    <tr>\n",
       "      <th>6</th>\n",
       "      <td>32.661972</td>\n",
       "      <td>36.289474</td>\n",
       "    </tr>\n",
       "    <tr>\n",
       "      <th>7</th>\n",
       "      <td>34.711111</td>\n",
       "      <td>41.212766</td>\n",
       "    </tr>\n",
       "    <tr>\n",
       "      <th>8</th>\n",
       "      <td>36.991803</td>\n",
       "      <td>47.929825</td>\n",
       "    </tr>\n",
       "    <tr>\n",
       "      <th>9</th>\n",
       "      <td>38.920000</td>\n",
       "      <td>45.901408</td>\n",
       "    </tr>\n",
       "    <tr>\n",
       "      <th>10</th>\n",
       "      <td>41.983871</td>\n",
       "      <td>47.488636</td>\n",
       "    </tr>\n",
       "    <tr>\n",
       "      <th>11</th>\n",
       "      <td>40.214286</td>\n",
       "      <td>47.601942</td>\n",
       "    </tr>\n",
       "    <tr>\n",
       "      <th>12</th>\n",
       "      <td>47.913043</td>\n",
       "      <td>53.936508</td>\n",
       "    </tr>\n",
       "  </tbody>\n",
       "</table>\n",
       "</div>"
      ],
      "text/plain": [
       "plan        surf   ultimate\n",
       "month                      \n",
       "1      21.000000  20.666667\n",
       "2      21.600000  25.166667\n",
       "3      21.937500  34.714286\n",
       "4      24.685714  28.937500\n",
       "5      32.690909  44.333333\n",
       "6      32.661972  36.289474\n",
       "7      34.711111  41.212766\n",
       "8      36.991803  47.929825\n",
       "9      38.920000  45.901408\n",
       "10     41.983871  47.488636\n",
       "11     40.214286  47.601942\n",
       "12     47.913043  53.936508"
      ]
     },
     "execution_count": 78,
     "metadata": {},
     "output_type": "execute_result"
    }
   ],
   "source": [
    "media_messages = sum_4.pivot_table(index= 'month', \n",
    "                                     columns = 'plan', \n",
    "                                     values= 'total_messages', \n",
    "                                     aggfunc='mean')\n",
    "\n",
    "media_messages\n",
    "\n",
    "# Compare o número de mensagens que os usuários de cada plano tendem a enviar a cada mês\n",
    "\n"
   ]
  },
  {
   "cell_type": "code",
   "execution_count": 79,
   "metadata": {},
   "outputs": [
    {
     "data": {
      "image/png": "[encoded data removed]",
      "text/plain": [
       "<Figure size 1200x900 with 1 Axes>"
      ]
     },
     "metadata": {},
     "output_type": "display_data"
    }
   ],
   "source": [
    "color = ['m', 'lightgreen']\n",
    "media_messages.plot(kind='bar', figsize=(12,9), title='Mensagens enviadas por plano', color=color);"
   ]
  },
  {
   "cell_type": "code",
   "execution_count": 80,
   "metadata": {
    "id": "fIVdRuT6uj8v"
   },
   "outputs": [
    {
     "data": {
      "text/html": [
       "<div>\n",
       "<style scoped>\n",
       "    .dataframe tbody tr th:only-of-type {\n",
       "        vertical-align: middle;\n",
       "    }\n",
       "\n",
       "    .dataframe tbody tr th {\n",
       "        vertical-align: top;\n",
       "    }\n",
       "\n",
       "    .dataframe thead th {\n",
       "        text-align: right;\n",
       "    }\n",
       "</style>\n",
       "<table border=\"1\" class=\"dataframe\">\n",
       "  <thead>\n",
       "    <tr style=\"text-align: right;\">\n",
       "      <th>plan</th>\n",
       "      <th>surf</th>\n",
       "      <th>ultimate</th>\n",
       "    </tr>\n",
       "    <tr>\n",
       "      <th>month</th>\n",
       "      <th></th>\n",
       "      <th></th>\n",
       "    </tr>\n",
       "  </thead>\n",
       "  <tbody>\n",
       "    <tr>\n",
       "      <th>1</th>\n",
       "      <td>4874.860000</td>\n",
       "      <td>6918.092500</td>\n",
       "    </tr>\n",
       "    <tr>\n",
       "      <th>2</th>\n",
       "      <td>12178.843333</td>\n",
       "      <td>17128.808571</td>\n",
       "    </tr>\n",
       "    <tr>\n",
       "      <th>3</th>\n",
       "      <td>13345.440000</td>\n",
       "      <td>18321.518333</td>\n",
       "    </tr>\n",
       "    <tr>\n",
       "      <th>4</th>\n",
       "      <td>12228.778571</td>\n",
       "      <td>16121.654762</td>\n",
       "    </tr>\n",
       "    <tr>\n",
       "      <th>5</th>\n",
       "      <td>14119.728026</td>\n",
       "      <td>16624.482414</td>\n",
       "    </tr>\n",
       "    <tr>\n",
       "      <th>6</th>\n",
       "      <td>15623.666632</td>\n",
       "      <td>15337.921064</td>\n",
       "    </tr>\n",
       "    <tr>\n",
       "      <th>7</th>\n",
       "      <td>16923.463917</td>\n",
       "      <td>16344.744407</td>\n",
       "    </tr>\n",
       "    <tr>\n",
       "      <th>8</th>\n",
       "      <td>17112.224403</td>\n",
       "      <td>17814.720141</td>\n",
       "    </tr>\n",
       "    <tr>\n",
       "      <th>9</th>\n",
       "      <td>16677.397254</td>\n",
       "      <td>16969.869535</td>\n",
       "    </tr>\n",
       "    <tr>\n",
       "      <th>10</th>\n",
       "      <td>17533.275256</td>\n",
       "      <td>17780.292000</td>\n",
       "    </tr>\n",
       "    <tr>\n",
       "      <th>11</th>\n",
       "      <td>16455.548043</td>\n",
       "      <td>17033.685354</td>\n",
       "    </tr>\n",
       "    <tr>\n",
       "      <th>12</th>\n",
       "      <td>18189.669590</td>\n",
       "      <td>18323.191854</td>\n",
       "    </tr>\n",
       "  </tbody>\n",
       "</table>\n",
       "</div>"
      ],
      "text/plain": [
       "plan           surf      ultimate\n",
       "month                            \n",
       "1       4874.860000   6918.092500\n",
       "2      12178.843333  17128.808571\n",
       "3      13345.440000  18321.518333\n",
       "4      12228.778571  16121.654762\n",
       "5      14119.728026  16624.482414\n",
       "6      15623.666632  15337.921064\n",
       "7      16923.463917  16344.744407\n",
       "8      17112.224403  17814.720141\n",
       "9      16677.397254  16969.869535\n",
       "10     17533.275256  17780.292000\n",
       "11     16455.548043  17033.685354\n",
       "12     18189.669590  18323.191854"
      ]
     },
     "execution_count": 80,
     "metadata": {},
     "output_type": "execute_result"
    }
   ],
   "source": [
    "media_internet = df_final.pivot_table(index= 'month', \n",
    "                                     columns = 'plan', \n",
    "                                     values= 'mb_used', \n",
    "                                     aggfunc='mean')\n",
    "\n",
    "media_internet\n",
    "\n",
    "# Compare a quantidade de tráfego de internet consumido pelos usuários por plano\n",
    "\n"
   ]
  },
  {
   "cell_type": "code",
   "execution_count": 81,
   "metadata": {
    "id": "di6wucOLuj8v"
   },
   "outputs": [
    {
     "data": {
      "image/png": "[encoded data removed]",
      "text/plain": [
       "<Figure size 1200x900 with 1 Axes>"
      ]
     },
     "metadata": {},
     "output_type": "display_data"
    }
   ],
   "source": [
    "color = ['m', 'lightgreen']\n",
    "media_internet.plot(kind='bar', figsize=(12,9), color=color);"
   ]
  },
  {
   "cell_type": "markdown",
   "metadata": {
    "id": "v6QELMtcuj8v"
   },
   "source": [
    "[Formule conclusões sobre como os usuários se comportam em termos de mensagens. O comportamento é diferente dependendo do plano?]\n",
    "[sim, os usuários acabam com o percorrer dos meses aumentando significativamente o uso dos dados, mesmo e contrapartida seu limite de dados.]"
   ]
  },
  {
   "cell_type": "markdown",
   "metadata": {
    "id": "nHUCwAnauj8w"
   },
   "source": [
    "### Internet"
   ]
  },
  {
   "cell_type": "code",
   "execution_count": 82,
   "metadata": {
    "id": "EEm27RaRuj8w"
   },
   "outputs": [
    {
     "data": {
      "text/html": [
       "<div>\n",
       "<style scoped>\n",
       "    .dataframe tbody tr th:only-of-type {\n",
       "        vertical-align: middle;\n",
       "    }\n",
       "\n",
       "    .dataframe tbody tr th {\n",
       "        vertical-align: top;\n",
       "    }\n",
       "\n",
       "    .dataframe thead th {\n",
       "        text-align: right;\n",
       "    }\n",
       "</style>\n",
       "<table border=\"1\" class=\"dataframe\">\n",
       "  <thead>\n",
       "    <tr style=\"text-align: right;\">\n",
       "      <th>plan</th>\n",
       "      <th>surf</th>\n",
       "      <th>ultimate</th>\n",
       "    </tr>\n",
       "    <tr>\n",
       "      <th>month</th>\n",
       "      <th></th>\n",
       "      <th></th>\n",
       "    </tr>\n",
       "  </thead>\n",
       "  <tbody>\n",
       "    <tr>\n",
       "      <th>1</th>\n",
       "      <td>4874.860000</td>\n",
       "      <td>6918.092500</td>\n",
       "    </tr>\n",
       "    <tr>\n",
       "      <th>2</th>\n",
       "      <td>12178.843333</td>\n",
       "      <td>17128.808571</td>\n",
       "    </tr>\n",
       "    <tr>\n",
       "      <th>3</th>\n",
       "      <td>13345.440000</td>\n",
       "      <td>18321.518333</td>\n",
       "    </tr>\n",
       "    <tr>\n",
       "      <th>4</th>\n",
       "      <td>12228.778571</td>\n",
       "      <td>16121.654762</td>\n",
       "    </tr>\n",
       "    <tr>\n",
       "      <th>5</th>\n",
       "      <td>14119.728026</td>\n",
       "      <td>16624.482414</td>\n",
       "    </tr>\n",
       "    <tr>\n",
       "      <th>6</th>\n",
       "      <td>15623.666632</td>\n",
       "      <td>15337.921064</td>\n",
       "    </tr>\n",
       "    <tr>\n",
       "      <th>7</th>\n",
       "      <td>16923.463917</td>\n",
       "      <td>16344.744407</td>\n",
       "    </tr>\n",
       "    <tr>\n",
       "      <th>8</th>\n",
       "      <td>17112.224403</td>\n",
       "      <td>17814.720141</td>\n",
       "    </tr>\n",
       "    <tr>\n",
       "      <th>9</th>\n",
       "      <td>16677.397254</td>\n",
       "      <td>16969.869535</td>\n",
       "    </tr>\n",
       "    <tr>\n",
       "      <th>10</th>\n",
       "      <td>17533.275256</td>\n",
       "      <td>17780.292000</td>\n",
       "    </tr>\n",
       "    <tr>\n",
       "      <th>11</th>\n",
       "      <td>16455.548043</td>\n",
       "      <td>17033.685354</td>\n",
       "    </tr>\n",
       "    <tr>\n",
       "      <th>12</th>\n",
       "      <td>18189.669590</td>\n",
       "      <td>18323.191854</td>\n",
       "    </tr>\n",
       "  </tbody>\n",
       "</table>\n",
       "</div>"
      ],
      "text/plain": [
       "plan           surf      ultimate\n",
       "month                            \n",
       "1       4874.860000   6918.092500\n",
       "2      12178.843333  17128.808571\n",
       "3      13345.440000  18321.518333\n",
       "4      12228.778571  16121.654762\n",
       "5      14119.728026  16624.482414\n",
       "6      15623.666632  15337.921064\n",
       "7      16923.463917  16344.744407\n",
       "8      17112.224403  17814.720141\n",
       "9      16677.397254  16969.869535\n",
       "10     17533.275256  17780.292000\n",
       "11     16455.548043  17033.685354\n",
       "12     18189.669590  18323.191854"
      ]
     },
     "execution_count": 82,
     "metadata": {},
     "output_type": "execute_result"
    }
   ],
   "source": [
    "pivot_internet = df_final.pivot_table(index= 'month', \n",
    "                                     columns = 'plan', \n",
    "                                     values= 'mb_used', \n",
    "                                     aggfunc='mean')\n",
    "\n",
    "pivot_internet"
   ]
  },
  {
   "cell_type": "code",
   "execution_count": 83,
   "metadata": {
    "id": "Detb0wIZuj8w"
   },
   "outputs": [
    {
     "data": {
      "image/png": "[encoded data removed]",
      "text/plain": [
       "<Figure size 1200x900 with 1 Axes>"
      ]
     },
     "metadata": {},
     "output_type": "display_data"
    }
   ],
   "source": [
    "color = ['m', 'lightgreen']\n",
    "pivot_internet.plot(kind='bar', figsize=(12,9), color=color);"
   ]
  },
  {
   "cell_type": "code",
   "execution_count": 84,
   "metadata": {
    "id": "1zsw31_cuj8w"
   },
   "outputs": [
    {
     "data": {
      "image/png": "[encoded data removed]",
      "text/plain": [
       "<Figure size 1000x800 with 1 Axes>"
      ]
     },
     "metadata": {},
     "output_type": "display_data"
    }
   ],
   "source": [
    "plot_data_surf = df_final[(df_final['plan'] == 'surf')]\n",
    "plot_data_ult = df_final[(df_final['plan'] == 'ultimate')]\n",
    "\n",
    "fig, ax = plt.subplots(figsize=(10, 8))\n",
    "plot_data_surf['mb_used'].plot(kind='hist', \n",
    "                                 bins=90, \n",
    "                                 title='Internet', \n",
    "                                 alpha=0.3, \n",
    "                                 ax=ax, \n",
    "                                 color='darkblue')\n",
    "\n",
    "plot_data_ult['mb_used'].plot(kind='hist', \n",
    "                                 bins=90, \n",
    "                                 title='Internet', \n",
    "                                 alpha=0.3, \n",
    "                                 ax=ax, \n",
    "                                 color='darkred')\n",
    "\n",
    "plt.legend(['Surf', 'Ultimate'])\n",
    "plt.xlabel('MB utilizado')\n",
    "plt.ylabel('Frequência')\n",
    "plt.show()"
   ]
  },
  {
   "cell_type": "markdown",
   "metadata": {
    "id": "GsHkFpGmuj8w"
   },
   "source": [
    "[Formule conclusões sobre como os usuários tendem a consumir o tráfego da internet. O comportamento é diferente dependendo do plano?]"
   ]
  },
  {
   "cell_type": "markdown",
   "metadata": {
    "id": "g23qXaYNuj8x"
   },
   "source": [
    "## Receita"
   ]
  },
  {
   "cell_type": "markdown",
   "metadata": {
    "id": "qI9oKXFZuj8y"
   },
   "source": [
    "[Da mesma forma que você estudou o comportamento dos usuários, descreva estatisticamente as receitas dos planos.]"
   ]
  },
  {
   "cell_type": "code",
   "execution_count": 85,
   "metadata": {
    "id": "CGuBwYRyuj8y"
   },
   "outputs": [
    {
     "data": {
      "text/html": [
       "<div>\n",
       "<style scoped>\n",
       "    .dataframe tbody tr th:only-of-type {\n",
       "        vertical-align: middle;\n",
       "    }\n",
       "\n",
       "    .dataframe tbody tr th {\n",
       "        vertical-align: top;\n",
       "    }\n",
       "\n",
       "    .dataframe thead th {\n",
       "        text-align: right;\n",
       "    }\n",
       "</style>\n",
       "<table border=\"1\" class=\"dataframe\">\n",
       "  <thead>\n",
       "    <tr style=\"text-align: right;\">\n",
       "      <th>plan</th>\n",
       "      <th>surf</th>\n",
       "      <th>ultimate</th>\n",
       "    </tr>\n",
       "    <tr>\n",
       "      <th>month</th>\n",
       "      <th></th>\n",
       "      <th></th>\n",
       "    </tr>\n",
       "  </thead>\n",
       "  <tbody>\n",
       "    <tr>\n",
       "      <th>1</th>\n",
       "      <td>20.000000</td>\n",
       "      <td>70.0</td>\n",
       "    </tr>\n",
       "    <tr>\n",
       "      <th>2</th>\n",
       "      <td>34.260000</td>\n",
       "      <td>70.0</td>\n",
       "    </tr>\n",
       "    <tr>\n",
       "      <th>3</th>\n",
       "      <td>45.792609</td>\n",
       "      <td>70.0</td>\n",
       "    </tr>\n",
       "    <tr>\n",
       "      <th>4</th>\n",
       "      <td>40.876122</td>\n",
       "      <td>70.0</td>\n",
       "    </tr>\n",
       "    <tr>\n",
       "      <th>5</th>\n",
       "      <td>47.598158</td>\n",
       "      <td>70.0</td>\n",
       "    </tr>\n",
       "    <tr>\n",
       "      <th>6</th>\n",
       "      <td>49.507053</td>\n",
       "      <td>70.0</td>\n",
       "    </tr>\n",
       "    <tr>\n",
       "      <th>7</th>\n",
       "      <td>62.554167</td>\n",
       "      <td>70.0</td>\n",
       "    </tr>\n",
       "    <tr>\n",
       "      <th>8</th>\n",
       "      <td>64.372704</td>\n",
       "      <td>70.0</td>\n",
       "    </tr>\n",
       "    <tr>\n",
       "      <th>9</th>\n",
       "      <td>58.136528</td>\n",
       "      <td>70.0</td>\n",
       "    </tr>\n",
       "    <tr>\n",
       "      <th>10</th>\n",
       "      <td>65.614957</td>\n",
       "      <td>70.0</td>\n",
       "    </tr>\n",
       "    <tr>\n",
       "      <th>11</th>\n",
       "      <td>57.879110</td>\n",
       "      <td>70.0</td>\n",
       "    </tr>\n",
       "    <tr>\n",
       "      <th>12</th>\n",
       "      <td>70.250820</td>\n",
       "      <td>70.0</td>\n",
       "    </tr>\n",
       "  </tbody>\n",
       "</table>\n",
       "</div>"
      ],
      "text/plain": [
       "plan        surf  ultimate\n",
       "month                     \n",
       "1      20.000000      70.0\n",
       "2      34.260000      70.0\n",
       "3      45.792609      70.0\n",
       "4      40.876122      70.0\n",
       "5      47.598158      70.0\n",
       "6      49.507053      70.0\n",
       "7      62.554167      70.0\n",
       "8      64.372704      70.0\n",
       "9      58.136528      70.0\n",
       "10     65.614957      70.0\n",
       "11     57.879110      70.0\n",
       "12     70.250820      70.0"
      ]
     },
     "execution_count": 85,
     "metadata": {},
     "output_type": "execute_result"
    }
   ],
   "source": [
    "pivot_receita = df_final.pivot_table(index= 'month', \n",
    "                                     columns = 'plan', \n",
    "                                     values= 'total_mes', \n",
    "                                     aggfunc='mean')\n",
    "\n",
    "pivot_receita"
   ]
  },
  {
   "cell_type": "code",
   "execution_count": 86,
   "metadata": {
    "id": "qJSyfvUguj8y"
   },
   "outputs": [
    {
     "data": {
      "image/png": "[encoded data removed]",
      "text/plain": [
       "<Figure size 1000x800 with 1 Axes>"
      ]
     },
     "metadata": {},
     "output_type": "display_data"
    }
   ],
   "source": [
    "color = ['m', 'lightgreen']\n",
    "pivot_receita.plot(kind='bar', figsize=(10,8), color=color);"
   ]
  },
  {
   "cell_type": "code",
   "execution_count": 87,
   "metadata": {
    "id": "KUSxMW71uj8z"
   },
   "outputs": [
    {
     "data": {
      "image/png": "[encoded data removed]",
      "text/plain": [
       "<Figure size 1200x900 with 1 Axes>"
      ]
     },
     "metadata": {},
     "output_type": "display_data"
    },
    {
     "data": {
      "image/png": "[encoded data removed]",
      "text/plain": [
       "<Figure size 1200x900 with 1 Axes>"
      ]
     },
     "metadata": {},
     "output_type": "display_data"
    }
   ],
   "source": [
    "for plan, data in df_final.groupby('plan'):\n",
    "    data.hist('total_mes', grid=True, bins=90, figsize= (12, 9))\n",
    "    plt.ylabel(plan)"
   ]
  },
  {
   "cell_type": "code",
   "execution_count": 88,
   "metadata": {},
   "outputs": [
    {
     "data": {
      "text/html": [
       "<div>\n",
       "<style scoped>\n",
       "    .dataframe tbody tr th:only-of-type {\n",
       "        vertical-align: middle;\n",
       "    }\n",
       "\n",
       "    .dataframe tbody tr th {\n",
       "        vertical-align: top;\n",
       "    }\n",
       "\n",
       "    .dataframe thead th {\n",
       "        text-align: right;\n",
       "    }\n",
       "</style>\n",
       "<table border=\"1\" class=\"dataframe\">\n",
       "  <thead>\n",
       "    <tr style=\"text-align: right;\">\n",
       "      <th></th>\n",
       "      <th>media_renda</th>\n",
       "      <th>variancia_renda</th>\n",
       "    </tr>\n",
       "    <tr>\n",
       "      <th>month</th>\n",
       "      <th></th>\n",
       "      <th></th>\n",
       "    </tr>\n",
       "  </thead>\n",
       "  <tbody>\n",
       "    <tr>\n",
       "      <th>1</th>\n",
       "      <td>53.33</td>\n",
       "      <td>666.67</td>\n",
       "    </tr>\n",
       "    <tr>\n",
       "      <th>2</th>\n",
       "      <td>49.90</td>\n",
       "      <td>564.60</td>\n",
       "    </tr>\n",
       "    <tr>\n",
       "      <th>3</th>\n",
       "      <td>54.09</td>\n",
       "      <td>1111.48</td>\n",
       "    </tr>\n",
       "    <tr>\n",
       "      <th>4</th>\n",
       "      <td>49.61</td>\n",
       "      <td>1024.50</td>\n",
       "    </tr>\n",
       "    <tr>\n",
       "      <th>5</th>\n",
       "      <td>53.79</td>\n",
       "      <td>1519.12</td>\n",
       "    </tr>\n",
       "    <tr>\n",
       "      <th>6</th>\n",
       "      <td>56.29</td>\n",
       "      <td>1429.58</td>\n",
       "    </tr>\n",
       "    <tr>\n",
       "      <th>7</th>\n",
       "      <td>65.01</td>\n",
       "      <td>1973.06</td>\n",
       "    </tr>\n",
       "    <tr>\n",
       "      <th>8</th>\n",
       "      <td>66.11</td>\n",
       "      <td>2494.81</td>\n",
       "    </tr>\n",
       "    <tr>\n",
       "      <th>9</th>\n",
       "      <td>61.79</td>\n",
       "      <td>1589.22</td>\n",
       "    </tr>\n",
       "    <tr>\n",
       "      <th>10</th>\n",
       "      <td>66.97</td>\n",
       "      <td>2206.69</td>\n",
       "    </tr>\n",
       "    <tr>\n",
       "      <th>11</th>\n",
       "      <td>61.65</td>\n",
       "      <td>1747.67</td>\n",
       "    </tr>\n",
       "    <tr>\n",
       "      <th>12</th>\n",
       "      <td>70.17</td>\n",
       "      <td>3111.80</td>\n",
       "    </tr>\n",
       "  </tbody>\n",
       "</table>\n",
       "</div>"
      ],
      "text/plain": [
       "       media_renda  variancia_renda\n",
       "month                              \n",
       "1            53.33           666.67\n",
       "2            49.90           564.60\n",
       "3            54.09          1111.48\n",
       "4            49.61          1024.50\n",
       "5            53.79          1519.12\n",
       "6            56.29          1429.58\n",
       "7            65.01          1973.06\n",
       "8            66.11          2494.81\n",
       "9            61.79          1589.22\n",
       "10           66.97          2206.69\n",
       "11           61.65          1747.67\n",
       "12           70.17          3111.80"
      ]
     },
     "execution_count": 88,
     "metadata": {},
     "output_type": "execute_result"
    }
   ],
   "source": [
    "df_final.groupby('month').agg(media_renda = ('total_mes','mean'), variancia_renda = ('total_mes','var')).round(2)"
   ]
  },
  {
   "cell_type": "markdown",
   "metadata": {
    "id": "6X34EwHpuj8z"
   },
   "source": [
    "[Formule conclusões sobre como a receita difere entre os planos.]\n",
    "[eu não consegui sobrepor os graficos de maneira correta]"
   ]
  },
  {
   "cell_type": "markdown",
   "metadata": {
    "id": "xJ6Mu-KAuj8z"
   },
   "source": [
    "## Teste hipóteses estatísticas"
   ]
  },
  {
   "cell_type": "markdown",
   "metadata": {
    "id": "lop_0j4Duj8z"
   },
   "source": [
    "[Teste a hipótese de que as receitas médias dos usuários dos planos de chamadas Ultimate e Surf são diferentes.]"
   ]
  },
  {
   "cell_type": "markdown",
   "metadata": {
    "id": "-X2l1R8Luj80"
   },
   "source": [
    "[Formule as hipóteses nula e alternativa, escolha o teste estatístico, escolha o valor alfa.]"
   ]
  },
  {
   "cell_type": "code",
   "execution_count": 89,
   "metadata": {
    "id": "LyGrPhpUuj80"
   },
   "outputs": [
    {
     "name": "stdout",
     "output_type": "stream",
     "text": [
      "Estatística do teste de Levene: 476.62441506377974\n",
      "p-valor do teste de Levene: 4.3339414886805e-96\n",
      "As médias são significativamente diferentes.\n"
     ]
    }
   ],
   "source": [
    "amostra_1 = df_final.query('plan == \"surf\"')['total_mes']\n",
    "amostra_2 = df_final.query('plan == \"ultimate\"')['total_mes']\n",
    "\n",
    "alpha = 0.05\n",
    "\n",
    "\n",
    "statistic, p_value = st.levene(amostra_1, amostra_2)\n",
    "\n",
    "print(\"Estatística do teste de Levene:\", statistic)\n",
    "print(\"p-valor do teste de Levene:\", p_value)\n",
    "\n",
    "if p_value < alpha:\n",
    "    print(\"As médias são significativamente diferentes.\")\n",
    "else:\n",
    "    print(\"Não há evidência significativa de diferença nas médias.\")\n",
    "\n",
    "# Teste as hipóteses\n",
    "\n"
   ]
  },
  {
   "cell_type": "code",
   "execution_count": 90,
   "metadata": {},
   "outputs": [],
   "source": [
    "#HIPÓTESE 1\n",
    "\n",
    "#Realizamos um teste de hipótese com um nível de significância de 5% para avaliar se a receita média dos usuários dos planos Ultimate e Surf é diferente. Com base nos resultados do teste, encontramos evidências estatísticas para concluir que há diferença na receita média entre os dois grupos. Além disso, também aplicamos o teste de Levene para verificar a igualdade das variâncias das amostras e encontramos evidências significativas de que as variâncias são diferentes.\n",
    "\n",
    "#HIPÓTESE 2\n",
    "\n",
    "#A segunda hipótese levantada foi que a receita média dos usuários da região NY-NJ é diferente da receita média dos usuários das outras regiões. Utilizamos o teste t e o teste de Levene para avaliar essa hipótese. Com base nos resultados desses testes, encontramos evidências estatísticas para concluir que a receita média dos usuários da região NY-NJ"
   ]
  },
  {
   "cell_type": "markdown",
   "metadata": {},
   "source": [
    "<s>\n",
    "    <div class=\"alert alert-block alert-danger\">\n",
    "<b> Comentário do revisor: </b> <a class=\"tocSkip\"></a>\n",
    "\n",
    "Precisamos melhorar a seção de teste de  hipótese:\n",
    "Para isso você precisa seguir esses passos:\n",
    "- Definir a hipótese nula (ex: a altura média é igual entre homem e mulheres)\n",
    "- Definir a hipótese alternativa (ex: a altura média não é igual entre homem e mulheres)\n",
    "- Avaliar se as variâncias são iguais, por exemplo, calculando a variãncia da amostra e verificando a igualdade\n",
    "- Em seguida, ajustar equal_var=True no teste T se as variâncias forem iguais, senão usamos equal_var=False no teste T.\n",
    "- Avaliar o resultado do teste T\n",
    "\n",
    "Obs: conclusão está falando de variãncias. O teste é sobre as médias\n",
    "</div>"
   ]
  },
  {
   "cell_type": "markdown",
   "metadata": {},
   "source": [
    "<div class=\"alert alert-block alert-danger\">\n",
    "<b> Comentário do revisor: </b> <a class=\"tocSkip\"></a>\n",
    "Você fez apenas o teste de Levene. Precisa fazer o teste T para as médias.\n",
    "</div>"
   ]
  },
  {
   "cell_type": "markdown",
   "metadata": {
    "id": "Cz6rwE56uj80"
   },
   "source": [
    "[Teste a hipótese de que a receita média dos usuários da área de NY-NJ difere dos usuários das demais regiões.]"
   ]
  },
  {
   "cell_type": "markdown",
   "metadata": {
    "id": "kMHim5__uj80"
   },
   "source": [
    "[Formule as hipóteses nula e alternativa, escolha o teste estatístico, escolha o valor alfa.]"
   ]
  },
  {
   "cell_type": "code",
   "execution_count": 91,
   "metadata": {
    "id": "98t8iiJyuj80"
   },
   "outputs": [
    {
     "name": "stdout",
     "output_type": "stream",
     "text": [
      "Estatística do teste de Levene: 2.355065740985022\n",
      "p-valor do teste de Levene: 0.1250156707200498\n",
      "Não há evidência significativa de diferença nas médias.\n"
     ]
    }
   ],
   "source": [
    "alpha = 0.05\n",
    "\n",
    "amostra_1 = df_final[df_final['city'].str.contains('NY-NJ')]['total_mes']\n",
    "amostra_2 = df_final.query('city != \"New York-Newark-Jersey City, NY-NJ-PA MSA\"')['total_mes']\n",
    "\n",
    "\n",
    "\n",
    "statistic, p_value = st.levene(amostra_1, amostra_2)\n",
    "\n",
    "print(\"Estatística do teste de Levene:\", statistic)\n",
    "print(\"p-valor do teste de Levene:\", p_value)\n",
    "\n",
    "if p_value < alpha:\n",
    "    print(\"As médias são significativamente diferentes.\")\n",
    "else:\n",
    "    print(\"Não há evidência significativa de diferença nas médias.\")\n",
    "\n",
    "\n",
    "\n",
    "# Teste as hipóteses\n",
    "\n"
   ]
  },
  {
   "cell_type": "markdown",
   "metadata": {},
   "source": [
    "<div class=\"alert alert-block alert-danger\">\n",
    "<b> Comentário do revisor: </b> <a class=\"tocSkip\"></a>\n",
    "A difereça do teste Levene é sobre as variâncias. Pelo teste, as variâncias são iguais logo usamos equal_var=True\n",
    "</div>"
   ]
  },
  {
   "cell_type": "code",
   "execution_count": 92,
   "metadata": {},
   "outputs": [
    {
     "name": "stdout",
     "output_type": "stream",
     "text": [
      "Estatística do teste T: Ttest_indResult(statistic=-2.2663699615317325, pvalue=0.023522288894271458)\n",
      "p-valor do teste T: 0.1250156707200498\n",
      "Não há diferença estatisticamente significativa entre as amostras.\n"
     ]
    }
   ],
   "source": [
    "alpha = 0.05\n",
    "\n",
    "amostra_1 = df_final[df_final['city'].str.contains('NY-NJ')]['total_mes']\n",
    "amostra_2 = df_final.query('city != \"New York-Newark-Jersey City, NY-NJ-PA MSA\"')['total_mes']\n",
    "\n",
    "\n",
    "\n",
    "resultado = st.ttest_ind(amostra_1, amostra_2, equal_var=True)\n",
    "valor_p = resultado.pvalue\n",
    "\n",
    "print(\"Estatística do teste T:\", resultado)\n",
    "print(\"p-valor do teste T:\", p_value)\n",
    "\n",
    "if p_value < alpha:\n",
    "    print(\"Há diferença estatisticamente significativa entre as amostras.\")\n",
    "else:\n",
    "    print(\"Não há diferença estatisticamente significativa entre as amostras.\")\n",
    "\n"
   ]
  },
  {
   "cell_type": "code",
   "execution_count": 94,
   "metadata": {},
   "outputs": [
    {
     "name": "stdout",
     "output_type": "stream",
     "text": [
      "Estatística do teste T: -4.49957030818004\n",
      "p-valor do teste T: 7.151987004147317e-06\n",
      "Há diferença estatisticamente significativa entre as amostras.\n"
     ]
    },
    {
     "name": "stderr",
     "output_type": "stream",
     "text": [
      "/tmp/ipykernel_32/24394173.py:7: RuntimeWarning: Precision loss occurred in moment calculation due to catastrophic cancellation. This occurs when the data are nearly identical. Results may be unreliable.\n",
      "  statistic, p_value = st.ttest_ind(amostra_1, amostra_2, equal_var=True)\n"
     ]
    }
   ],
   "source": [
    "amostra_1 = df_final.query('plan == \"surf\"')['total_mes']\n",
    "amostra_2 = df_final.query('plan == \"ultimate\"')['total_mes']\n",
    "\n",
    "alpha = 0.05\n",
    "\n",
    "\n",
    "statistic, p_value = st.ttest_ind(amostra_1, amostra_2, equal_var=True)\n",
    "\n",
    "print(\"Estatística do teste T:\", statistic)\n",
    "print(\"p-valor do teste T:\", p_value)\n",
    "\n",
    "if p_value < alpha:\n",
    "    print(\"Há diferença estatisticamente significativa entre as amostras.\")\n",
    "else:\n",
    "    print(\"Não há diferença estatisticamente significativa entre as amostras.\")\n",
    "\n",
    "# Teste as hipóteses\n",
    "\n"
   ]
  },
  {
   "cell_type": "code",
   "execution_count": 96,
   "metadata": {},
   "outputs": [],
   "source": [
    "# Arredondar os valores das amostras\n",
    "amostra_1_arredondada = np.round(amostra_1)\n",
    "amostra_2_arredondada = np.round(amostra_2)"
   ]
  },
  {
   "cell_type": "code",
   "execution_count": 97,
   "metadata": {},
   "outputs": [
    {
     "name": "stdout",
     "output_type": "stream",
     "text": [
      "Estatística do teste T: -4.49957030818004\n",
      "p-valor do teste T: 7.151987004147317e-06\n",
      "Há diferença estatisticamente significativa entre as amostras.\n"
     ]
    },
    {
     "name": "stderr",
     "output_type": "stream",
     "text": [
      "/tmp/ipykernel_32/645444863.py:7: RuntimeWarning: Precision loss occurred in moment calculation due to catastrophic cancellation. This occurs when the data are nearly identical. Results may be unreliable.\n",
      "  statistic, p_value = st.ttest_ind(amostra_1, amostra_2, equal_var=True)\n"
     ]
    }
   ],
   "source": [
    "amostra_1 = df_final.query('plan == \"surf\"')['total_mes']\n",
    "amostra_2 = df_final.query('plan == \"ultimate\"')['total_mes']\n",
    "\n",
    "alpha = 0.05\n",
    "\n",
    "\n",
    "statistic, p_value = st.ttest_ind(amostra_1, amostra_2, equal_var=True)\n",
    "\n",
    "print(\"Estatística do teste T:\", statistic)\n",
    "print(\"p-valor do teste T:\", p_value)\n",
    "\n",
    "if p_value < alpha:\n",
    "    print(\"Há diferença estatisticamente significativa entre as amostras.\")\n",
    "else:\n",
    "    print(\"Não há diferença estatisticamente significativa entre as amostras.\")\n"
   ]
  },
  {
   "cell_type": "code",
   "execution_count": 98,
   "metadata": {},
   "outputs": [],
   "source": [
    "#Mesmo que as amostras seam diferentes, suas variações ainda apresentam a falha de perda de precisão devido a baixa variação entre ambas, mesmo que ligeiramente mantenham-se diferentes."
   ]
  },
  {
   "cell_type": "markdown",
   "metadata": {},
   "source": [
    "<s>\n",
    "    <div class=\"alert alert-block alert-danger\">\n",
    "<b> Comentário do revisor: </b> <a class=\"tocSkip\"></a>\n",
    "\n",
    "Precisamos melhorar a seção de teste de  hipótese:\n",
    "Para isso você precisa seguir esses passos:\n",
    "- Definir a hipótese nula (ex: a altura média é igual entre homem e mulheres)\n",
    "- Definir a hipótese alternativa (ex: a altura média não é igual entre homem e mulheres)\n",
    "- Avaliar se as variâncias são iguais, por exemplo, calculando a variãncia da amostra e verificando a igualdade\n",
    "- Em seguida, ajustar equal_var=True no teste T se as variâncias forem iguais, senão usamos equal_var=False no teste T.\n",
    "- Avaliar o resultado do teste T\n",
    "\n",
    "Obs: conclusão está falando de variãncias. O teste é sobre as médias\n",
    "</div>"
   ]
  },
  {
   "cell_type": "code",
   "execution_count": null,
   "metadata": {},
   "outputs": [],
   "source": [
    " #[oi Ramon, eu espero ter conseguido desta ]"
   ]
  },
  {
   "cell_type": "markdown",
   "metadata": {
    "id": "M8WycwWFuj81"
   },
   "source": [
    "## Conclusão geral\n",
    "\n",
    "[Liste suas conclusões importantes nessa seção final, certifique-se de que elas cobrem todas as decisões (suposições) importantes que você tomou e que levaram à maneira como você processou e analisou os dados.]"
   ]
  },
  {
   "cell_type": "code",
   "execution_count": null,
   "metadata": {},
   "outputs": [],
   "source": [
    "#Após realizar uma análise inicial dos dados e dos dataframes disponíveis, foram feitas correções nos tipos de dados para garantir a precisão das informações. Em seguida, foi necessário refinar os dados, adicionando novas variáveis que facilitassem as análises, como os excedentes de consumo e o mês vinculado a cada receita dos clientes. Essas alterações resultaram na criação de um dataframe consolidado para o estudo.Com os dados refinados, prosseguimos para a análise dos dados.\n",
    "\n",
    "#Foram descritos o comportamento e o consumo dos clientes, e a partir dessas informações, foram sugeridas políticas de negócios e ações para melhorar a fidelização e a experiência dos usuários, atendendo às suas necessidades individuais. A análise dos dados também incluiu a visualização de gráficos de histogramas e dispersão, que apresentaram a receita, o consumo e os excedentes dos clientes, bem como a receita por faixa etária e cidade de residência dos usuários. \n",
    "#Foram calculadas medidas estatísticas como desvio padrão, variância, média e mediana para todo o dataframe.Com base no comportamento dos usuários em cada plano, observamos que o uso da internet é semelhante em ambos os planos, mas as principais diferenças estão no número de mensagens enviadas e no total de minutos utilizados nas chamadas. Os usuários do plano Ultimate apresentam uma atividade maior nessas categorias em comparação com os usuários do plano Surf.\n",
    "\n",
    "#Para testar as hipóteses levantadas, realizamos testes de hipótese com um nível de significância de 5%. O primeiro teste confirmou que a receita média dos usuários dos planos Ultimate e Surf é diferente. Também aplicamos o teste de Levene, que indicou que as variâncias das amostras eram significativamente diferentes. O segundo teste confirmou a hipótese de que a receita média dos usuários da área de NY-NJ difere dos usuários das demais regiões.\n",
    "\n",
    "#Com base nas análises realizadas, concluímos que a melhor estratégia para resolver o problema inicialmente proposto, de direcionar esforços publicitários para um plano específico, é aumentar a publicidade do plano Surf. Apesar de gerar receitas semelhantes ao plano Ultimate, os usuários do plano Surf tendem a ultrapassar mais frequentemente os limites do seu plano, resultando em receitas excedentes para a empresa.]"
   ]
  },
  {
   "cell_type": "code",
   "execution_count": null,
   "metadata": {},
   "outputs": [],
   "source": []
  },
  {
   "cell_type": "code",
   "execution_count": null,
   "metadata": {},
   "outputs": [],
   "source": []
  }
 ],
 "metadata": {
  "ExecuteTimeLog": [
   {
    "duration": 828,
    "start_time": "2021-11-16T09:21:11.304Z"
   },
   {
    "duration": 893,
    "start_time": "2021-11-16T09:21:17.728Z"
   },
   {
    "duration": 1150,
    "start_time": "2021-11-16T09:21:29.568Z"
   },
   {
    "duration": 3,
    "start_time": "2021-11-16T09:24:14.495Z"
   },
   {
    "duration": 120,
    "start_time": "2021-11-16T09:24:46.630Z"
   },
   {
    "duration": 3,
    "start_time": "2021-11-16T09:28:27.882Z"
   },
   {
    "duration": 4,
    "start_time": "2021-11-16T09:29:54.281Z"
   },
   {
    "duration": 3,
    "start_time": "2021-11-16T09:30:45.936Z"
   },
   {
    "duration": 4,
    "start_time": "2021-11-16T09:31:06.300Z"
   },
   {
    "duration": 113,
    "start_time": "2021-11-16T09:31:37.208Z"
   },
   {
    "duration": 143,
    "start_time": "2021-11-16T09:31:48.656Z"
   },
   {
    "duration": 98,
    "start_time": "2021-11-16T09:31:55.678Z"
   },
   {
    "duration": 3,
    "start_time": "2021-11-16T09:32:08.535Z"
   },
   {
    "duration": 111,
    "start_time": "2021-11-16T09:32:10.120Z"
   },
   {
    "duration": 3,
    "start_time": "2021-11-16T09:32:15.732Z"
   },
   {
    "duration": 4,
    "start_time": "2021-11-16T09:32:29.423Z"
   },
   {
    "duration": 3,
    "start_time": "2021-11-16T10:03:03.074Z"
   },
   {
    "duration": 3,
    "start_time": "2021-11-16T10:10:01.288Z"
   },
   {
    "duration": 3,
    "start_time": "2021-11-16T10:10:46.923Z"
   },
   {
    "duration": 121,
    "start_time": "2021-11-16T10:37:46.494Z"
   },
   {
    "duration": 125,
    "start_time": "2021-11-16T10:38:20.632Z"
   },
   {
    "duration": 112,
    "start_time": "2021-11-16T10:46:53.001Z"
   },
   {
    "duration": 110,
    "start_time": "2021-11-16T10:48:25.775Z"
   },
   {
    "duration": 3,
    "start_time": "2021-11-16T10:50:18.720Z"
   },
   {
    "duration": 4,
    "start_time": "2021-11-16T10:50:37.649Z"
   },
   {
    "duration": 2,
    "start_time": "2021-11-16T10:50:51.884Z"
   },
   {
    "duration": 3,
    "start_time": "2021-11-16T10:51:56.237Z"
   },
   {
    "duration": 101,
    "start_time": "2021-11-16T10:53:13.791Z"
   },
   {
    "duration": 3,
    "start_time": "2021-11-16T10:55:59.186Z"
   },
   {
    "duration": 3,
    "start_time": "2021-11-16T10:56:10.751Z"
   },
   {
    "duration": 3,
    "start_time": "2021-11-16T10:56:49.038Z"
   },
   {
    "duration": 3,
    "start_time": "2021-11-16T10:56:49.174Z"
   },
   {
    "duration": 4,
    "start_time": "2021-11-16T10:56:49.414Z"
   },
   {
    "duration": 3,
    "start_time": "2021-11-16T10:56:49.680Z"
   },
   {
    "duration": 3,
    "start_time": "2021-11-16T10:56:50.370Z"
   },
   {
    "duration": 114,
    "start_time": "2021-11-16T10:59:34.518Z"
   },
   {
    "duration": 3,
    "start_time": "2021-11-16T11:01:41.201Z"
   },
   {
    "duration": 116,
    "start_time": "2021-11-16T11:01:48.754Z"
   },
   {
    "duration": 3,
    "start_time": "2021-11-16T11:02:16.685Z"
   },
   {
    "duration": 3,
    "start_time": "2021-11-16T11:02:19.479Z"
   },
   {
    "duration": 3,
    "start_time": "2021-11-16T11:02:47.067Z"
   },
   {
    "duration": 3,
    "start_time": "2021-11-16T11:02:49.353Z"
   },
   {
    "duration": 3,
    "start_time": "2021-11-16T11:03:07.835Z"
   },
   {
    "duration": 3,
    "start_time": "2021-11-16T11:03:07.953Z"
   },
   {
    "duration": 112,
    "start_time": "2021-11-16T11:07:52.072Z"
   },
   {
    "duration": 187,
    "start_time": "2021-11-16T11:09:23.468Z"
   },
   {
    "duration": 4,
    "start_time": "2021-11-16T11:10:01.455Z"
   },
   {
    "duration": 3,
    "start_time": "2021-11-16T11:10:05.069Z"
   },
   {
    "duration": 4,
    "start_time": "2021-11-16T11:10:13.376Z"
   },
   {
    "duration": 3,
    "start_time": "2021-11-16T11:10:14.434Z"
   },
   {
    "duration": 3,
    "start_time": "2021-11-16T11:10:22.853Z"
   },
   {
    "duration": 4,
    "start_time": "2021-11-16T11:27:29.279Z"
   },
   {
    "duration": 4,
    "start_time": "2021-11-16T11:29:08.919Z"
   },
   {
    "duration": 118,
    "start_time": "2021-11-16T11:29:46.703Z"
   },
   {
    "duration": 437,
    "start_time": "2021-11-16T11:36:02.181Z"
   },
   {
    "duration": 157,
    "start_time": "2021-11-16T11:36:14.388Z"
   },
   {
    "duration": 207,
    "start_time": "2021-11-16T11:47:15.898Z"
   },
   {
    "duration": 3,
    "start_time": "2021-11-16T11:53:52.092Z"
   },
   {
    "duration": 3,
    "start_time": "2021-11-16T11:53:52.236Z"
   },
   {
    "duration": 3,
    "start_time": "2021-11-16T11:59:12.005Z"
   },
   {
    "duration": 112,
    "start_time": "2021-11-16T12:00:33.446Z"
   },
   {
    "duration": 3,
    "start_time": "2021-11-16T12:02:14.453Z"
   },
   {
    "duration": 3,
    "start_time": "2021-11-16T12:02:39.512Z"
   },
   {
    "duration": 106,
    "start_time": "2021-11-16T12:03:03.460Z"
   },
   {
    "duration": 3,
    "start_time": "2021-11-17T20:37:21.139Z"
   },
   {
    "duration": 3,
    "start_time": "2021-11-17T20:37:22.229Z"
   },
   {
    "duration": 3,
    "start_time": "2021-11-17T20:38:38.806Z"
   },
   {
    "duration": 3,
    "start_time": "2021-11-17T20:38:41.958Z"
   },
   {
    "duration": 3,
    "start_time": "2021-11-17T20:43:46.551Z"
   },
   {
    "duration": 4,
    "start_time": "2021-11-17T20:58:21.835Z"
   },
   {
    "duration": 3,
    "start_time": "2021-11-17T20:59:21.872Z"
   },
   {
    "duration": 4,
    "start_time": "2021-11-17T20:59:45.352Z"
   },
   {
    "duration": 4,
    "start_time": "2021-11-17T20:59:49.646Z"
   },
   {
    "duration": 159,
    "start_time": "2021-11-17T21:02:26.949Z"
   },
   {
    "duration": 3,
    "start_time": "2021-11-17T21:03:53.461Z"
   },
   {
    "duration": 3,
    "start_time": "2021-11-17T21:03:53.694Z"
   },
   {
    "duration": 3,
    "start_time": "2021-11-17T21:05:28.145Z"
   },
   {
    "duration": 116,
    "start_time": "2021-11-17T21:05:57.787Z"
   },
   {
    "duration": 3,
    "start_time": "2021-11-17T21:06:37.993Z"
   },
   {
    "duration": 3,
    "start_time": "2021-11-17T21:06:38.261Z"
   },
   {
    "duration": 3,
    "start_time": "2021-11-17T21:11:54.358Z"
   },
   {
    "duration": 3,
    "start_time": "2021-11-17T21:12:43.846Z"
   },
   {
    "duration": 4,
    "start_time": "2021-11-17T21:13:08.773Z"
   },
   {
    "duration": 3,
    "start_time": "2021-11-17T21:14:44.441Z"
   },
   {
    "duration": 3,
    "start_time": "2021-11-17T21:15:42.059Z"
   },
   {
    "duration": 4,
    "start_time": "2021-11-17T21:15:51.995Z"
   },
   {
    "duration": 3,
    "start_time": "2021-11-17T21:15:53.923Z"
   },
   {
    "duration": 3,
    "start_time": "2021-11-17T21:15:55.282Z"
   },
   {
    "duration": 3,
    "start_time": "2021-11-17T21:16:28.492Z"
   },
   {
    "duration": 3,
    "start_time": "2021-11-17T21:16:32.603Z"
   },
   {
    "duration": 3,
    "start_time": "2021-11-17T21:17:06.941Z"
   },
   {
    "duration": 98,
    "start_time": "2021-11-17T21:18:05.733Z"
   },
   {
    "duration": 4,
    "start_time": "2021-11-17T21:21:35.255Z"
   },
   {
    "duration": 3,
    "start_time": "2021-11-17T21:21:37.804Z"
   },
   {
    "duration": 4,
    "start_time": "2021-11-17T21:23:06.071Z"
   },
   {
    "duration": 3,
    "start_time": "2021-11-17T21:23:24.799Z"
   },
   {
    "duration": 3,
    "start_time": "2021-11-17T21:23:32.591Z"
   },
   {
    "duration": 98,
    "start_time": "2021-11-17T21:28:31.559Z"
   },
   {
    "duration": 3,
    "start_time": "2021-11-17T21:28:45.448Z"
   },
   {
    "duration": 3,
    "start_time": "2021-11-17T21:29:17.303Z"
   },
   {
    "duration": 3,
    "start_time": "2021-11-17T21:29:29.617Z"
   },
   {
    "duration": 3,
    "start_time": "2021-11-17T21:29:32.681Z"
   },
   {
    "duration": 3,
    "start_time": "2021-11-17T21:36:11.474Z"
   },
   {
    "duration": 3,
    "start_time": "2021-11-17T21:36:14.791Z"
   },
   {
    "duration": 3,
    "start_time": "2021-11-17T21:36:53.943Z"
   },
   {
    "duration": 3,
    "start_time": "2021-11-17T21:36:56.165Z"
   },
   {
    "duration": 4,
    "start_time": "2021-11-17T21:37:16.590Z"
   },
   {
    "duration": 3,
    "start_time": "2021-11-17T21:37:22.702Z"
   },
   {
    "duration": 4,
    "start_time": "2021-11-17T21:38:03.479Z"
   },
   {
    "duration": 3,
    "start_time": "2021-11-17T21:38:08.601Z"
   },
   {
    "duration": 3,
    "start_time": "2021-11-17T21:38:12.928Z"
   },
   {
    "duration": 3,
    "start_time": "2021-11-17T21:38:48.896Z"
   },
   {
    "duration": 2,
    "start_time": "2021-11-17T21:38:49.171Z"
   },
   {
    "duration": 4,
    "start_time": "2021-11-17T21:39:57.889Z"
   },
   {
    "duration": 3,
    "start_time": "2021-11-17T21:39:58.057Z"
   },
   {
    "duration": 3,
    "start_time": "2021-11-17T21:41:20.108Z"
   },
   {
    "duration": 3,
    "start_time": "2021-11-17T21:41:20.629Z"
   },
   {
    "duration": 3,
    "start_time": "2021-11-17T21:42:49.136Z"
   },
   {
    "duration": 3,
    "start_time": "2021-11-17T21:43:15.137Z"
   },
   {
    "duration": 4,
    "start_time": "2021-11-17T21:43:16.766Z"
   },
   {
    "duration": 4,
    "start_time": "2021-11-17T21:43:31.711Z"
   },
   {
    "duration": 3,
    "start_time": "2021-11-17T21:43:36.312Z"
   },
   {
    "duration": 4,
    "start_time": "2021-11-17T21:45:08.825Z"
   },
   {
    "duration": 4,
    "start_time": "2021-11-17T21:45:10.119Z"
   },
   {
    "duration": 4,
    "start_time": "2021-11-17T21:45:13.748Z"
   },
   {
    "duration": 3,
    "start_time": "2021-11-17T21:45:22.219Z"
   },
   {
    "duration": 3,
    "start_time": "2021-11-17T21:45:33.412Z"
   },
   {
    "duration": 2,
    "start_time": "2021-11-17T21:46:01.885Z"
   },
   {
    "duration": 3,
    "start_time": "2021-11-17T21:46:03.628Z"
   },
   {
    "duration": 107,
    "start_time": "2021-11-17T21:47:32.512Z"
   },
   {
    "duration": 103,
    "start_time": "2021-11-17T21:50:36.243Z"
   },
   {
    "duration": 3,
    "start_time": "2021-11-18T06:28:31.440Z"
   },
   {
    "duration": 3,
    "start_time": "2021-11-18T06:29:00.168Z"
   },
   {
    "duration": 3,
    "start_time": "2021-11-18T06:31:27.008Z"
   },
   {
    "duration": 2,
    "start_time": "2021-11-18T06:35:34.288Z"
   },
   {
    "duration": 2,
    "start_time": "2021-11-18T06:38:04.527Z"
   },
   {
    "duration": 948,
    "start_time": "2024-05-16T09:10:56.104Z"
   },
   {
    "duration": 370,
    "start_time": "2024-05-16T09:10:58.078Z"
   },
   {
    "duration": 20,
    "start_time": "2024-05-16T09:11:01.818Z"
   },
   {
    "duration": 14,
    "start_time": "2024-05-16T09:11:02.894Z"
   },
   {
    "duration": 15,
    "start_time": "2024-05-16T09:11:08.930Z"
   },
   {
    "duration": 13,
    "start_time": "2024-05-16T09:11:36.467Z"
   },
   {
    "duration": 17,
    "start_time": "2024-05-16T09:12:16.807Z"
   },
   {
    "duration": 25,
    "start_time": "2024-05-16T09:13:00.081Z"
   },
   {
    "duration": 11,
    "start_time": "2024-05-16T09:13:23.055Z"
   },
   {
    "duration": 20,
    "start_time": "2024-05-16T09:14:00.840Z"
   },
   {
    "duration": 11,
    "start_time": "2024-05-16T09:14:21.406Z"
   },
   {
    "duration": 22,
    "start_time": "2024-05-16T09:14:52.348Z"
   },
   {
    "duration": 11,
    "start_time": "2024-05-16T09:15:29.033Z"
   },
   {
    "duration": 24,
    "start_time": "2024-05-16T09:18:33.644Z"
   },
   {
    "duration": 32,
    "start_time": "2024-05-16T09:26:10.144Z"
   },
   {
    "duration": 20,
    "start_time": "2024-05-16T09:26:38.155Z"
   },
   {
    "duration": 12,
    "start_time": "2024-05-16T09:27:16.358Z"
   },
   {
    "duration": 924,
    "start_time": "2024-05-16T21:28:45.013Z"
   },
   {
    "duration": 390,
    "start_time": "2024-05-16T21:28:46.066Z"
   },
   {
    "duration": 21,
    "start_time": "2024-05-16T21:28:49.239Z"
   },
   {
    "duration": 14,
    "start_time": "2024-05-16T21:28:50.061Z"
   },
   {
    "duration": 14,
    "start_time": "2024-05-16T21:28:55.838Z"
   },
   {
    "duration": 17,
    "start_time": "2024-05-16T21:28:56.933Z"
   },
   {
    "duration": 25,
    "start_time": "2024-05-16T21:29:01.579Z"
   },
   {
    "duration": 14,
    "start_time": "2024-05-16T21:29:02.155Z"
   },
   {
    "duration": 30,
    "start_time": "2024-05-16T21:29:03.216Z"
   },
   {
    "duration": 20,
    "start_time": "2024-05-16T21:29:03.425Z"
   },
   {
    "duration": 11,
    "start_time": "2024-05-16T21:29:03.551Z"
   },
   {
    "duration": 21,
    "start_time": "2024-05-16T21:29:04.449Z"
   },
   {
    "duration": 11,
    "start_time": "2024-05-16T21:29:04.628Z"
   },
   {
    "duration": 24,
    "start_time": "2024-05-16T21:29:06.758Z"
   },
   {
    "duration": 11,
    "start_time": "2024-05-16T21:29:07.021Z"
   },
   {
    "duration": 3,
    "start_time": "2024-05-16T21:29:09.882Z"
   },
   {
    "duration": 3,
    "start_time": "2024-05-16T21:29:10.370Z"
   },
   {
    "duration": 3,
    "start_time": "2024-05-16T21:29:10.588Z"
   },
   {
    "duration": 3,
    "start_time": "2024-05-16T21:29:12.105Z"
   },
   {
    "duration": 3,
    "start_time": "2024-05-16T21:29:12.302Z"
   },
   {
    "duration": 3,
    "start_time": "2024-05-16T21:29:13.312Z"
   },
   {
    "duration": 3,
    "start_time": "2024-05-16T21:29:13.481Z"
   },
   {
    "duration": 4,
    "start_time": "2024-05-16T21:29:13.800Z"
   },
   {
    "duration": 3,
    "start_time": "2024-05-16T21:29:14.530Z"
   },
   {
    "duration": 3,
    "start_time": "2024-05-16T21:29:14.796Z"
   },
   {
    "duration": 3,
    "start_time": "2024-05-16T21:29:15.218Z"
   },
   {
    "duration": 3,
    "start_time": "2024-05-16T21:29:15.412Z"
   },
   {
    "duration": 7,
    "start_time": "2024-05-16T21:29:16.060Z"
   },
   {
    "duration": 3,
    "start_time": "2024-05-16T21:29:16.296Z"
   },
   {
    "duration": 3,
    "start_time": "2024-05-16T21:29:19.421Z"
   },
   {
    "duration": 7,
    "start_time": "2024-05-16T21:29:20.112Z"
   },
   {
    "duration": 15,
    "start_time": "2024-05-16T21:31:48.391Z"
   },
   {
    "duration": 5,
    "start_time": "2024-05-16T21:46:38.747Z"
   },
   {
    "duration": 289,
    "start_time": "2024-05-16T21:46:39.705Z"
   },
   {
    "duration": 9,
    "start_time": "2024-05-16T21:48:21.556Z"
   },
   {
    "duration": 420,
    "start_time": "2024-05-16T21:49:47.580Z"
   },
   {
    "duration": 24,
    "start_time": "2024-05-16T21:50:10.987Z"
   },
   {
    "duration": 28,
    "start_time": "2024-05-16T21:56:14.233Z"
   },
   {
    "duration": 152,
    "start_time": "2024-05-16T21:58:29.878Z"
   },
   {
    "duration": 20,
    "start_time": "2024-05-16T22:05:45.202Z"
   },
   {
    "duration": 30,
    "start_time": "2024-05-16T22:08:21.348Z"
   },
   {
    "duration": 4,
    "start_time": "2024-05-16T22:08:41.952Z"
   },
   {
    "duration": 280,
    "start_time": "2024-05-16T22:08:41.963Z"
   },
   {
    "duration": 12,
    "start_time": "2024-05-16T22:08:42.246Z"
   },
   {
    "duration": 14,
    "start_time": "2024-05-16T22:08:42.262Z"
   },
   {
    "duration": 35,
    "start_time": "2024-05-16T22:08:42.280Z"
   },
   {
    "duration": 17,
    "start_time": "2024-05-16T22:08:42.319Z"
   },
   {
    "duration": 18,
    "start_time": "2024-05-16T22:08:42.339Z"
   },
   {
    "duration": 63,
    "start_time": "2024-05-16T22:08:42.361Z"
   },
   {
    "duration": 14,
    "start_time": "2024-05-16T22:08:42.427Z"
   },
   {
    "duration": 919,
    "start_time": "2024-05-17T16:58:47.868Z"
   },
   {
    "duration": 388,
    "start_time": "2024-05-17T16:58:49.645Z"
   },
   {
    "duration": 23,
    "start_time": "2024-05-17T16:58:54.947Z"
   },
   {
    "duration": 16,
    "start_time": "2024-05-17T16:58:55.918Z"
   },
   {
    "duration": 13,
    "start_time": "2024-05-17T16:59:04.636Z"
   },
   {
    "duration": 17,
    "start_time": "2024-05-17T16:59:05.724Z"
   },
   {
    "duration": 20,
    "start_time": "2024-05-17T16:59:16.085Z"
   },
   {
    "duration": 34,
    "start_time": "2024-05-17T16:59:26.876Z"
   },
   {
    "duration": 14,
    "start_time": "2024-05-17T16:59:28.840Z"
   },
   {
    "duration": 29,
    "start_time": "2024-05-17T17:00:35.988Z"
   },
   {
    "duration": 21,
    "start_time": "2024-05-17T17:00:37.064Z"
   },
   {
    "duration": 12,
    "start_time": "2024-05-17T17:00:38.616Z"
   },
   {
    "duration": 19,
    "start_time": "2024-05-17T17:00:56.401Z"
   },
   {
    "duration": 10,
    "start_time": "2024-05-17T17:00:58.603Z"
   },
   {
    "duration": 22,
    "start_time": "2024-05-17T17:05:31.577Z"
   },
   {
    "duration": 21,
    "start_time": "2024-05-17T17:05:39.348Z"
   },
   {
    "duration": 12,
    "start_time": "2024-05-17T17:05:39.565Z"
   },
   {
    "duration": 29,
    "start_time": "2024-05-17T17:06:44.110Z"
   },
   {
    "duration": 45,
    "start_time": "2024-05-17T17:19:22.508Z"
   },
   {
    "duration": 470,
    "start_time": "2024-05-17T17:22:18.268Z"
   },
   {
    "duration": 25,
    "start_time": "2024-05-17T17:25:19.793Z"
   },
   {
    "duration": 282,
    "start_time": "2024-05-17T17:25:57.302Z"
   },
   {
    "duration": 915,
    "start_time": "2024-05-17T18:57:43.863Z"
   },
   {
    "duration": 354,
    "start_time": "2024-05-17T18:57:44.990Z"
   },
   {
    "duration": 19,
    "start_time": "2024-05-17T18:57:47.038Z"
   },
   {
    "duration": 15,
    "start_time": "2024-05-17T18:57:47.549Z"
   },
   {
    "duration": 13,
    "start_time": "2024-05-17T18:58:03.935Z"
   },
   {
    "duration": 18,
    "start_time": "2024-05-17T18:58:04.958Z"
   },
   {
    "duration": 19,
    "start_time": "2024-05-17T18:58:07.445Z"
   },
   {
    "duration": 25,
    "start_time": "2024-05-17T18:58:09.156Z"
   },
   {
    "duration": 14,
    "start_time": "2024-05-17T18:58:09.306Z"
   },
   {
    "duration": 33,
    "start_time": "2024-05-17T18:58:12.030Z"
   },
   {
    "duration": 23,
    "start_time": "2024-05-17T18:58:12.535Z"
   },
   {
    "duration": 13,
    "start_time": "2024-05-17T18:58:13.151Z"
   },
   {
    "duration": 42,
    "start_time": "2024-05-17T18:58:15.263Z"
   },
   {
    "duration": 19,
    "start_time": "2024-05-17T18:58:18.167Z"
   },
   {
    "duration": 9,
    "start_time": "2024-05-17T18:58:18.788Z"
   },
   {
    "duration": 23,
    "start_time": "2024-05-17T18:58:25.539Z"
   },
   {
    "duration": 736,
    "start_time": "2024-05-17T18:58:31.581Z"
   },
   {
    "duration": 56,
    "start_time": "2024-05-17T19:00:05.641Z"
   },
   {
    "duration": 50,
    "start_time": "2024-05-17T19:00:33.002Z"
   },
   {
    "duration": 35,
    "start_time": "2024-05-17T19:00:58.630Z"
   },
   {
    "duration": 35,
    "start_time": "2024-05-17T19:01:20.338Z"
   },
   {
    "duration": 22,
    "start_time": "2024-05-17T19:04:05.142Z"
   },
   {
    "duration": 50,
    "start_time": "2024-05-17T19:06:21.405Z"
   },
   {
    "duration": 57,
    "start_time": "2024-05-17T19:06:53.909Z"
   },
   {
    "duration": 48,
    "start_time": "2024-05-17T19:07:14.972Z"
   },
   {
    "duration": 35,
    "start_time": "2024-05-17T19:08:27.652Z"
   },
   {
    "duration": 41,
    "start_time": "2024-05-17T19:09:26.806Z"
   },
   {
    "duration": 333,
    "start_time": "2024-05-17T19:13:15.839Z"
   },
   {
    "duration": 78,
    "start_time": "2024-05-17T19:14:05.950Z"
   },
   {
    "duration": 18,
    "start_time": "2024-05-17T19:20:38.337Z"
   },
   {
    "duration": 18,
    "start_time": "2024-05-17T19:20:53.302Z"
   },
   {
    "duration": 49,
    "start_time": "2024-05-17T19:44:45.549Z"
   },
   {
    "duration": 46,
    "start_time": "2024-05-17T19:45:42.664Z"
   },
   {
    "duration": 44,
    "start_time": "2024-05-17T19:45:55.687Z"
   },
   {
    "duration": 45,
    "start_time": "2024-05-17T19:46:17.980Z"
   },
   {
    "duration": 20,
    "start_time": "2024-05-17T19:49:05.256Z"
   },
   {
    "duration": 31,
    "start_time": "2024-05-17T19:51:54.743Z"
   },
   {
    "duration": 46,
    "start_time": "2024-05-17T19:52:19.032Z"
   },
   {
    "duration": 24,
    "start_time": "2024-05-17T19:56:49.598Z"
   },
   {
    "duration": 30,
    "start_time": "2024-05-17T19:57:28.202Z"
   },
   {
    "duration": 154,
    "start_time": "2024-05-17T20:01:33.879Z"
   },
   {
    "duration": 127,
    "start_time": "2024-05-17T20:01:45.495Z"
   },
   {
    "duration": 103,
    "start_time": "2024-05-17T20:04:53.671Z"
   },
   {
    "duration": 9,
    "start_time": "2024-05-17T20:30:39.851Z"
   },
   {
    "duration": 7,
    "start_time": "2024-05-17T20:30:46.018Z"
   },
   {
    "duration": 34,
    "start_time": "2024-05-17T20:30:58.281Z"
   },
   {
    "duration": 473,
    "start_time": "2024-05-17T20:31:24.233Z"
   },
   {
    "duration": 27,
    "start_time": "2024-05-17T20:31:38.968Z"
   },
   {
    "duration": 30,
    "start_time": "2024-05-17T20:34:00.716Z"
   },
   {
    "duration": 38,
    "start_time": "2024-05-17T20:58:03.260Z"
   },
   {
    "duration": 41,
    "start_time": "2024-05-17T20:58:53.845Z"
   },
   {
    "duration": 31,
    "start_time": "2024-05-17T20:59:16.558Z"
   },
   {
    "duration": 40,
    "start_time": "2024-05-17T20:59:22.786Z"
   },
   {
    "duration": 6,
    "start_time": "2024-05-17T20:59:58.765Z"
   },
   {
    "duration": 171,
    "start_time": "2024-05-17T21:02:55.812Z"
   },
   {
    "duration": 107,
    "start_time": "2024-05-17T21:03:11.942Z"
   },
   {
    "duration": 266,
    "start_time": "2024-05-17T21:08:27.006Z"
   },
   {
    "duration": 229,
    "start_time": "2024-05-17T21:08:52.527Z"
   },
   {
    "duration": 121,
    "start_time": "2024-05-17T21:11:10.080Z"
   },
   {
    "duration": 4,
    "start_time": "2024-05-17T21:12:12.794Z"
   },
   {
    "duration": 278,
    "start_time": "2024-05-17T21:12:14.045Z"
   },
   {
    "duration": 598,
    "start_time": "2024-05-17T21:22:14.258Z"
   },
   {
    "duration": 84,
    "start_time": "2024-05-17T21:22:38.389Z"
   },
   {
    "duration": 627,
    "start_time": "2024-05-17T21:23:17.319Z"
   },
   {
    "duration": 62,
    "start_time": "2024-05-17T21:25:37.499Z"
   },
   {
    "duration": 470,
    "start_time": "2024-05-17T21:25:50.249Z"
   },
   {
    "duration": 60,
    "start_time": "2024-05-17T21:26:26.689Z"
   },
   {
    "duration": 57,
    "start_time": "2024-05-17T21:26:35.405Z"
   },
   {
    "duration": 60,
    "start_time": "2024-05-17T21:28:05.720Z"
   },
   {
    "duration": 61,
    "start_time": "2024-05-17T21:29:02.687Z"
   },
   {
    "duration": 25,
    "start_time": "2024-05-17T21:32:27.992Z"
   },
   {
    "duration": 16,
    "start_time": "2024-05-17T21:32:43.204Z"
   },
   {
    "duration": 10,
    "start_time": "2024-05-17T21:32:43.898Z"
   },
   {
    "duration": 5,
    "start_time": "2024-05-17T21:32:45.120Z"
   },
   {
    "duration": 90,
    "start_time": "2024-05-17T21:33:13.247Z"
   },
   {
    "duration": 90,
    "start_time": "2024-05-17T21:33:23.185Z"
   },
   {
    "duration": 82,
    "start_time": "2024-05-17T21:33:35.527Z"
   },
   {
    "duration": 83,
    "start_time": "2024-05-17T21:34:10.954Z"
   },
   {
    "duration": 83,
    "start_time": "2024-05-17T21:34:23.344Z"
   },
   {
    "duration": 108,
    "start_time": "2024-05-17T21:39:45.207Z"
   },
   {
    "duration": 340,
    "start_time": "2024-05-18T23:31:04.025Z"
   },
   {
    "duration": 1029,
    "start_time": "2024-05-18T23:31:16.403Z"
   },
   {
    "duration": 373,
    "start_time": "2024-05-18T23:31:17.589Z"
   },
   {
    "duration": 23,
    "start_time": "2024-05-18T23:31:20.230Z"
   },
   {
    "duration": 17,
    "start_time": "2024-05-18T23:31:21.245Z"
   },
   {
    "duration": 16,
    "start_time": "2024-05-18T23:31:26.287Z"
   },
   {
    "duration": 17,
    "start_time": "2024-05-18T23:31:27.023Z"
   },
   {
    "duration": 26,
    "start_time": "2024-05-18T23:31:29.998Z"
   },
   {
    "duration": 28,
    "start_time": "2024-05-18T23:31:32.446Z"
   },
   {
    "duration": 16,
    "start_time": "2024-05-18T23:31:33.321Z"
   },
   {
    "duration": 33,
    "start_time": "2024-05-18T23:31:35.429Z"
   },
   {
    "duration": 21,
    "start_time": "2024-05-18T23:31:36.243Z"
   },
   {
    "duration": 16,
    "start_time": "2024-05-18T23:31:36.967Z"
   },
   {
    "duration": 64,
    "start_time": "2024-05-18T23:31:38.800Z"
   },
   {
    "duration": 24,
    "start_time": "2024-05-18T23:31:40.423Z"
   },
   {
    "duration": 12,
    "start_time": "2024-05-18T23:31:41.183Z"
   },
   {
    "duration": 7,
    "start_time": "2024-05-18T23:31:41.982Z"
   },
   {
    "duration": 27,
    "start_time": "2024-05-18T23:31:46.480Z"
   },
   {
    "duration": 39,
    "start_time": "2024-05-18T23:31:48.977Z"
   },
   {
    "duration": 25,
    "start_time": "2024-05-18T23:31:53.071Z"
   },
   {
    "duration": 15,
    "start_time": "2024-05-18T23:31:53.764Z"
   },
   {
    "duration": 40,
    "start_time": "2024-05-18T23:31:57.405Z"
   },
   {
    "duration": 28,
    "start_time": "2024-05-18T23:31:59.509Z"
   },
   {
    "duration": 39,
    "start_time": "2024-05-18T23:32:01.805Z"
   },
   {
    "duration": 933,
    "start_time": "2024-05-18T23:53:19.858Z"
   },
   {
    "duration": 89,
    "start_time": "2024-05-18T23:55:21.574Z"
   },
   {
    "duration": 542,
    "start_time": "2024-05-18T23:56:10.762Z"
   },
   {
    "duration": 61,
    "start_time": "2024-05-18T23:57:14.053Z"
   },
   {
    "duration": 643,
    "start_time": "2024-05-18T23:57:31.266Z"
   },
   {
    "duration": 111,
    "start_time": "2024-05-19T00:02:01.685Z"
   },
   {
    "duration": 81,
    "start_time": "2024-05-19T00:04:12.345Z"
   },
   {
    "duration": 83,
    "start_time": "2024-05-19T00:05:05.714Z"
   },
   {
    "duration": 84,
    "start_time": "2024-05-19T00:05:29.862Z"
   },
   {
    "duration": 82,
    "start_time": "2024-05-19T00:05:58.540Z"
   },
   {
    "duration": 83,
    "start_time": "2024-05-19T00:21:59.872Z"
   },
   {
    "duration": 128,
    "start_time": "2024-05-19T00:24:22.887Z"
   },
   {
    "duration": 83,
    "start_time": "2024-05-19T00:24:32.068Z"
   },
   {
    "duration": 923,
    "start_time": "2024-05-20T22:15:52.345Z"
   },
   {
    "duration": 405,
    "start_time": "2024-05-20T22:15:53.272Z"
   },
   {
    "duration": 19,
    "start_time": "2024-05-20T22:15:54.280Z"
   },
   {
    "duration": 16,
    "start_time": "2024-05-20T22:15:56.014Z"
   },
   {
    "duration": 15,
    "start_time": "2024-05-20T22:16:23.190Z"
   },
   {
    "duration": 18,
    "start_time": "2024-05-20T22:16:23.370Z"
   },
   {
    "duration": 31,
    "start_time": "2024-05-20T22:16:24.866Z"
   },
   {
    "duration": 43,
    "start_time": "2024-05-20T22:16:26.317Z"
   },
   {
    "duration": 15,
    "start_time": "2024-05-20T22:16:26.588Z"
   },
   {
    "duration": 38,
    "start_time": "2024-05-20T22:16:28.213Z"
   },
   {
    "duration": 27,
    "start_time": "2024-05-20T22:16:28.438Z"
   },
   {
    "duration": 14,
    "start_time": "2024-05-20T22:16:28.679Z"
   },
   {
    "duration": 56,
    "start_time": "2024-05-20T22:16:30.024Z"
   },
   {
    "duration": 20,
    "start_time": "2024-05-20T22:16:37.133Z"
   },
   {
    "duration": 10,
    "start_time": "2024-05-20T22:16:37.406Z"
   },
   {
    "duration": 7,
    "start_time": "2024-05-20T22:16:37.715Z"
   },
   {
    "duration": 24,
    "start_time": "2024-05-20T22:16:39.621Z"
   },
   {
    "duration": 36,
    "start_time": "2024-05-20T22:16:41.716Z"
   },
   {
    "duration": 22,
    "start_time": "2024-05-20T22:16:42.970Z"
   },
   {
    "duration": 12,
    "start_time": "2024-05-20T22:16:43.531Z"
   },
   {
    "duration": 31,
    "start_time": "2024-05-20T22:16:45.703Z"
   },
   {
    "duration": 26,
    "start_time": "2024-05-20T22:16:47.184Z"
   },
   {
    "duration": 36,
    "start_time": "2024-05-20T22:16:48.914Z"
   },
   {
    "duration": 20,
    "start_time": "2024-05-20T22:22:06.437Z"
   },
   {
    "duration": 487,
    "start_time": "2024-05-20T22:22:25.971Z"
   },
   {
    "duration": 54,
    "start_time": "2024-05-20T22:22:35.475Z"
   },
   {
    "duration": 101,
    "start_time": "2024-05-20T22:27:40.339Z"
   },
   {
    "duration": 104,
    "start_time": "2024-05-20T22:27:57.102Z"
   },
   {
    "duration": 42,
    "start_time": "2024-05-20T22:29:35.953Z"
   },
   {
    "duration": 101,
    "start_time": "2024-05-20T22:29:49.320Z"
   },
   {
    "duration": 28,
    "start_time": "2024-05-20T22:33:18.739Z"
   },
   {
    "duration": 20,
    "start_time": "2024-05-20T22:35:09.412Z"
   },
   {
    "duration": 658,
    "start_time": "2024-05-20T22:36:38.273Z"
   },
   {
    "duration": 12,
    "start_time": "2024-05-20T22:37:04.450Z"
   },
   {
    "duration": 98,
    "start_time": "2024-05-20T22:37:09.614Z"
   },
   {
    "duration": 25,
    "start_time": "2024-05-20T22:37:18.319Z"
   },
   {
    "duration": 24,
    "start_time": "2024-05-20T22:38:49.114Z"
   },
   {
    "duration": 453,
    "start_time": "2024-05-20T22:38:54.268Z"
   },
   {
    "duration": 28,
    "start_time": "2024-05-20T22:39:00.359Z"
   },
   {
    "duration": 25,
    "start_time": "2024-05-20T22:39:11.291Z"
   },
   {
    "duration": 81,
    "start_time": "2024-05-20T22:39:22.892Z"
   },
   {
    "duration": 26,
    "start_time": "2024-05-20T22:40:11.001Z"
   },
   {
    "duration": 42,
    "start_time": "2024-05-20T22:41:08.098Z"
   },
   {
    "duration": 38,
    "start_time": "2024-05-20T22:41:33.048Z"
   },
   {
    "duration": 43,
    "start_time": "2024-05-20T22:41:57.321Z"
   },
   {
    "duration": 50,
    "start_time": "2024-05-20T22:42:12.693Z"
   },
   {
    "duration": 46,
    "start_time": "2024-05-20T22:42:25.993Z"
   },
   {
    "duration": 35,
    "start_time": "2024-05-20T22:42:39.028Z"
   },
   {
    "duration": 24,
    "start_time": "2024-05-20T22:42:51.213Z"
   },
   {
    "duration": 22,
    "start_time": "2024-05-20T22:45:35.436Z"
   },
   {
    "duration": 926,
    "start_time": "2024-05-21T17:29:14.263Z"
   },
   {
    "duration": 349,
    "start_time": "2024-05-21T17:29:16.999Z"
   },
   {
    "duration": 22,
    "start_time": "2024-05-21T17:29:20.503Z"
   },
   {
    "duration": 15,
    "start_time": "2024-05-21T17:29:21.375Z"
   },
   {
    "duration": 15,
    "start_time": "2024-05-21T17:29:36.122Z"
   },
   {
    "duration": 20,
    "start_time": "2024-05-21T17:29:36.967Z"
   },
   {
    "duration": 22,
    "start_time": "2024-05-21T17:29:39.048Z"
   },
   {
    "duration": 25,
    "start_time": "2024-05-21T17:29:41.994Z"
   },
   {
    "duration": 14,
    "start_time": "2024-05-21T17:29:42.704Z"
   },
   {
    "duration": 29,
    "start_time": "2024-05-21T17:29:44.242Z"
   },
   {
    "duration": 21,
    "start_time": "2024-05-21T17:29:44.468Z"
   },
   {
    "duration": 15,
    "start_time": "2024-05-21T17:29:44.750Z"
   },
   {
    "duration": 56,
    "start_time": "2024-05-21T17:29:47.003Z"
   },
   {
    "duration": 20,
    "start_time": "2024-05-21T17:29:48.283Z"
   },
   {
    "duration": 11,
    "start_time": "2024-05-21T17:29:49.051Z"
   },
   {
    "duration": 8,
    "start_time": "2024-05-21T17:29:49.972Z"
   },
   {
    "duration": 26,
    "start_time": "2024-05-21T17:29:52.327Z"
   },
   {
    "duration": 38,
    "start_time": "2024-05-21T17:29:54.478Z"
   },
   {
    "duration": 26,
    "start_time": "2024-05-21T17:29:55.913Z"
   },
   {
    "duration": 12,
    "start_time": "2024-05-21T17:29:56.628Z"
   },
   {
    "duration": 33,
    "start_time": "2024-05-21T17:29:58.576Z"
   },
   {
    "duration": 46,
    "start_time": "2024-05-21T17:30:00.120Z"
   },
   {
    "duration": 56,
    "start_time": "2024-05-21T17:30:01.748Z"
   },
   {
    "duration": 31,
    "start_time": "2024-05-21T17:30:03.284Z"
   },
   {
    "duration": 22,
    "start_time": "2024-05-21T17:30:04.823Z"
   },
   {
    "duration": 29,
    "start_time": "2024-05-21T17:30:05.642Z"
   },
   {
    "duration": 467,
    "start_time": "2024-05-21T17:30:07.381Z"
   },
   {
    "duration": 23,
    "start_time": "2024-05-21T17:30:49.913Z"
   },
   {
    "duration": 33,
    "start_time": "2024-05-21T17:39:53.509Z"
   },
   {
    "duration": 27,
    "start_time": "2024-05-21T17:42:29.617Z"
   },
   {
    "duration": 24,
    "start_time": "2024-05-21T17:43:33.110Z"
   },
   {
    "duration": 28,
    "start_time": "2024-05-21T17:43:41.999Z"
   },
   {
    "duration": 26,
    "start_time": "2024-05-21T17:45:25.695Z"
   },
   {
    "duration": 1401,
    "start_time": "2024-05-21T17:48:16.768Z"
   },
   {
    "duration": 28,
    "start_time": "2024-05-21T17:48:51.071Z"
   },
   {
    "duration": 219,
    "start_time": "2024-05-21T17:49:06.159Z"
   },
   {
    "duration": 31,
    "start_time": "2024-05-21T17:49:16.066Z"
   },
   {
    "duration": 78,
    "start_time": "2024-05-21T17:50:24.537Z"
   },
   {
    "duration": 956,
    "start_time": "2024-05-22T23:03:32.416Z"
   },
   {
    "duration": 390,
    "start_time": "2024-05-22T23:03:34.850Z"
   },
   {
    "duration": 20,
    "start_time": "2024-05-22T23:03:37.945Z"
   },
   {
    "duration": 15,
    "start_time": "2024-05-22T23:03:38.888Z"
   },
   {
    "duration": 17,
    "start_time": "2024-05-22T23:03:42.655Z"
   },
   {
    "duration": 19,
    "start_time": "2024-05-22T23:03:43.883Z"
   },
   {
    "duration": 19,
    "start_time": "2024-05-22T23:03:46.335Z"
   },
   {
    "duration": 32,
    "start_time": "2024-05-22T23:03:49.312Z"
   },
   {
    "duration": 14,
    "start_time": "2024-05-22T23:03:50.306Z"
   },
   {
    "duration": 28,
    "start_time": "2024-05-22T23:03:51.871Z"
   },
   {
    "duration": 21,
    "start_time": "2024-05-22T23:03:53.100Z"
   },
   {
    "duration": 12,
    "start_time": "2024-05-22T23:03:54.534Z"
   },
   {
    "duration": 52,
    "start_time": "2024-05-22T23:03:56.684Z"
   },
   {
    "duration": 19,
    "start_time": "2024-05-22T23:03:57.518Z"
   },
   {
    "duration": 9,
    "start_time": "2024-05-22T23:03:57.734Z"
   },
   {
    "duration": 6,
    "start_time": "2024-05-22T23:03:57.948Z"
   },
   {
    "duration": 23,
    "start_time": "2024-05-22T23:03:59.775Z"
   },
   {
    "duration": 38,
    "start_time": "2024-05-22T23:04:02.726Z"
   },
   {
    "duration": 23,
    "start_time": "2024-05-22T23:04:04.936Z"
   },
   {
    "duration": 11,
    "start_time": "2024-05-22T23:04:07.043Z"
   },
   {
    "duration": 31,
    "start_time": "2024-05-22T23:04:10.406Z"
   },
   {
    "duration": 46,
    "start_time": "2024-05-22T23:04:13.383Z"
   },
   {
    "duration": 35,
    "start_time": "2024-05-22T23:04:16.244Z"
   },
   {
    "duration": 31,
    "start_time": "2024-05-22T23:04:18.905Z"
   },
   {
    "duration": 33,
    "start_time": "2024-05-22T23:04:19.723Z"
   },
   {
    "duration": 20,
    "start_time": "2024-05-22T23:04:20.953Z"
   },
   {
    "duration": 29,
    "start_time": "2024-05-22T23:04:21.977Z"
   },
   {
    "duration": 22,
    "start_time": "2024-05-22T23:04:24.115Z"
   },
   {
    "duration": 23,
    "start_time": "2024-05-22T23:04:25.459Z"
   },
   {
    "duration": 25,
    "start_time": "2024-05-22T23:04:26.382Z"
   },
   {
    "duration": 34,
    "start_time": "2024-05-22T23:05:15.912Z"
   },
   {
    "duration": 6,
    "start_time": "2024-05-22T23:12:20.074Z"
   },
   {
    "duration": 753,
    "start_time": "2024-05-22T23:14:26.362Z"
   },
   {
    "duration": 27,
    "start_time": "2024-05-22T23:16:16.289Z"
   },
   {
    "duration": 5,
    "start_time": "2024-05-22T23:17:51.845Z"
   },
   {
    "duration": 4,
    "start_time": "2024-05-22T23:17:57.831Z"
   },
   {
    "duration": 27,
    "start_time": "2024-05-22T23:30:40.322Z"
   },
   {
    "duration": 8,
    "start_time": "2024-05-22T23:30:46.034Z"
   },
   {
    "duration": 24,
    "start_time": "2024-05-22T23:31:20.232Z"
   },
   {
    "duration": 27,
    "start_time": "2024-05-22T23:33:39.422Z"
   },
   {
    "duration": 3943,
    "start_time": "2024-05-22T23:34:23.304Z"
   },
   {
    "duration": 38,
    "start_time": "2024-05-22T23:34:37.146Z"
   },
   {
    "duration": 4823,
    "start_time": "2024-05-23T19:11:30.557Z"
   },
   {
    "duration": 387,
    "start_time": "2024-05-23T19:11:35.384Z"
   },
   {
    "duration": 18,
    "start_time": "2024-05-23T19:11:37.598Z"
   },
   {
    "duration": 16,
    "start_time": "2024-05-23T19:11:37.813Z"
   },
   {
    "duration": 13,
    "start_time": "2024-05-23T19:12:43.713Z"
   },
   {
    "duration": 17,
    "start_time": "2024-05-23T19:12:44.230Z"
   },
   {
    "duration": 20,
    "start_time": "2024-05-23T19:12:46.116Z"
   },
   {
    "duration": 24,
    "start_time": "2024-05-23T19:12:48.511Z"
   },
   {
    "duration": 13,
    "start_time": "2024-05-23T19:12:49.246Z"
   },
   {
    "duration": 27,
    "start_time": "2024-05-23T19:12:50.669Z"
   },
   {
    "duration": 19,
    "start_time": "2024-05-23T19:12:50.857Z"
   },
   {
    "duration": 12,
    "start_time": "2024-05-23T19:12:51.037Z"
   },
   {
    "duration": 62,
    "start_time": "2024-05-23T19:12:51.951Z"
   },
   {
    "duration": 20,
    "start_time": "2024-05-23T19:12:53.448Z"
   },
   {
    "duration": 11,
    "start_time": "2024-05-23T19:12:54.006Z"
   },
   {
    "duration": 7,
    "start_time": "2024-05-23T19:12:54.726Z"
   },
   {
    "duration": 23,
    "start_time": "2024-05-23T19:12:56.537Z"
   },
   {
    "duration": 36,
    "start_time": "2024-05-23T19:12:58.330Z"
   },
   {
    "duration": 22,
    "start_time": "2024-05-23T19:12:59.620Z"
   },
   {
    "duration": 11,
    "start_time": "2024-05-23T19:13:00.064Z"
   },
   {
    "duration": 35,
    "start_time": "2024-05-23T19:13:02.309Z"
   },
   {
    "duration": 42,
    "start_time": "2024-05-23T19:13:54.350Z"
   },
   {
    "duration": 36,
    "start_time": "2024-05-23T19:14:02.740Z"
   },
   {
    "duration": 39,
    "start_time": "2024-05-23T19:14:04.365Z"
   },
   {
    "duration": 29,
    "start_time": "2024-05-23T19:14:05.128Z"
   },
   {
    "duration": 21,
    "start_time": "2024-05-23T19:14:05.880Z"
   },
   {
    "duration": 26,
    "start_time": "2024-05-23T19:14:06.894Z"
   },
   {
    "duration": 21,
    "start_time": "2024-05-23T19:14:09.266Z"
   },
   {
    "duration": 22,
    "start_time": "2024-05-23T19:14:10.102Z"
   },
   {
    "duration": 23,
    "start_time": "2024-05-23T19:14:10.803Z"
   },
   {
    "duration": 27,
    "start_time": "2024-05-23T19:14:11.849Z"
   },
   {
    "duration": 5,
    "start_time": "2024-05-23T19:14:15.417Z"
   },
   {
    "duration": 7,
    "start_time": "2024-05-23T19:14:36.485Z"
   },
   {
    "duration": 1486,
    "start_time": "2024-05-23T19:14:45.456Z"
   },
   {
    "duration": 179,
    "start_time": "2024-05-23T19:17:49.702Z"
   },
   {
    "duration": 4465,
    "start_time": "2024-05-23T19:18:48.323Z"
   },
   {
    "duration": 1089,
    "start_time": "2024-05-23T19:20:36.117Z"
   },
   {
    "duration": 78,
    "start_time": "2024-05-23T19:20:49.788Z"
   },
   {
    "duration": 179,
    "start_time": "2024-05-23T19:20:59.130Z"
   },
   {
    "duration": 4855,
    "start_time": "2024-05-23T20:28:19.846Z"
   },
   {
    "duration": 373,
    "start_time": "2024-05-23T20:28:24.705Z"
   },
   {
    "duration": 16,
    "start_time": "2024-05-23T20:28:27.322Z"
   },
   {
    "duration": 15,
    "start_time": "2024-05-23T20:28:28.038Z"
   },
   {
    "duration": 14,
    "start_time": "2024-05-23T20:28:32.608Z"
   },
   {
    "duration": 18,
    "start_time": "2024-05-23T20:28:33.267Z"
   },
   {
    "duration": 19,
    "start_time": "2024-05-23T20:28:35.052Z"
   },
   {
    "duration": 24,
    "start_time": "2024-05-23T20:28:37.772Z"
   },
   {
    "duration": 14,
    "start_time": "2024-05-23T20:28:38.293Z"
   },
   {
    "duration": 29,
    "start_time": "2024-05-23T20:28:40.175Z"
   },
   {
    "duration": 19,
    "start_time": "2024-05-23T20:28:40.564Z"
   },
   {
    "duration": 11,
    "start_time": "2024-05-23T20:28:41.064Z"
   },
   {
    "duration": 59,
    "start_time": "2024-05-23T20:28:42.434Z"
   },
   {
    "duration": 20,
    "start_time": "2024-05-23T20:28:43.418Z"
   },
   {
    "duration": 9,
    "start_time": "2024-05-23T20:28:43.848Z"
   },
   {
    "duration": 7,
    "start_time": "2024-05-23T20:28:44.295Z"
   },
   {
    "duration": 23,
    "start_time": "2024-05-23T20:28:45.491Z"
   },
   {
    "duration": 35,
    "start_time": "2024-05-23T20:28:46.142Z"
   },
   {
    "duration": 22,
    "start_time": "2024-05-23T20:28:46.883Z"
   },
   {
    "duration": 11,
    "start_time": "2024-05-23T20:28:47.168Z"
   },
   {
    "duration": 31,
    "start_time": "2024-05-23T20:28:48.538Z"
   },
   {
    "duration": 45,
    "start_time": "2024-05-23T20:28:49.983Z"
   },
   {
    "duration": 39,
    "start_time": "2024-05-23T20:28:50.798Z"
   },
   {
    "duration": 29,
    "start_time": "2024-05-23T20:28:51.664Z"
   },
   {
    "duration": 27,
    "start_time": "2024-05-23T20:28:52.046Z"
   },
   {
    "duration": 21,
    "start_time": "2024-05-23T20:28:52.518Z"
   },
   {
    "duration": 27,
    "start_time": "2024-05-23T20:28:52.712Z"
   },
   {
    "duration": 20,
    "start_time": "2024-05-23T20:28:53.745Z"
   },
   {
    "duration": 26,
    "start_time": "2024-05-23T20:28:54.103Z"
   },
   {
    "duration": 23,
    "start_time": "2024-05-23T20:28:54.833Z"
   },
   {
    "duration": 27,
    "start_time": "2024-05-23T20:28:55.635Z"
   },
   {
    "duration": 4,
    "start_time": "2024-05-23T20:28:57.248Z"
   },
   {
    "duration": 4231,
    "start_time": "2024-05-23T20:28:59.612Z"
   },
   {
    "duration": 196,
    "start_time": "2024-05-23T20:29:03.846Z"
   },
   {
    "duration": 3,
    "start_time": "2024-05-23T20:29:04.948Z"
   },
   {
    "duration": 1150,
    "start_time": "2024-05-23T20:29:38.720Z"
   },
   {
    "duration": 20,
    "start_time": "2024-05-23T20:30:25.274Z"
   },
   {
    "duration": 52,
    "start_time": "2024-05-23T20:30:43.376Z"
   },
   {
    "duration": 53,
    "start_time": "2024-05-23T20:31:01.604Z"
   },
   {
    "duration": 930,
    "start_time": "2024-05-23T20:31:32.592Z"
   },
   {
    "duration": 977,
    "start_time": "2024-05-23T20:31:45.112Z"
   },
   {
    "duration": 7,
    "start_time": "2024-05-23T20:35:12.286Z"
   },
   {
    "duration": 7,
    "start_time": "2024-05-23T20:35:36.147Z"
   },
   {
    "duration": 8,
    "start_time": "2024-05-23T20:37:07.765Z"
   },
   {
    "duration": 13,
    "start_time": "2024-05-23T20:37:53.771Z"
   },
   {
    "duration": 8,
    "start_time": "2024-05-23T20:41:07.148Z"
   },
   {
    "duration": 10,
    "start_time": "2024-05-23T21:06:56.155Z"
   },
   {
    "duration": 91,
    "start_time": "2024-05-23T21:08:07.088Z"
   },
   {
    "duration": 43,
    "start_time": "2024-05-23T21:15:43.436Z"
   },
   {
    "duration": 27,
    "start_time": "2024-05-23T21:15:53.000Z"
   },
   {
    "duration": 72,
    "start_time": "2024-05-23T21:25:55.781Z"
   },
   {
    "duration": 76,
    "start_time": "2024-05-23T21:26:56.739Z"
   },
   {
    "duration": 54,
    "start_time": "2024-05-23T21:29:08.783Z"
   },
   {
    "duration": 58,
    "start_time": "2024-05-23T21:30:20.255Z"
   },
   {
    "duration": 174,
    "start_time": "2024-05-23T21:44:43.429Z"
   },
   {
    "duration": 161,
    "start_time": "2024-05-23T21:48:50.249Z"
   },
   {
    "duration": 212,
    "start_time": "2024-05-23T21:49:12.582Z"
   },
   {
    "duration": 996,
    "start_time": "2024-05-23T21:49:31.521Z"
   },
   {
    "duration": 418,
    "start_time": "2024-05-23T21:50:13.565Z"
   },
   {
    "duration": 180,
    "start_time": "2024-05-23T21:50:20.725Z"
   },
   {
    "duration": 228,
    "start_time": "2024-05-23T21:51:26.946Z"
   },
   {
    "duration": 168,
    "start_time": "2024-05-23T21:51:42.031Z"
   },
   {
    "duration": 51,
    "start_time": "2024-05-23T22:06:39.723Z"
   },
   {
    "duration": 4910,
    "start_time": "2024-05-25T19:56:38.820Z"
   },
   {
    "duration": 408,
    "start_time": "2024-05-25T19:56:43.734Z"
   },
   {
    "duration": 19,
    "start_time": "2024-05-25T19:56:44.145Z"
   },
   {
    "duration": 16,
    "start_time": "2024-05-25T19:56:44.168Z"
   },
   {
    "duration": 14,
    "start_time": "2024-05-25T19:58:47.349Z"
   },
   {
    "duration": 16,
    "start_time": "2024-05-25T19:58:51.804Z"
   },
   {
    "duration": 18,
    "start_time": "2024-05-25T19:58:52.479Z"
   },
   {
    "duration": 20,
    "start_time": "2024-05-25T19:58:54.858Z"
   },
   {
    "duration": 30,
    "start_time": "2024-05-25T19:58:58.007Z"
   },
   {
    "duration": 15,
    "start_time": "2024-05-25T19:58:58.682Z"
   },
   {
    "duration": 30,
    "start_time": "2024-05-25T19:59:00.847Z"
   },
   {
    "duration": 21,
    "start_time": "2024-05-25T19:59:01.365Z"
   },
   {
    "duration": 13,
    "start_time": "2024-05-25T19:59:01.585Z"
   },
   {
    "duration": 55,
    "start_time": "2024-05-25T19:59:03.145Z"
   },
   {
    "duration": 20,
    "start_time": "2024-05-25T19:59:04.515Z"
   },
   {
    "duration": 12,
    "start_time": "2024-05-25T19:59:05.150Z"
   },
   {
    "duration": 7,
    "start_time": "2024-05-25T19:59:05.678Z"
   },
   {
    "duration": 25,
    "start_time": "2024-05-25T19:59:20.301Z"
   },
   {
    "duration": 37,
    "start_time": "2024-05-25T19:59:24.161Z"
   },
   {
    "duration": 24,
    "start_time": "2024-05-25T19:59:25.532Z"
   },
   {
    "duration": 11,
    "start_time": "2024-05-25T19:59:26.262Z"
   },
   {
    "duration": 32,
    "start_time": "2024-05-25T19:59:28.887Z"
   },
   {
    "duration": 48,
    "start_time": "2024-05-25T19:59:31.360Z"
   },
   {
    "duration": 39,
    "start_time": "2024-05-25T19:59:33.866Z"
   },
   {
    "duration": 34,
    "start_time": "2024-05-25T19:59:35.502Z"
   },
   {
    "duration": 28,
    "start_time": "2024-05-25T19:59:36.709Z"
   },
   {
    "duration": 21,
    "start_time": "2024-05-25T19:59:40.085Z"
   },
   {
    "duration": 28,
    "start_time": "2024-05-25T19:59:41.347Z"
   },
   {
    "duration": 24,
    "start_time": "2024-05-25T19:59:45.440Z"
   },
   {
    "duration": 24,
    "start_time": "2024-05-25T19:59:46.402Z"
   },
   {
    "duration": 25,
    "start_time": "2024-05-25T19:59:47.561Z"
   },
   {
    "duration": 7,
    "start_time": "2024-05-25T19:59:50.488Z"
   },
   {
    "duration": 30,
    "start_time": "2024-05-25T20:00:45.933Z"
   },
   {
    "duration": 4,
    "start_time": "2024-05-25T20:01:03.897Z"
   },
   {
    "duration": 10,
    "start_time": "2024-05-25T20:03:43.419Z"
   },
   {
    "duration": 9,
    "start_time": "2024-05-25T20:03:54.609Z"
   },
   {
    "duration": 15,
    "start_time": "2024-05-25T20:10:03.861Z"
   },
   {
    "duration": 7,
    "start_time": "2024-05-25T20:10:53.347Z"
   },
   {
    "duration": 5,
    "start_time": "2024-05-25T20:11:00.923Z"
   },
   {
    "duration": 16,
    "start_time": "2024-05-25T20:11:54.206Z"
   },
   {
    "duration": 5,
    "start_time": "2024-05-25T20:12:21.767Z"
   },
   {
    "duration": 5,
    "start_time": "2024-05-25T20:13:21.510Z"
   },
   {
    "duration": 10,
    "start_time": "2024-05-25T20:17:27.475Z"
   },
   {
    "duration": 5,
    "start_time": "2024-05-25T20:22:10.976Z"
   },
   {
    "duration": 5,
    "start_time": "2024-05-25T20:22:16.864Z"
   },
   {
    "duration": 6,
    "start_time": "2024-05-25T20:23:16.886Z"
   },
   {
    "duration": 6,
    "start_time": "2024-05-25T20:25:54.499Z"
   },
   {
    "duration": 10,
    "start_time": "2024-05-25T20:26:11.459Z"
   },
   {
    "duration": 6,
    "start_time": "2024-05-25T20:26:28.083Z"
   },
   {
    "duration": 15,
    "start_time": "2024-05-25T20:26:47.930Z"
   },
   {
    "duration": 7,
    "start_time": "2024-05-25T20:41:32.807Z"
   },
   {
    "duration": 4,
    "start_time": "2024-05-25T20:41:46.256Z"
   },
   {
    "duration": 378,
    "start_time": "2024-05-25T20:41:47.329Z"
   },
   {
    "duration": 16,
    "start_time": "2024-05-25T20:41:51.060Z"
   },
   {
    "duration": 17,
    "start_time": "2024-05-25T20:41:52.024Z"
   },
   {
    "duration": 15,
    "start_time": "2024-05-25T20:41:58.638Z"
   },
   {
    "duration": 18,
    "start_time": "2024-05-25T20:41:59.579Z"
   },
   {
    "duration": 21,
    "start_time": "2024-05-25T20:42:03.727Z"
   },
   {
    "duration": 35,
    "start_time": "2024-05-25T20:42:07.335Z"
   },
   {
    "duration": 16,
    "start_time": "2024-05-25T20:42:07.771Z"
   },
   {
    "duration": 31,
    "start_time": "2024-05-25T20:42:09.274Z"
   },
   {
    "duration": 22,
    "start_time": "2024-05-25T20:42:09.937Z"
   },
   {
    "duration": 16,
    "start_time": "2024-05-25T20:42:10.447Z"
   },
   {
    "duration": 65,
    "start_time": "2024-05-25T20:42:12.454Z"
   },
   {
    "duration": 19,
    "start_time": "2024-05-25T20:42:13.918Z"
   },
   {
    "duration": 14,
    "start_time": "2024-05-25T20:42:14.335Z"
   },
   {
    "duration": 26,
    "start_time": "2024-05-25T20:42:16.673Z"
   },
   {
    "duration": 43,
    "start_time": "2024-05-25T20:42:18.417Z"
   },
   {
    "duration": 31,
    "start_time": "2024-05-25T20:42:19.519Z"
   },
   {
    "duration": 16,
    "start_time": "2024-05-25T20:42:20.036Z"
   },
   {
    "duration": 33,
    "start_time": "2024-05-25T20:42:22.173Z"
   },
   {
    "duration": 53,
    "start_time": "2024-05-25T20:42:23.741Z"
   },
   {
    "duration": 46,
    "start_time": "2024-05-25T20:42:25.496Z"
   },
   {
    "duration": 37,
    "start_time": "2024-05-25T20:42:26.910Z"
   },
   {
    "duration": 37,
    "start_time": "2024-05-25T20:42:27.748Z"
   },
   {
    "duration": 44,
    "start_time": "2024-05-25T20:42:28.401Z"
   },
   {
    "duration": 38,
    "start_time": "2024-05-25T20:42:29.209Z"
   },
   {
    "duration": 36,
    "start_time": "2024-05-25T20:42:30.528Z"
   },
   {
    "duration": 32,
    "start_time": "2024-05-25T20:42:31.332Z"
   },
   {
    "duration": 43,
    "start_time": "2024-05-25T20:42:32.311Z"
   },
   {
    "duration": 32,
    "start_time": "2024-05-25T20:42:33.107Z"
   },
   {
    "duration": 6,
    "start_time": "2024-05-25T20:42:35.413Z"
   },
   {
    "duration": 11,
    "start_time": "2024-05-25T20:44:45.513Z"
   },
   {
    "duration": 545,
    "start_time": "2024-05-25T20:44:50.674Z"
   },
   {
    "duration": 27,
    "start_time": "2024-05-25T20:45:55.212Z"
   },
   {
    "duration": 158,
    "start_time": "2024-05-25T20:46:16.373Z"
   },
   {
    "duration": 27,
    "start_time": "2024-05-25T20:46:48.855Z"
   },
   {
    "duration": 16,
    "start_time": "2024-05-25T20:47:00.516Z"
   },
   {
    "duration": 28,
    "start_time": "2024-05-25T20:47:19.078Z"
   },
   {
    "duration": 7,
    "start_time": "2024-05-25T20:48:35.738Z"
   },
   {
    "duration": 4,
    "start_time": "2024-05-25T20:48:40.507Z"
   },
   {
    "duration": 7,
    "start_time": "2024-05-25T20:48:58.253Z"
   },
   {
    "duration": 891,
    "start_time": "2024-05-25T20:49:04.784Z"
   },
   {
    "duration": 105,
    "start_time": "2024-05-25T20:49:56.542Z"
   },
   {
    "duration": 780,
    "start_time": "2024-05-25T20:50:30.526Z"
   },
   {
    "duration": 9,
    "start_time": "2024-05-25T20:51:32.888Z"
   },
   {
    "duration": 211,
    "start_time": "2024-05-25T20:52:25.332Z"
   },
   {
    "duration": 32,
    "start_time": "2024-05-25T20:52:44.812Z"
   },
   {
    "duration": 461,
    "start_time": "2024-05-25T20:53:10.514Z"
   },
   {
    "duration": 528,
    "start_time": "2024-05-25T20:53:27.861Z"
   },
   {
    "duration": 393,
    "start_time": "2024-05-25T20:53:42.890Z"
   },
   {
    "duration": 1036,
    "start_time": "2024-05-25T20:55:29.388Z"
   },
   {
    "duration": 29,
    "start_time": "2024-05-25T20:56:13.098Z"
   },
   {
    "duration": 983,
    "start_time": "2024-05-25T20:57:06.508Z"
   },
   {
    "duration": 74,
    "start_time": "2024-05-25T20:59:08.166Z"
   },
   {
    "duration": 28,
    "start_time": "2024-05-25T20:59:20.286Z"
   },
   {
    "duration": 43,
    "start_time": "2024-05-25T20:59:32.808Z"
   },
   {
    "duration": 1118,
    "start_time": "2024-05-25T21:00:22.575Z"
   },
   {
    "duration": 428,
    "start_time": "2024-05-25T21:01:13.359Z"
   },
   {
    "duration": 25,
    "start_time": "2024-05-25T21:02:26.820Z"
   },
   {
    "duration": 32,
    "start_time": "2024-05-25T21:02:50.929Z"
   },
   {
    "duration": 410,
    "start_time": "2024-05-25T21:02:57.780Z"
   },
   {
    "duration": 68,
    "start_time": "2024-05-25T21:05:44.394Z"
   },
   {
    "duration": 69,
    "start_time": "2024-05-25T21:07:58.872Z"
   },
   {
    "duration": 66,
    "start_time": "2024-05-25T21:08:22.444Z"
   },
   {
    "duration": 7,
    "start_time": "2024-05-25T21:12:17.599Z"
   },
   {
    "duration": 92,
    "start_time": "2024-05-25T21:12:36.678Z"
   },
   {
    "duration": 29,
    "start_time": "2024-05-25T21:13:24.210Z"
   },
   {
    "duration": 104,
    "start_time": "2024-05-25T21:13:34.474Z"
   },
   {
    "duration": 18,
    "start_time": "2024-05-25T21:29:04.087Z"
   },
   {
    "duration": 38,
    "start_time": "2024-05-25T21:29:32.425Z"
   },
   {
    "duration": 116,
    "start_time": "2024-05-25T21:30:55.972Z"
   },
   {
    "duration": 109,
    "start_time": "2024-05-25T21:31:10.849Z"
   },
   {
    "duration": 105,
    "start_time": "2024-05-25T21:31:24.783Z"
   },
   {
    "duration": 29,
    "start_time": "2024-05-25T21:31:35.392Z"
   },
   {
    "duration": 7,
    "start_time": "2024-05-25T21:31:42.922Z"
   },
   {
    "duration": 120,
    "start_time": "2024-05-25T21:31:43.974Z"
   },
   {
    "duration": 101,
    "start_time": "2024-05-25T21:32:44.032Z"
   },
   {
    "duration": 98,
    "start_time": "2024-05-25T21:33:40.200Z"
   },
   {
    "duration": 28,
    "start_time": "2024-05-25T21:35:46.375Z"
   },
   {
    "duration": 167,
    "start_time": "2024-05-25T21:35:59.408Z"
   },
   {
    "duration": 74,
    "start_time": "2024-05-25T21:38:04.782Z"
   },
   {
    "duration": 7,
    "start_time": "2024-05-25T21:38:26.808Z"
   },
   {
    "duration": 24,
    "start_time": "2024-05-25T21:38:35.366Z"
   },
   {
    "duration": 70,
    "start_time": "2024-05-25T21:39:21.852Z"
   },
   {
    "duration": 73,
    "start_time": "2024-05-25T21:39:34.686Z"
   },
   {
    "duration": 8,
    "start_time": "2024-05-25T21:40:46.930Z"
   },
   {
    "duration": 67,
    "start_time": "2024-05-25T21:40:57.279Z"
   },
   {
    "duration": 77,
    "start_time": "2024-05-25T21:41:17.122Z"
   },
   {
    "duration": 64,
    "start_time": "2024-05-25T21:41:58.970Z"
   },
   {
    "duration": 67,
    "start_time": "2024-05-25T21:42:13.753Z"
   },
   {
    "duration": 30,
    "start_time": "2024-05-25T21:42:23.838Z"
   },
   {
    "duration": 390,
    "start_time": "2024-05-25T21:43:09.388Z"
   },
   {
    "duration": 872,
    "start_time": "2024-05-25T21:43:26.704Z"
   },
   {
    "duration": 27,
    "start_time": "2024-05-25T21:43:59.656Z"
   },
   {
    "duration": 18,
    "start_time": "2024-05-25T21:45:41.523Z"
   },
   {
    "duration": 103,
    "start_time": "2024-05-25T21:46:39.493Z"
   },
   {
    "duration": 100,
    "start_time": "2024-05-25T21:47:08.069Z"
   },
   {
    "duration": 76,
    "start_time": "2024-05-25T21:59:47.090Z"
   },
   {
    "duration": 4,
    "start_time": "2024-05-25T22:00:17.697Z"
   },
   {
    "duration": 324,
    "start_time": "2024-05-25T22:00:18.780Z"
   },
   {
    "duration": 15,
    "start_time": "2024-05-25T22:00:20.630Z"
   },
   {
    "duration": 20,
    "start_time": "2024-05-25T22:00:21.151Z"
   },
   {
    "duration": 16,
    "start_time": "2024-05-25T22:00:25.018Z"
   },
   {
    "duration": 21,
    "start_time": "2024-05-25T22:00:25.499Z"
   },
   {
    "duration": 25,
    "start_time": "2024-05-25T22:00:27.158Z"
   },
   {
    "duration": 29,
    "start_time": "2024-05-25T22:00:29.228Z"
   },
   {
    "duration": 19,
    "start_time": "2024-05-25T22:00:29.660Z"
   },
   {
    "duration": 29,
    "start_time": "2024-05-25T22:00:31.317Z"
   },
   {
    "duration": 26,
    "start_time": "2024-05-25T22:00:31.806Z"
   },
   {
    "duration": 18,
    "start_time": "2024-05-25T22:00:32.206Z"
   },
   {
    "duration": 57,
    "start_time": "2024-05-25T22:00:33.509Z"
   },
   {
    "duration": 23,
    "start_time": "2024-05-25T22:00:34.358Z"
   },
   {
    "duration": 13,
    "start_time": "2024-05-25T22:00:34.740Z"
   },
   {
    "duration": 26,
    "start_time": "2024-05-25T22:00:36.002Z"
   },
   {
    "duration": 45,
    "start_time": "2024-05-25T22:00:39.247Z"
   },
   {
    "duration": 26,
    "start_time": "2024-05-25T22:00:39.585Z"
   },
   {
    "duration": 12,
    "start_time": "2024-05-25T22:00:39.778Z"
   },
   {
    "duration": 38,
    "start_time": "2024-05-25T22:00:40.621Z"
   },
   {
    "duration": 55,
    "start_time": "2024-05-25T22:00:41.203Z"
   },
   {
    "duration": 47,
    "start_time": "2024-05-25T22:00:41.729Z"
   },
   {
    "duration": 31,
    "start_time": "2024-05-25T22:00:42.058Z"
   },
   {
    "duration": 31,
    "start_time": "2024-05-25T22:00:42.262Z"
   },
   {
    "duration": 28,
    "start_time": "2024-05-25T22:00:42.893Z"
   },
   {
    "duration": 29,
    "start_time": "2024-05-25T22:00:43.136Z"
   },
   {
    "duration": 24,
    "start_time": "2024-05-25T22:00:43.530Z"
   },
   {
    "duration": 24,
    "start_time": "2024-05-25T22:00:43.812Z"
   },
   {
    "duration": 28,
    "start_time": "2024-05-25T22:00:44.050Z"
   },
   {
    "duration": 31,
    "start_time": "2024-05-25T22:00:44.255Z"
   },
   {
    "duration": 10,
    "start_time": "2024-05-25T22:00:44.760Z"
   },
   {
    "duration": 183,
    "start_time": "2024-05-25T22:00:45.007Z"
   },
   {
    "duration": 18,
    "start_time": "2024-05-25T22:00:47.379Z"
   },
   {
    "duration": 30,
    "start_time": "2024-05-25T22:00:50.006Z"
   },
   {
    "duration": 98,
    "start_time": "2024-05-25T22:00:50.571Z"
   },
   {
    "duration": 18,
    "start_time": "2024-05-25T22:00:51.905Z"
   },
   {
    "duration": 25,
    "start_time": "2024-05-25T22:00:52.634Z"
   },
   {
    "duration": 6,
    "start_time": "2024-05-25T22:00:53.974Z"
   },
   {
    "duration": 9,
    "start_time": "2024-05-25T22:01:06.092Z"
   },
   {
    "duration": 26,
    "start_time": "2024-05-25T22:01:16.812Z"
   },
   {
    "duration": 29,
    "start_time": "2024-05-25T22:01:22.273Z"
   },
   {
    "duration": 389,
    "start_time": "2024-05-25T22:01:22.521Z"
   },
   {
    "duration": 966,
    "start_time": "2024-05-25T22:01:22.916Z"
   },
   {
    "duration": 48,
    "start_time": "2024-05-25T22:01:23.886Z"
   },
   {
    "duration": 1120,
    "start_time": "2024-05-25T22:01:23.938Z"
   },
   {
    "duration": 31,
    "start_time": "2024-05-25T22:01:25.064Z"
   },
   {
    "duration": 475,
    "start_time": "2024-05-25T22:01:25.099Z"
   },
   {
    "duration": 50,
    "start_time": "2024-05-25T22:01:25.579Z"
   },
   {
    "duration": 417,
    "start_time": "2024-05-25T22:01:25.632Z"
   },
   {
    "duration": 35,
    "start_time": "2024-05-25T22:01:30.801Z"
   },
   {
    "duration": 403,
    "start_time": "2024-05-25T22:01:31.710Z"
   },
   {
    "duration": 902,
    "start_time": "2024-05-25T22:01:32.511Z"
   },
   {
    "duration": 28,
    "start_time": "2024-05-25T22:01:33.426Z"
   },
   {
    "duration": 19,
    "start_time": "2024-05-25T22:01:37.463Z"
   },
   {
    "duration": 17,
    "start_time": "2024-05-25T22:01:39.224Z"
   },
   {
    "duration": 32,
    "start_time": "2024-05-25T22:04:53.195Z"
   },
   {
    "duration": 390,
    "start_time": "2024-05-25T22:05:15.139Z"
   },
   {
    "duration": 951,
    "start_time": "2024-05-25T22:05:40.181Z"
   },
   {
    "duration": 821,
    "start_time": "2024-05-25T22:05:58.064Z"
   },
   {
    "duration": 16,
    "start_time": "2024-05-25T22:09:01.790Z"
   },
   {
    "duration": 6,
    "start_time": "2024-05-25T22:09:19.764Z"
   },
   {
    "duration": 5,
    "start_time": "2024-05-25T22:10:07.300Z"
   },
   {
    "duration": 4725,
    "start_time": "2024-05-25T22:29:46.977Z"
   },
   {
    "duration": 378,
    "start_time": "2024-05-25T22:29:51.706Z"
   },
   {
    "duration": 17,
    "start_time": "2024-05-25T22:29:52.087Z"
   },
   {
    "duration": 32,
    "start_time": "2024-05-25T22:29:52.108Z"
   },
   {
    "duration": 14,
    "start_time": "2024-05-25T22:29:52.144Z"
   },
   {
    "duration": 18,
    "start_time": "2024-05-25T22:29:52.161Z"
   },
   {
    "duration": 57,
    "start_time": "2024-05-25T22:29:52.183Z"
   },
   {
    "duration": 30,
    "start_time": "2024-05-25T22:29:52.244Z"
   },
   {
    "duration": 20,
    "start_time": "2024-05-25T22:29:52.278Z"
   },
   {
    "duration": 31,
    "start_time": "2024-05-25T22:29:52.335Z"
   },
   {
    "duration": 23,
    "start_time": "2024-05-25T22:29:52.369Z"
   },
   {
    "duration": 40,
    "start_time": "2024-05-25T22:29:52.394Z"
   },
   {
    "duration": 54,
    "start_time": "2024-05-25T22:29:52.438Z"
   },
   {
    "duration": 46,
    "start_time": "2024-05-25T22:29:52.495Z"
   },
   {
    "duration": 11,
    "start_time": "2024-05-25T22:29:52.544Z"
   },
   {
    "duration": 25,
    "start_time": "2024-05-25T22:29:52.558Z"
   },
   {
    "duration": 73,
    "start_time": "2024-05-25T22:29:52.586Z"
   },
   {
    "duration": 22,
    "start_time": "2024-05-25T22:29:52.662Z"
   },
   {
    "duration": 11,
    "start_time": "2024-05-25T22:29:52.687Z"
   },
   {
    "duration": 61,
    "start_time": "2024-05-25T22:29:52.701Z"
   },
   {
    "duration": 43,
    "start_time": "2024-05-25T22:29:52.765Z"
   },
   {
    "duration": 38,
    "start_time": "2024-05-25T22:29:52.831Z"
   },
   {
    "duration": 28,
    "start_time": "2024-05-25T22:29:52.872Z"
   },
   {
    "duration": 29,
    "start_time": "2024-05-25T22:29:52.932Z"
   },
   {
    "duration": 21,
    "start_time": "2024-05-25T22:29:52.964Z"
   },
   {
    "duration": 56,
    "start_time": "2024-05-25T22:29:52.988Z"
   },
   {
    "duration": 21,
    "start_time": "2024-05-25T22:29:53.048Z"
   },
   {
    "duration": 51,
    "start_time": "2024-05-25T22:29:53.079Z"
   },
   {
    "duration": 27,
    "start_time": "2024-05-25T22:29:53.133Z"
   },
   {
    "duration": 28,
    "start_time": "2024-05-25T22:29:53.162Z"
   },
   {
    "duration": 41,
    "start_time": "2024-05-25T22:29:53.193Z"
   },
   {
    "duration": 228,
    "start_time": "2024-05-25T22:29:53.236Z"
   },
   {
    "duration": 15,
    "start_time": "2024-05-25T22:29:53.466Z"
   },
   {
    "duration": 46,
    "start_time": "2024-05-25T22:29:53.484Z"
   },
   {
    "duration": 2041,
    "start_time": "2024-05-25T22:29:53.533Z"
   },
   {
    "duration": 0,
    "start_time": "2024-05-25T22:29:55.577Z"
   },
   {
    "duration": 0,
    "start_time": "2024-05-25T22:29:55.579Z"
   },
   {
    "duration": 0,
    "start_time": "2024-05-25T22:29:55.581Z"
   },
   {
    "duration": 0,
    "start_time": "2024-05-25T22:29:55.584Z"
   },
   {
    "duration": 0,
    "start_time": "2024-05-25T22:29:55.586Z"
   },
   {
    "duration": 0,
    "start_time": "2024-05-25T22:29:55.588Z"
   },
   {
    "duration": 0,
    "start_time": "2024-05-25T22:29:55.590Z"
   },
   {
    "duration": 0,
    "start_time": "2024-05-25T22:29:55.592Z"
   },
   {
    "duration": 0,
    "start_time": "2024-05-25T22:29:55.594Z"
   },
   {
    "duration": 0,
    "start_time": "2024-05-25T22:29:55.596Z"
   },
   {
    "duration": 0,
    "start_time": "2024-05-25T22:29:55.598Z"
   },
   {
    "duration": 0,
    "start_time": "2024-05-25T22:29:55.632Z"
   },
   {
    "duration": 0,
    "start_time": "2024-05-25T22:29:55.635Z"
   },
   {
    "duration": 0,
    "start_time": "2024-05-25T22:29:55.637Z"
   },
   {
    "duration": 0,
    "start_time": "2024-05-25T22:29:55.640Z"
   },
   {
    "duration": 0,
    "start_time": "2024-05-25T22:29:55.642Z"
   },
   {
    "duration": 0,
    "start_time": "2024-05-25T22:29:55.645Z"
   },
   {
    "duration": 0,
    "start_time": "2024-05-25T22:29:55.647Z"
   },
   {
    "duration": 0,
    "start_time": "2024-05-25T22:29:55.649Z"
   },
   {
    "duration": 0,
    "start_time": "2024-05-25T22:29:55.651Z"
   },
   {
    "duration": 0,
    "start_time": "2024-05-25T22:29:55.654Z"
   },
   {
    "duration": 0,
    "start_time": "2024-05-25T22:29:55.656Z"
   },
   {
    "duration": 0,
    "start_time": "2024-05-25T22:29:55.658Z"
   },
   {
    "duration": 0,
    "start_time": "2024-05-25T22:29:55.662Z"
   },
   {
    "duration": 6,
    "start_time": "2024-05-25T22:30:40.673Z"
   },
   {
    "duration": 13,
    "start_time": "2024-05-25T22:30:41.343Z"
   },
   {
    "duration": 23,
    "start_time": "2024-05-25T22:30:41.489Z"
   },
   {
    "duration": 6,
    "start_time": "2024-05-25T22:30:41.647Z"
   },
   {
    "duration": 72,
    "start_time": "2024-05-25T22:30:41.818Z"
   },
   {
    "duration": 27,
    "start_time": "2024-05-25T22:30:41.933Z"
   },
   {
    "duration": 26,
    "start_time": "2024-05-25T22:30:42.541Z"
   },
   {
    "duration": 377,
    "start_time": "2024-05-25T22:30:42.686Z"
   },
   {
    "duration": 689,
    "start_time": "2024-05-25T22:30:43.199Z"
   },
   {
    "duration": 41,
    "start_time": "2024-05-25T22:30:43.891Z"
   },
   {
    "duration": 896,
    "start_time": "2024-05-25T22:30:43.937Z"
   },
   {
    "duration": 24,
    "start_time": "2024-05-25T22:30:44.838Z"
   },
   {
    "duration": 489,
    "start_time": "2024-05-25T22:30:44.865Z"
   },
   {
    "duration": 24,
    "start_time": "2024-05-25T22:30:45.359Z"
   },
   {
    "duration": 376,
    "start_time": "2024-05-25T22:30:45.385Z"
   },
   {
    "duration": 23,
    "start_time": "2024-05-25T22:30:45.764Z"
   },
   {
    "duration": 433,
    "start_time": "2024-05-25T22:30:45.790Z"
   },
   {
    "duration": 697,
    "start_time": "2024-05-25T22:30:46.233Z"
   },
   {
    "duration": 24,
    "start_time": "2024-05-25T22:30:46.933Z"
   },
   {
    "duration": 350,
    "start_time": "2024-05-25T22:30:46.961Z"
   },
   {
    "duration": 816,
    "start_time": "2024-05-25T22:30:47.314Z"
   },
   {
    "duration": 22,
    "start_time": "2024-05-25T22:30:48.133Z"
   },
   {
    "duration": 19,
    "start_time": "2024-05-25T22:30:48.158Z"
   },
   {
    "duration": 13,
    "start_time": "2024-05-25T22:30:48.181Z"
   },
   {
    "duration": 313,
    "start_time": "2024-05-26T18:57:20.748Z"
   },
   {
    "duration": 4875,
    "start_time": "2024-05-26T18:57:35.070Z"
   },
   {
    "duration": 338,
    "start_time": "2024-05-26T18:57:39.950Z"
   },
   {
    "duration": 18,
    "start_time": "2024-05-26T18:57:40.291Z"
   },
   {
    "duration": 15,
    "start_time": "2024-05-26T18:57:40.313Z"
   },
   {
    "duration": 16,
    "start_time": "2024-05-26T18:57:40.334Z"
   },
   {
    "duration": 52,
    "start_time": "2024-05-26T18:57:40.357Z"
   },
   {
    "duration": 21,
    "start_time": "2024-05-26T18:57:40.412Z"
   },
   {
    "duration": 24,
    "start_time": "2024-05-26T18:57:40.656Z"
   },
   {
    "duration": 14,
    "start_time": "2024-05-26T18:57:40.820Z"
   },
   {
    "duration": 30,
    "start_time": "2024-05-26T18:57:41.490Z"
   },
   {
    "duration": 20,
    "start_time": "2024-05-26T18:57:41.648Z"
   },
   {
    "duration": 14,
    "start_time": "2024-05-26T18:57:41.813Z"
   },
   {
    "duration": 54,
    "start_time": "2024-05-26T18:57:42.421Z"
   },
   {
    "duration": 21,
    "start_time": "2024-05-26T18:57:43.146Z"
   },
   {
    "duration": 12,
    "start_time": "2024-05-26T18:57:43.371Z"
   },
   {
    "duration": 25,
    "start_time": "2024-05-26T18:57:44.159Z"
   },
   {
    "duration": 36,
    "start_time": "2024-05-26T18:57:45.140Z"
   },
   {
    "duration": 24,
    "start_time": "2024-05-26T18:57:45.551Z"
   },
   {
    "duration": 17,
    "start_time": "2024-05-26T18:57:45.797Z"
   },
   {
    "duration": 29,
    "start_time": "2024-05-26T18:57:46.869Z"
   },
   {
    "duration": 43,
    "start_time": "2024-05-26T18:57:47.762Z"
   },
   {
    "duration": 38,
    "start_time": "2024-05-26T18:57:49.029Z"
   },
   {
    "duration": 30,
    "start_time": "2024-05-26T18:57:49.939Z"
   },
   {
    "duration": 26,
    "start_time": "2024-05-26T18:57:50.378Z"
   },
   {
    "duration": 20,
    "start_time": "2024-05-26T18:57:50.796Z"
   },
   {
    "duration": 27,
    "start_time": "2024-05-26T18:57:51.210Z"
   },
   {
    "duration": 22,
    "start_time": "2024-05-26T18:57:52.062Z"
   },
   {
    "duration": 22,
    "start_time": "2024-05-26T18:57:52.484Z"
   },
   {
    "duration": 26,
    "start_time": "2024-05-26T18:57:52.905Z"
   },
   {
    "duration": 27,
    "start_time": "2024-05-26T18:57:53.295Z"
   },
   {
    "duration": 12,
    "start_time": "2024-05-26T18:57:54.618Z"
   },
   {
    "duration": 159,
    "start_time": "2024-05-26T18:57:55.094Z"
   },
   {
    "duration": 15,
    "start_time": "2024-05-26T18:57:55.785Z"
   },
   {
    "duration": 25,
    "start_time": "2024-05-26T18:57:56.360Z"
   },
   {
    "duration": 10,
    "start_time": "2024-05-26T18:57:57.392Z"
   },
   {
    "duration": 16,
    "start_time": "2024-05-26T18:58:04.176Z"
   },
   {
    "duration": 31,
    "start_time": "2024-05-26T18:58:04.797Z"
   },
   {
    "duration": 6,
    "start_time": "2024-05-26T18:58:05.626Z"
   },
   {
    "duration": 9,
    "start_time": "2024-05-26T18:58:10.889Z"
   },
   {
    "duration": 21,
    "start_time": "2024-05-26T18:58:11.658Z"
   },
   {
    "duration": 7,
    "start_time": "2024-05-26T18:58:28.224Z"
   },
   {
    "duration": 12,
    "start_time": "2024-05-26T18:58:34.773Z"
   },
   {
    "duration": 22,
    "start_time": "2024-05-26T18:58:35.333Z"
   },
   {
    "duration": 6,
    "start_time": "2024-05-26T18:58:35.955Z"
   },
   {
    "duration": 1425,
    "start_time": "2024-05-26T18:58:36.608Z"
   },
   {
    "duration": 0,
    "start_time": "2024-05-26T18:58:38.036Z"
   },
   {
    "duration": 70,
    "start_time": "2024-05-26T18:58:49.846Z"
   },
   {
    "duration": 23,
    "start_time": "2024-05-26T18:58:58.796Z"
   },
   {
    "duration": 26,
    "start_time": "2024-05-26T18:59:09.906Z"
   },
   {
    "duration": 471,
    "start_time": "2024-05-26T18:59:10.712Z"
   },
   {
    "duration": 694,
    "start_time": "2024-05-26T18:59:11.435Z"
   },
   {
    "duration": 4,
    "start_time": "2024-05-26T19:44:14.481Z"
   },
   {
    "duration": 4870,
    "start_time": "2024-05-27T21:41:19.251Z"
   },
   {
    "duration": 363,
    "start_time": "2024-05-27T21:41:24.125Z"
   },
   {
    "duration": 18,
    "start_time": "2024-05-27T21:41:27.257Z"
   },
   {
    "duration": 16,
    "start_time": "2024-05-27T21:41:29.032Z"
   },
   {
    "duration": 15,
    "start_time": "2024-05-27T21:41:33.809Z"
   },
   {
    "duration": 17,
    "start_time": "2024-05-27T21:41:34.354Z"
   },
   {
    "duration": 19,
    "start_time": "2024-05-27T21:41:36.708Z"
   },
   {
    "duration": 26,
    "start_time": "2024-05-27T21:41:39.450Z"
   },
   {
    "duration": 14,
    "start_time": "2024-05-27T21:41:40.346Z"
   },
   {
    "duration": 30,
    "start_time": "2024-05-27T21:41:42.224Z"
   },
   {
    "duration": 22,
    "start_time": "2024-05-27T21:41:42.677Z"
   },
   {
    "duration": 12,
    "start_time": "2024-05-27T21:41:43.207Z"
   },
   {
    "duration": 53,
    "start_time": "2024-05-27T21:41:44.441Z"
   },
   {
    "duration": 19,
    "start_time": "2024-05-27T21:41:45.456Z"
   },
   {
    "duration": 9,
    "start_time": "2024-05-27T21:41:46.101Z"
   },
   {
    "duration": 23,
    "start_time": "2024-05-27T21:41:47.679Z"
   },
   {
    "duration": 35,
    "start_time": "2024-05-27T21:41:49.087Z"
   },
   {
    "duration": 22,
    "start_time": "2024-05-27T21:41:50.128Z"
   },
   {
    "duration": 11,
    "start_time": "2024-05-27T21:41:50.708Z"
   },
   {
    "duration": 33,
    "start_time": "2024-05-27T21:41:53.450Z"
   },
   {
    "duration": 43,
    "start_time": "2024-05-27T21:41:57.698Z"
   },
   {
    "duration": 35,
    "start_time": "2024-05-27T21:42:00.438Z"
   },
   {
    "duration": 28,
    "start_time": "2024-05-27T21:42:01.021Z"
   },
   {
    "duration": 32,
    "start_time": "2024-05-27T21:42:01.633Z"
   },
   {
    "duration": 20,
    "start_time": "2024-05-27T21:42:01.909Z"
   },
   {
    "duration": 26,
    "start_time": "2024-05-27T21:42:02.278Z"
   },
   {
    "duration": 21,
    "start_time": "2024-05-27T21:42:03.354Z"
   },
   {
    "duration": 23,
    "start_time": "2024-05-27T21:42:03.929Z"
   },
   {
    "duration": 23,
    "start_time": "2024-05-27T21:42:04.466Z"
   },
   {
    "duration": 29,
    "start_time": "2024-05-27T21:42:05.004Z"
   },
   {
    "duration": 9,
    "start_time": "2024-05-27T21:42:06.919Z"
   },
   {
    "duration": 155,
    "start_time": "2024-05-27T21:42:07.922Z"
   },
   {
    "duration": 17,
    "start_time": "2024-05-27T21:42:08.408Z"
   },
   {
    "duration": 22,
    "start_time": "2024-05-27T21:42:09.052Z"
   },
   {
    "duration": 1229,
    "start_time": "2024-05-27T21:42:10.620Z"
   },
   {
    "duration": 16,
    "start_time": "2024-05-27T21:42:31.340Z"
   },
   {
    "duration": 91,
    "start_time": "2024-05-27T21:42:38.814Z"
   },
   {
    "duration": 14,
    "start_time": "2024-05-27T21:42:49.468Z"
   },
   {
    "duration": 33,
    "start_time": "2024-05-27T21:42:50.079Z"
   },
   {
    "duration": 6,
    "start_time": "2024-05-27T21:42:50.554Z"
   },
   {
    "duration": 9,
    "start_time": "2024-05-27T21:42:51.239Z"
   },
   {
    "duration": 7,
    "start_time": "2024-05-27T21:42:59.349Z"
   },
   {
    "duration": 25,
    "start_time": "2024-05-27T21:43:07.800Z"
   },
   {
    "duration": 381,
    "start_time": "2024-05-27T21:43:08.680Z"
   },
   {
    "duration": 774,
    "start_time": "2024-05-27T21:43:09.450Z"
   },
   {
    "duration": 28,
    "start_time": "2024-05-27T21:43:11.240Z"
   },
   {
    "duration": 930,
    "start_time": "2024-05-27T21:43:12.102Z"
   },
   {
    "duration": 22,
    "start_time": "2024-05-27T21:43:13.874Z"
   },
   {
    "duration": 370,
    "start_time": "2024-05-27T21:43:14.401Z"
   },
   {
    "duration": 30,
    "start_time": "2024-05-27T21:43:14.948Z"
   },
   {
    "duration": 361,
    "start_time": "2024-05-27T21:43:15.313Z"
   },
   {
    "duration": 23,
    "start_time": "2024-05-27T21:43:17.493Z"
   },
   {
    "duration": 344,
    "start_time": "2024-05-27T21:43:17.924Z"
   },
   {
    "duration": 674,
    "start_time": "2024-05-27T21:43:18.365Z"
   },
   {
    "duration": 23,
    "start_time": "2024-05-27T21:43:19.706Z"
   },
   {
    "duration": 456,
    "start_time": "2024-05-27T21:43:19.900Z"
   },
   {
    "duration": 800,
    "start_time": "2024-05-27T21:43:20.449Z"
   },
   {
    "duration": 22,
    "start_time": "2024-05-27T21:43:21.252Z"
   },
   {
    "duration": 14,
    "start_time": "2024-05-27T21:43:21.495Z"
   },
   {
    "duration": 4,
    "start_time": "2024-05-27T21:43:21.733Z"
   },
   {
    "duration": 14,
    "start_time": "2024-05-27T21:43:25.373Z"
   },
   {
    "duration": 35,
    "start_time": "2024-05-27T21:43:27.195Z"
   },
   {
    "duration": 774,
    "start_time": "2024-05-27T21:44:37.305Z"
   },
   {
    "duration": 13,
    "start_time": "2024-05-27T21:45:49.301Z"
   },
   {
    "duration": 13,
    "start_time": "2024-05-27T21:47:05.857Z"
   },
   {
    "duration": 22,
    "start_time": "2024-05-27T22:01:47.050Z"
   },
   {
    "duration": 64,
    "start_time": "2024-05-27T22:03:13.344Z"
   },
   {
    "duration": 34,
    "start_time": "2024-05-27T22:03:46.308Z"
   },
   {
    "duration": 35,
    "start_time": "2024-05-27T22:05:33.505Z"
   },
   {
    "duration": 318,
    "start_time": "2024-05-28T14:11:33.223Z"
   },
   {
    "duration": 4848,
    "start_time": "2024-05-28T15:01:16.004Z"
   },
   {
    "duration": 401,
    "start_time": "2024-05-28T15:01:20.856Z"
   },
   {
    "duration": 17,
    "start_time": "2024-05-28T15:01:23.401Z"
   },
   {
    "duration": 17,
    "start_time": "2024-05-28T15:01:23.997Z"
   },
   {
    "duration": 18,
    "start_time": "2024-05-28T15:01:26.757Z"
   },
   {
    "duration": 47,
    "start_time": "2024-05-28T15:01:26.904Z"
   },
   {
    "duration": 30,
    "start_time": "2024-05-28T15:01:27.987Z"
   },
   {
    "duration": 26,
    "start_time": "2024-05-28T15:01:29.317Z"
   },
   {
    "duration": 15,
    "start_time": "2024-05-28T15:01:29.563Z"
   },
   {
    "duration": 31,
    "start_time": "2024-05-28T15:01:30.930Z"
   },
   {
    "duration": 31,
    "start_time": "2024-05-28T15:01:31.238Z"
   },
   {
    "duration": 17,
    "start_time": "2024-05-28T15:01:31.573Z"
   },
   {
    "duration": 71,
    "start_time": "2024-05-28T15:01:32.593Z"
   },
   {
    "duration": 20,
    "start_time": "2024-05-28T15:01:33.207Z"
   },
   {
    "duration": 10,
    "start_time": "2024-05-28T15:01:33.443Z"
   },
   {
    "duration": 24,
    "start_time": "2024-05-28T15:01:34.643Z"
   },
   {
    "duration": 36,
    "start_time": "2024-05-28T15:01:35.563Z"
   },
   {
    "duration": 22,
    "start_time": "2024-05-28T15:01:36.078Z"
   },
   {
    "duration": 11,
    "start_time": "2024-05-28T15:01:36.329Z"
   },
   {
    "duration": 31,
    "start_time": "2024-05-28T15:01:37.305Z"
   },
   {
    "duration": 48,
    "start_time": "2024-05-28T15:01:37.928Z"
   },
   {
    "duration": 36,
    "start_time": "2024-05-28T15:01:38.737Z"
   },
   {
    "duration": 30,
    "start_time": "2024-05-28T15:01:39.249Z"
   },
   {
    "duration": 26,
    "start_time": "2024-05-28T15:01:39.381Z"
   },
   {
    "duration": 19,
    "start_time": "2024-05-28T15:01:39.613Z"
   },
   {
    "duration": 27,
    "start_time": "2024-05-28T15:01:39.802Z"
   },
   {
    "duration": 22,
    "start_time": "2024-05-28T15:01:40.273Z"
   },
   {
    "duration": 23,
    "start_time": "2024-05-28T15:01:40.478Z"
   },
   {
    "duration": 23,
    "start_time": "2024-05-28T15:01:40.678Z"
   },
   {
    "duration": 27,
    "start_time": "2024-05-28T15:01:40.883Z"
   },
   {
    "duration": 17,
    "start_time": "2024-05-28T15:01:41.405Z"
   },
   {
    "duration": 166,
    "start_time": "2024-05-28T15:01:41.542Z"
   },
   {
    "duration": 19,
    "start_time": "2024-05-28T15:01:41.811Z"
   },
   {
    "duration": 22,
    "start_time": "2024-05-28T15:01:42.590Z"
   },
   {
    "duration": 1294,
    "start_time": "2024-05-28T15:01:43.140Z"
   },
   {
    "duration": 0,
    "start_time": "2024-05-28T15:01:44.438Z"
   },
   {
    "duration": 32,
    "start_time": "2024-05-28T15:01:44.463Z"
   },
   {
    "duration": 7,
    "start_time": "2024-05-28T15:01:45.086Z"
   },
   {
    "duration": 85,
    "start_time": "2024-05-28T15:01:45.599Z"
   },
   {
    "duration": 23,
    "start_time": "2024-05-28T15:01:45.783Z"
   },
   {
    "duration": 29,
    "start_time": "2024-05-28T15:01:47.134Z"
   },
   {
    "duration": 372,
    "start_time": "2024-05-28T15:01:47.240Z"
   },
   {
    "duration": 739,
    "start_time": "2024-05-28T15:01:47.867Z"
   },
   {
    "duration": 26,
    "start_time": "2024-05-28T15:01:48.610Z"
   },
   {
    "duration": 967,
    "start_time": "2024-05-28T15:01:49.285Z"
   },
   {
    "duration": 23,
    "start_time": "2024-05-28T15:01:50.719Z"
   },
   {
    "duration": 355,
    "start_time": "2024-05-28T15:01:51.435Z"
   },
   {
    "duration": 27,
    "start_time": "2024-05-28T15:01:51.947Z"
   },
   {
    "duration": 344,
    "start_time": "2024-05-28T15:01:52.459Z"
   },
   {
    "duration": 23,
    "start_time": "2024-05-28T15:01:53.937Z"
   },
   {
    "duration": 371,
    "start_time": "2024-05-28T15:01:54.405Z"
   },
   {
    "duration": 695,
    "start_time": "2024-05-28T15:01:54.951Z"
   },
   {
    "duration": 168,
    "start_time": "2024-05-28T15:01:57.067Z"
   },
   {
    "duration": 24,
    "start_time": "2024-05-28T15:01:57.581Z"
   },
   {
    "duration": 506,
    "start_time": "2024-05-28T15:02:00.344Z"
   },
   {
    "duration": 279,
    "start_time": "2024-05-28T15:02:00.875Z"
   },
   {
    "duration": 86,
    "start_time": "2024-05-28T15:02:04.523Z"
   },
   {
    "duration": 3,
    "start_time": "2024-05-28T15:02:05.259Z"
   },
   {
    "duration": 81,
    "start_time": "2024-05-28T15:02:49.291Z"
   },
   {
    "duration": 15,
    "start_time": "2024-05-28T15:02:53.596Z"
   },
   {
    "duration": 24,
    "start_time": "2024-05-28T15:02:54.412Z"
   },
   {
    "duration": 6,
    "start_time": "2024-05-28T15:02:55.026Z"
   },
   {
    "duration": 8,
    "start_time": "2024-05-28T15:02:55.640Z"
   },
   {
    "duration": 21,
    "start_time": "2024-05-28T15:02:56.562Z"
   },
   {
    "duration": 27,
    "start_time": "2024-05-28T15:02:58.997Z"
   },
   {
    "duration": 339,
    "start_time": "2024-05-28T15:02:59.719Z"
   },
   {
    "duration": 22,
    "start_time": "2024-05-28T15:03:31.206Z"
   },
   {
    "duration": 10,
    "start_time": "2024-05-28T15:03:32.094Z"
   },
   {
    "duration": 12,
    "start_time": "2024-05-28T15:03:34.144Z"
   },
   {
    "duration": 24,
    "start_time": "2024-05-28T15:03:34.551Z"
   },
   {
    "duration": 8,
    "start_time": "2024-05-28T15:03:35.058Z"
   },
   {
    "duration": 748,
    "start_time": "2024-05-28T15:03:35.781Z"
   },
   {
    "duration": 0,
    "start_time": "2024-05-28T15:03:36.532Z"
   },
   {
    "duration": 70,
    "start_time": "2024-05-28T15:03:47.152Z"
   },
   {
    "duration": 26,
    "start_time": "2024-05-28T15:03:52.985Z"
   },
   {
    "duration": 343,
    "start_time": "2024-05-28T15:03:53.599Z"
   },
   {
    "duration": 728,
    "start_time": "2024-05-28T15:03:54.214Z"
   },
   {
    "duration": 22,
    "start_time": "2024-05-28T15:03:55.272Z"
   },
   {
    "duration": 855,
    "start_time": "2024-05-28T15:03:55.853Z"
   },
   {
    "duration": 23,
    "start_time": "2024-05-28T15:03:57.389Z"
   },
   {
    "duration": 359,
    "start_time": "2024-05-28T15:03:57.900Z"
   },
   {
    "duration": 21,
    "start_time": "2024-05-28T15:03:58.515Z"
   },
   {
    "duration": 363,
    "start_time": "2024-05-28T15:03:58.999Z"
   },
   {
    "duration": 30,
    "start_time": "2024-05-28T15:04:01.382Z"
   },
   {
    "duration": 434,
    "start_time": "2024-05-28T15:04:01.941Z"
   },
   {
    "duration": 718,
    "start_time": "2024-05-28T15:04:02.610Z"
   },
   {
    "duration": 39,
    "start_time": "2024-05-28T15:04:05.375Z"
   },
   {
    "duration": 502,
    "start_time": "2024-05-28T15:04:06.298Z"
   },
   {
    "duration": 814,
    "start_time": "2024-05-28T15:04:07.014Z"
   },
   {
    "duration": 22,
    "start_time": "2024-05-28T15:04:14.081Z"
   },
   {
    "duration": 15,
    "start_time": "2024-05-28T15:04:19.616Z"
   },
   {
    "duration": 4,
    "start_time": "2024-05-28T15:04:20.562Z"
   },
   {
    "duration": 18,
    "start_time": "2024-05-28T15:04:38.104Z"
   },
   {
    "duration": 13,
    "start_time": "2024-05-28T15:04:40.921Z"
   },
   {
    "duration": 33,
    "start_time": "2024-05-28T15:10:38.721Z"
   },
   {
    "duration": 14,
    "start_time": "2024-05-28T15:10:51.220Z"
   },
   {
    "duration": 5,
    "start_time": "2024-05-28T15:16:26.675Z"
   },
   {
    "duration": 4,
    "start_time": "2024-05-28T15:16:37.529Z"
   },
   {
    "duration": 15,
    "start_time": "2024-05-28T15:16:54.770Z"
   },
   {
    "duration": 3,
    "start_time": "2024-05-28T15:18:26.799Z"
   }
  ],
  "colab": {
   "provenance": []
  },
  "kernelspec": {
   "display_name": "Python 3 (ipykernel)",
   "language": "python",
   "name": "python3"
  },
  "language_info": {
   "codemirror_mode": {
    "name": "ipython",
    "version": 3
   },
   "file_extension": ".py",
   "mimetype": "text/x-python",
   "name": "python",
   "nbconvert_exporter": "python",
   "pygments_lexer": "ipython3",
   "version": "3.9.19"
  },
  "toc": {
   "base_numbering": 1,
   "nav_menu": {},
   "number_sections": true,
   "sideBar": true,
   "skip_h1_title": false,
   "title_cell": "Table of Contents",
   "title_sidebar": "Contents",
   "toc_cell": false,
   "toc_position": {
    "height": "calc(100% - 180px)",
    "left": "10px",
    "top": "150px",
    "width": "268px"
   },
   "toc_section_display": true,
   "toc_window_display": true
  }
 },
 "nbformat": 4,
 "nbformat_minor": 1
}
